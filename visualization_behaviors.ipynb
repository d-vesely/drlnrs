{
 "cells": [
  {
   "cell_type": "code",
   "execution_count": null,
   "metadata": {
    "collapsed": true,
    "pycharm": {
     "is_executing": true
    }
   },
   "outputs": [],
   "source": [
    "import plotly.express as px\n",
    "import plotly.graph_objects as go\n",
    "import plotly.io as pio\n",
    "pio.templates\n",
    "\n",
    "import src.constants as constants\n",
    "from src.common_utils import read_pickled_data"
   ]
  },
  {
   "attachments": {},
   "cell_type": "markdown",
   "metadata": {},
   "source": [
    "# Template"
   ]
  },
  {
   "cell_type": "code",
   "execution_count": null,
   "metadata": {
    "collapsed": false
   },
   "outputs": [],
   "source": [
    "green_dark = \"rgb(75, 184, 135)\"\n",
    "green_light = \"rgb(114, 224, 175)\"\n",
    "grey = \"rgb(158, 158, 158)\"\n",
    "grey_light = \"rgb(224, 224, 224)\"\n",
    "\n",
    "axis_common_dict = dict(\n",
    "    linecolor=\"black\",\n",
    "    linewidth=2,\n",
    "    ticks=\"outside\",\n",
    "    title=dict(standoff=15),\n",
    ")\n",
    "\n",
    "template = go.layout.Template()\n",
    "template.layout = dict(\n",
    "    paper_bgcolor=\"white\",\n",
    "    plot_bgcolor=grey_light,\n",
    "    colorway=[green_light, \"blue\", \"red\", \"orange\"],\n",
    "    font=dict(color=\"black\"),\n",
    "    title=dict(\n",
    "        font=dict(size=18),\n",
    "        x=0.1, xanchor=\"left\",\n",
    "        y=0.9, yanchor=\"top\"\n",
    "    ),\n",
    "    xaxis=dict(\n",
    "        **axis_common_dict,\n",
    "    ),\n",
    "    yaxis=dict(\n",
    "        **axis_common_dict,\n",
    "        gridcolor=grey\n",
    "    )\n",
    ")\n",
    "template.data.histogram = [go.Histogram(marker=dict(line=dict(width=2, color=green_dark)))]"
   ]
  },
  {
   "attachments": {},
   "cell_type": "markdown",
   "metadata": {},
   "source": [
    "# Reading Data and Stats"
   ]
  },
  {
   "cell_type": "code",
   "execution_count": null,
   "metadata": {
    "collapsed": false
   },
   "outputs": [],
   "source": [
    "data_behaviors_pp = read_pickled_data([constants.CONCAT_TRAINFULL_PATH, \"preprocessed\", \"exp_behaviors.pkl\"])\n",
    "data_users_pp = read_pickled_data([constants.CONCAT_TRAINFULL_PATH, \"preprocessed\", \"exp_users.pkl\"])"
   ]
  },
  {
   "cell_type": "code",
   "execution_count": null,
   "metadata": {},
   "outputs": [],
   "source": [
    "stats = read_pickled_data([constants.CONCAT_TRAINFULL_PATH, \"preprocessed\", \"exp_stats.pkl\"])\n",
    "stats"
   ]
  },
  {
   "attachments": {},
   "cell_type": "markdown",
   "metadata": {},
   "source": [
    "# Figures"
   ]
  },
  {
   "attachments": {},
   "cell_type": "markdown",
   "metadata": {},
   "source": [
    "Histogram of history length."
   ]
  },
  {
   "cell_type": "code",
   "execution_count": null,
   "metadata": {
    "collapsed": false
   },
   "outputs": [],
   "source": [
    "fig = px.histogram(\n",
    "    data_users_pp,\n",
    "    x=\"history_length\",\n",
    "    range_x=[-1, 60],\n",
    "    labels={\n",
    "        \"history_length\": \"History Length\",\n",
    "        \"count\": \"Number of Users\" # Issue with plotly\n",
    "    },\n",
    "    title=\"User History Lengths Histogram\",\n",
    "    width=750, height=500,\n",
    "    template=template\n",
    ")\n",
    "fig.update_layout(yaxis_title=\"Number of Users\")\n",
    "fig.update_yaxes(template.layout.yaxis)\n",
    "fig.update_xaxes(template.layout.xaxis)\n",
    "fig.update_xaxes(minor=dict(ticks=\"outside\", dtick=2))\n",
    "fig.show()\n",
    "fig.write_image(\"./visualizations/behavior/history_length_hist.pdf\")"
   ]
  },
  {
   "attachments": {},
   "cell_type": "markdown",
   "metadata": {},
   "source": [
    "Histogram of number of impressions per user."
   ]
  },
  {
   "cell_type": "code",
   "execution_count": null,
   "metadata": {
    "collapsed": false
   },
   "outputs": [],
   "source": [
    "data_impression_counts = data_behaviors_pp[\"user_id\"].value_counts().rename_axis(\"user_id\").reset_index(name=\"impression_count\")\n",
    "fig = px.histogram(\n",
    "    data_impression_counts,\n",
    "    x=\"impression_count\",\n",
    "    range_x=[0, 15],\n",
    "    labels={\n",
    "        \"impression_count\": \"Number of Impressions\",\n",
    "        \"count\": \"Number of Users\" # Issue with plotly\n",
    "    },\n",
    "    title=\"User Impression Counts Histogram\",\n",
    "    width=750, height=500,\n",
    "    template=template\n",
    ")\n",
    "fig.update_layout(yaxis_title=\"Number of Users\")\n",
    "fig.update_yaxes(template.layout.yaxis)\n",
    "fig.update_xaxes(template.layout.xaxis)\n",
    "fig.update_xaxes(minor=dict(ticks=\"outside\", dtick=1))\n",
    "fig.show()\n",
    "fig.write_image(\"./visualizations/behavior/impression_count_hist.pdf\")"
   ]
  },
  {
   "attachments": {},
   "cell_type": "markdown",
   "metadata": {},
   "source": [
    "Histogram of number of shown news per impression."
   ]
  },
  {
   "cell_type": "code",
   "execution_count": null,
   "metadata": {
    "collapsed": false
   },
   "outputs": [],
   "source": [
    "fig = px.histogram(\n",
    "    data_behaviors_pp,\n",
    "    x=\"shown_news_length\",\n",
    "    range_x=[0, 100],\n",
    "    nbins=100,\n",
    "    labels={\n",
    "        \"shown_news_length\": \"Number of Shown News\",\n",
    "        \"count\": \"Number of Impressions\" # Issue with plotly\n",
    "    },\n",
    "    title=\"Shown News per Impression Histogram\",\n",
    "    width=750, height=500,\n",
    "    template=template\n",
    ")\n",
    "fig.update_layout(yaxis_title=\"Number of Impressions\")\n",
    "fig.update_yaxes(template.layout.yaxis)\n",
    "fig.update_xaxes(template.layout.xaxis)\n",
    "fig.update_xaxes(minor=dict(ticks=\"outside\", dtick=10))\n",
    "fig.show()\n",
    "fig.write_image(\"./visualizations/behavior/shown_news_hist.pdf\")"
   ]
  },
  {
   "attachments": {},
   "cell_type": "markdown",
   "metadata": {},
   "source": [
    "Histogram of number of clicked news per impression."
   ]
  },
  {
   "cell_type": "code",
   "execution_count": null,
   "metadata": {},
   "outputs": [],
   "source": [
    "fig = px.histogram(\n",
    "    data_behaviors_pp,\n",
    "    x=\"clicked_news_length\",\n",
    "    range_x=[0, 10],\n",
    "    range_y=[0, 2000000],\n",
    "    labels={\n",
    "        \"clicked_news_length\": \"Clicked News\",\n",
    "        \"count\": \"Number of Impressions\" # Issue with plotly\n",
    "    },\n",
    "    title=\"Number of Clicked News Per Impression Histogram\",\n",
    "    width=750, height=500,\n",
    "    template=template\n",
    ")\n",
    "fig.update_layout(yaxis_title=\"Number of Impressions\")\n",
    "fig.update_yaxes(template.layout.yaxis)\n",
    "fig.update_xaxes(template.layout.xaxis)\n",
    "fig.update_xaxes(dtick=1)\n",
    "fig.show()\n",
    "fig.write_image(\"./visualizations/behavior/clicked_news_hist.pdf\")"
   ]
  },
  {
   "attachments": {},
   "cell_type": "markdown",
   "metadata": {},
   "source": [
    "Histogram of percentage of ignored news."
   ]
  },
  {
   "cell_type": "code",
   "execution_count": null,
   "metadata": {
    "collapsed": false
   },
   "outputs": [],
   "source": [
    "fig = px.histogram(\n",
    "    data_behaviors_pp,\n",
    "    x=\"ignored_news_percent\",\n",
    "    range_x=[0, 100],\n",
    "    nbins=75,\n",
    "    labels={\n",
    "        \"ignored_news_percent\": \"Percentage of Ignored News\",\n",
    "        \"count\": \"Number of Impressions\" # Issue with plotly\n",
    "    },\n",
    "    title=\"Percentage of Ignored News Histogram\",\n",
    "    width=750, height=500,\n",
    "    template=template\n",
    ")\n",
    "fig.update_layout(yaxis_title=\"Number of Impressions\")\n",
    "fig.update_yaxes(template.layout.yaxis)\n",
    "fig.update_xaxes(template.layout.xaxis)\n",
    "fig.update_xaxes(minor=dict(ticks=\"outside\", dtick=10), dtick=20)\n",
    "fig.show()\n",
    "fig.write_image(\"./visualizations/behavior/percentage_ignored_news_hist.pdf\")"
   ]
  },
  {
   "attachments": {},
   "cell_type": "markdown",
   "metadata": {},
   "source": [
    "Scatter plot, relation between the amount of shown news and the percentage of ignored news."
   ]
  },
  {
   "cell_type": "code",
   "execution_count": null,
   "metadata": {
    "collapsed": false
   },
   "outputs": [],
   "source": [
    "fig = px.scatter(\n",
    "    data_behaviors_pp,\n",
    "    x=\"ignored_news_percent\",\n",
    "    y=\"shown_news_length\",\n",
    "    range_x=[0, 100],\n",
    "    range_y=[0, 350],\n",
    "    labels={\n",
    "        \"ignored_news_percent\": \"Percentage of Ignored News\",\n",
    "        \"shown_news_length\": \"Number of Shown News\"\n",
    "    },\n",
    "    title=\"Relation between Shown and Ignored News\",\n",
    "    width=750, height=500,\n",
    "    template=template\n",
    ")\n",
    "fig.update_traces(marker_size=4, marker_color=green_dark)\n",
    "fig.update_yaxes(template.layout.yaxis)\n",
    "fig.update_xaxes(template.layout.xaxis)\n",
    "fig.update_xaxes(minor=dict(ticks=\"outside\", dtick=10), dtick=20, gridcolor=grey)\n",
    "fig.show()\n",
    "fig.write_image(\"./visualizations/behavior/shown_and_ignored.pdf\")"
   ]
  },
  {
   "attachments": {},
   "cell_type": "markdown",
   "metadata": {},
   "source": [
    "Histogram of number of impressions per time of day."
   ]
  },
  {
   "cell_type": "code",
   "execution_count": null,
   "metadata": {
    "collapsed": false
   },
   "outputs": [],
   "source": [
    "fig = px.histogram(\n",
    "    data_behaviors_pp,\n",
    "    x=\"timestamp\",\n",
    "    nbins=100,\n",
    "    labels={\n",
    "        \"timestamp\": \"Time\",\n",
    "        \"count\": \"Number of Impressions\" # Issue with plotly\n",
    "    },\n",
    "    title=\"Number of Impressions per Time of Day Histogram\",\n",
    "    width=750, height=500,\n",
    "    template=template\n",
    ")\n",
    "fig.update_layout(yaxis_title=\"Number of Impressions\")\n",
    "fig.update_yaxes(template.layout.yaxis)\n",
    "fig.update_xaxes(template.layout.xaxis)\n",
    "fig.update_xaxes(minor=dict(ticks=\"outside\", dtick=43200000), dtick=86400000)\n",
    "fig.update_layout(\n",
    "    xaxis_tickformat=\"%dth\",\n",
    ")\n",
    "fig.show()\n",
    "fig.write_image(\"./visualizations/behavior/impressions_per_time_of_day.pdf\")"
   ]
  },
  {
   "attachments": {},
   "cell_type": "markdown",
   "metadata": {},
   "source": [
    "Pie chart of distribution of impressions over 4 time categories. Refer to the preprocessing code for the specific definition of each category."
   ]
  },
  {
   "cell_type": "code",
   "execution_count": null,
   "metadata": {
    "collapsed": false
   },
   "outputs": [],
   "source": [
    "data_time_category_percent = (data_behaviors_pp[\"time_category\"].value_counts() / len(data_behaviors_pp)).rename_axis(\"time_category\").reset_index(name=\"percent\")\n",
    "fig = px.pie(\n",
    "    data_time_category_percent,\n",
    "    values=\"percent\",\n",
    "    names=\"time_category\",\n",
    "    template=template\n",
    ")\n",
    "fig.show()\n",
    "fig.write_image(\"./visualizations/behavior/impressions_per_time_category.pdf\")"
   ]
  }
 ],
 "metadata": {
  "kernelspec": {
   "display_name": "drlnrs",
   "language": "python",
   "name": "python3"
  },
  "language_info": {
   "codemirror_mode": {
    "name": "ipython",
    "version": 3
   },
   "file_extension": ".py",
   "mimetype": "text/x-python",
   "name": "python",
   "nbconvert_exporter": "python",
   "pygments_lexer": "ipython3",
   "version": "3.7.16"
  },
  "vscode": {
   "interpreter": {
    "hash": "c3a871892b3c67473474f80d2a65da800da93289bc0b004e1295ce64be9e1442"
   }
  }
 },
 "nbformat": 4,
 "nbformat_minor": 0
}
