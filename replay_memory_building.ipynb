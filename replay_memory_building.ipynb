{
 "cells": [
  {
   "cell_type": "code",
   "execution_count": 5,
   "metadata": {},
   "outputs": [],
   "source": [
    "import os\n",
    "import pandas as pd\n",
    "\n",
    "from common_utils import read_feathered_data\n",
    "from replay_memory import ReplayMemoryBuilder, ReplayMemoryEpisodicBuilder"
   ]
  },
  {
   "cell_type": "code",
   "execution_count": 2,
   "metadata": {},
   "outputs": [],
   "source": [
    "%load_ext autoreload\n",
    "%autoreload 2"
   ]
  },
  {
   "cell_type": "code",
   "execution_count": 3,
   "metadata": {},
   "outputs": [],
   "source": [
    "### CONSTANTS\n",
    "\n",
    "# Dataset type is \"small\" or \"large\"\n",
    "DATASET_TYPE = \"large\" \n",
    "\n",
    "# Paths to dataset slices\n",
    "DATASET_PATH = \"../../dataset_MIND/\"\n",
    "TRAIN_PATH = os.path.join(DATASET_PATH, f\"MIND{DATASET_TYPE}_train\")\n",
    "DEV_PATH = os.path.join(DATASET_PATH, f\"MIND{DATASET_TYPE}_dev\")\n",
    "# Only large version exists for test set\n",
    "TEST_PATH = os.path.join(DATASET_PATH, \"MINDlarge_test\")\n",
    "\n",
    "# Paths to concatenated data\n",
    "CONCAT_TRAINFULL_PATH = os.path.join(DATASET_PATH, f\"MIND{DATASET_TYPE}_trainfull\")\n",
    "CONCAT_ALL_PATH = os.path.join(DATASET_PATH, f\"MINDlarge_all\")"
   ]
  },
  {
   "cell_type": "code",
   "execution_count": 4,
   "metadata": {},
   "outputs": [
    {
     "name": "stdout",
     "output_type": "stream",
     "text": [
      "[INFO] loading behaviors data from ../../dataset_MIND/MINDlarge_train\n"
     ]
    },
    {
     "name": "stderr",
     "output_type": "stream",
     "text": [
      "100%|██████████| 2232748/2232748 [02:48<00:00, 13278.21it/s]\n"
     ]
    },
    {
     "name": "stdout",
     "output_type": "stream",
     "text": [
      "[INFO] saving episodic replay memory\n"
     ]
    }
   ],
   "source": [
    "rm_episodic_builder = ReplayMemoryEpisodicBuilder(TRAIN_PATH)\n",
    "data = rm_episodic_builder.build()"
   ]
  },
  {
   "cell_type": "code",
   "execution_count": 4,
   "metadata": {},
   "outputs": [],
   "source": [
    "rm_builder = ReplayMemoryBuilder(TRAIN_PATH)"
   ]
  },
  {
   "cell_type": "code",
   "execution_count": 4,
   "metadata": {},
   "outputs": [
    {
     "name": "stdout",
     "output_type": "stream",
     "text": [
      "[INFO] loading behaviors data from ../../dataset_MIND/MINDlarge_train ('behaviors_ignore_history')\n",
      "[INFO] building part 0\n"
     ]
    },
    {
     "name": "stderr",
     "output_type": "stream",
     "text": [
      "100%|██████████| 148850/148850 [01:10<00:00, 2096.52it/s]\n",
      "100%|██████████| 5579816/5579816 [00:31<00:00, 175087.76it/s]\n",
      "100%|██████████| 5579816/5579816 [00:02<00:00, 2149333.02it/s]\n",
      "100%|██████████| 5579816/5579816 [00:35<00:00, 157849.54it/s]\n",
      "100%|██████████| 5579816/5579816 [00:02<00:00, 2768859.53it/s]\n",
      "100%|██████████| 5579816/5579816 [00:18<00:00, 298334.65it/s]\n",
      "100%|██████████| 5579816/5579816 [00:02<00:00, 2692474.95it/s]\n"
     ]
    },
    {
     "name": "stdout",
     "output_type": "stream",
     "text": [
      "[INFO] saving part 0 to ../../dataset_MIND/MINDlarge_train\\replay_memory_ih.\n",
      "[INFO] appending replay memory part 0\n",
      "[INFO] building part 1\n"
     ]
    },
    {
     "name": "stderr",
     "output_type": "stream",
     "text": [
      "100%|██████████| 148850/148850 [01:09<00:00, 2129.52it/s]\n",
      "100%|██████████| 5558222/5558222 [02:13<00:00, 41629.02it/s] \n",
      "100%|██████████| 5558222/5558222 [00:02<00:00, 2554437.30it/s]\n",
      "100%|██████████| 5558222/5558222 [06:37<00:00, 13984.24it/s] \n",
      "100%|██████████| 5558222/5558222 [00:02<00:00, 2719877.54it/s]\n",
      "100%|██████████| 5558222/5558222 [00:08<00:00, 669158.89it/s]\n",
      "100%|██████████| 5558222/5558222 [00:02<00:00, 2399425.44it/s]\n"
     ]
    },
    {
     "name": "stdout",
     "output_type": "stream",
     "text": [
      "[INFO] saving part 1 to ../../dataset_MIND/MINDlarge_train\\replay_memory_ih.\n",
      "[INFO] appending replay memory part 1\n",
      "[INFO] building part 2\n"
     ]
    },
    {
     "name": "stderr",
     "output_type": "stream",
     "text": [
      "100%|██████████| 148850/148850 [01:35<00:00, 1557.66it/s]\n",
      "100%|██████████| 5531130/5531130 [00:20<00:00, 270204.72it/s]\n",
      "100%|██████████| 5531130/5531130 [00:02<00:00, 2285408.46it/s]\n",
      "100%|██████████| 5531130/5531130 [06:04<00:00, 15193.33it/s] \n",
      "100%|██████████| 5531130/5531130 [00:02<00:00, 2003816.94it/s]\n",
      "100%|██████████| 5531130/5531130 [07:27<00:00, 12361.39it/s] \n",
      "100%|██████████| 5531130/5531130 [00:02<00:00, 2436208.44it/s]\n"
     ]
    },
    {
     "name": "stdout",
     "output_type": "stream",
     "text": [
      "[INFO] saving part 2 to ../../dataset_MIND/MINDlarge_train\\replay_memory_ih.\n",
      "[INFO] appending replay memory part 2\n",
      "[INFO] building part 3\n"
     ]
    },
    {
     "name": "stderr",
     "output_type": "stream",
     "text": [
      "100%|██████████| 148850/148850 [01:19<00:00, 1861.69it/s]\n",
      "100%|██████████| 5547655/5547655 [00:21<00:00, 254917.44it/s]\n",
      "100%|██████████| 5547655/5547655 [00:02<00:00, 2485392.10it/s]\n",
      "100%|██████████| 5547655/5547655 [07:57<00:00, 11621.51it/s] \n",
      "100%|██████████| 5547655/5547655 [00:02<00:00, 2728781.47it/s]\n",
      "100%|██████████| 5547655/5547655 [00:11<00:00, 471682.04it/s]\n",
      "100%|██████████| 5547655/5547655 [00:02<00:00, 2449157.51it/s]\n"
     ]
    },
    {
     "name": "stdout",
     "output_type": "stream",
     "text": [
      "[INFO] saving part 3 to ../../dataset_MIND/MINDlarge_train\\replay_memory_ih.\n",
      "[INFO] appending replay memory part 3\n",
      "[INFO] building part 4\n"
     ]
    },
    {
     "name": "stderr",
     "output_type": "stream",
     "text": [
      "100%|██████████| 148850/148850 [01:19<00:00, 1877.54it/s]\n",
      "100%|██████████| 5553431/5553431 [02:47<00:00, 33180.97it/s] \n",
      "100%|██████████| 5553431/5553431 [00:02<00:00, 2540715.36it/s]\n",
      "100%|██████████| 5553431/5553431 [08:17<00:00, 11172.54it/s] \n",
      "100%|██████████| 5553431/5553431 [00:02<00:00, 2184874.41it/s]\n",
      "100%|██████████| 5553431/5553431 [00:08<00:00, 634162.79it/s]\n",
      "100%|██████████| 5553431/5553431 [00:02<00:00, 2289224.15it/s]\n"
     ]
    },
    {
     "name": "stdout",
     "output_type": "stream",
     "text": [
      "[INFO] saving part 4 to ../../dataset_MIND/MINDlarge_train\\replay_memory_ih.\n",
      "[INFO] appending replay memory part 4\n",
      "[INFO] building part 5\n"
     ]
    },
    {
     "name": "stderr",
     "output_type": "stream",
     "text": [
      "100%|██████████| 148850/148850 [01:18<00:00, 1893.39it/s]\n",
      "100%|██████████| 5544730/5544730 [02:38<00:00, 35045.33it/s] \n",
      "100%|██████████| 5544730/5544730 [00:02<00:00, 2360467.16it/s]\n",
      "100%|██████████| 5544730/5544730 [07:03<00:00, 13091.01it/s] \n",
      "100%|██████████| 5544730/5544730 [00:02<00:00, 2723243.37it/s]\n",
      "100%|██████████| 5544730/5544730 [00:11<00:00, 498792.50it/s]\n",
      "100%|██████████| 5544730/5544730 [00:02<00:00, 2635460.73it/s]\n"
     ]
    },
    {
     "name": "stdout",
     "output_type": "stream",
     "text": [
      "[INFO] saving part 5 to ../../dataset_MIND/MINDlarge_train\\replay_memory_ih.\n",
      "[INFO] appending replay memory part 5\n",
      "[INFO] building part 6\n"
     ]
    },
    {
     "name": "stderr",
     "output_type": "stream",
     "text": [
      "100%|██████████| 148850/148850 [01:18<00:00, 1892.06it/s]\n",
      "100%|██████████| 5601402/5601402 [02:44<00:00, 34082.24it/s] \n",
      "100%|██████████| 5601402/5601402 [00:02<00:00, 2407914.95it/s]\n",
      "100%|██████████| 5601402/5601402 [06:42<00:00, 13909.58it/s] \n",
      "100%|██████████| 5601402/5601402 [00:02<00:00, 2564878.33it/s]\n",
      "100%|██████████| 5601402/5601402 [08:42<00:00, 10722.14it/s] \n",
      "100%|██████████| 5601402/5601402 [00:02<00:00, 2570918.10it/s]\n"
     ]
    },
    {
     "name": "stdout",
     "output_type": "stream",
     "text": [
      "[INFO] saving part 6 to ../../dataset_MIND/MINDlarge_train\\replay_memory_ih.\n",
      "[INFO] appending replay memory part 6\n",
      "[INFO] building part 7\n"
     ]
    },
    {
     "name": "stderr",
     "output_type": "stream",
     "text": [
      "100%|██████████| 148850/148850 [01:18<00:00, 1894.49it/s]\n",
      "100%|██████████| 5570344/5570344 [00:24<00:00, 231548.73it/s]\n",
      "100%|██████████| 5570344/5570344 [00:02<00:00, 2182957.71it/s]\n",
      "100%|██████████| 5570344/5570344 [09:42<00:00, 9564.24it/s]  \n",
      "100%|██████████| 5570344/5570344 [00:02<00:00, 2547044.27it/s]\n",
      "100%|██████████| 5570344/5570344 [00:09<00:00, 595290.24it/s]\n",
      "100%|██████████| 5570344/5570344 [00:02<00:00, 2529198.46it/s]\n"
     ]
    },
    {
     "name": "stdout",
     "output_type": "stream",
     "text": [
      "[INFO] saving part 7 to ../../dataset_MIND/MINDlarge_train\\replay_memory_ih.\n",
      "[INFO] appending replay memory part 7\n",
      "[INFO] building part 8\n"
     ]
    },
    {
     "name": "stderr",
     "output_type": "stream",
     "text": [
      "100%|██████████| 148850/148850 [01:21<00:00, 1823.56it/s]\n",
      "100%|██████████| 5588648/5588648 [03:01<00:00, 30734.59it/s] \n",
      "100%|██████████| 5588648/5588648 [00:02<00:00, 2444293.50it/s]\n",
      "100%|██████████| 5588648/5588648 [08:22<00:00, 11128.06it/s] \n",
      "100%|██████████| 5588648/5588648 [00:02<00:00, 2705255.06it/s]\n",
      "100%|██████████| 5588648/5588648 [00:10<00:00, 518413.05it/s]\n",
      "100%|██████████| 5588648/5588648 [00:02<00:00, 2427155.14it/s]\n"
     ]
    },
    {
     "name": "stdout",
     "output_type": "stream",
     "text": [
      "[INFO] saving part 8 to ../../dataset_MIND/MINDlarge_train\\replay_memory_ih.\n",
      "[INFO] appending replay memory part 8\n",
      "[INFO] building part 9\n"
     ]
    },
    {
     "name": "stderr",
     "output_type": "stream",
     "text": [
      "100%|██████████| 148850/148850 [01:13<00:00, 2022.91it/s]\n",
      "100%|██████████| 5563700/5563700 [03:04<00:00, 30210.80it/s] \n",
      "100%|██████████| 5563700/5563700 [00:02<00:00, 2521185.85it/s]\n",
      "100%|██████████| 5563700/5563700 [00:34<00:00, 163028.20it/s]\n",
      "100%|██████████| 5563700/5563700 [08:12<00:00, 11299.22it/s]  \n",
      "100%|██████████| 5563700/5563700 [00:12<00:00, 432543.46it/s]\n",
      "100%|██████████| 5563700/5563700 [00:02<00:00, 2636446.74it/s]\n"
     ]
    },
    {
     "name": "stdout",
     "output_type": "stream",
     "text": [
      "[INFO] saving part 9 to ../../dataset_MIND/MINDlarge_train\\replay_memory_ih.\n",
      "[INFO] appending replay memory part 9\n",
      "[INFO] building part 10\n"
     ]
    },
    {
     "name": "stderr",
     "output_type": "stream",
     "text": [
      "100%|██████████| 148850/148850 [01:13<00:00, 2017.98it/s]\n",
      "100%|██████████| 5550429/5550429 [39:53<00:00, 2318.98it/s]  \n",
      "100%|██████████| 5550429/5550429 [00:03<00:00, 1661736.45it/s]\n",
      "100%|██████████| 5550429/5550429 [00:40<00:00, 138689.31it/s]\n",
      "100%|██████████| 5550429/5550429 [00:02<00:00, 2526000.24it/s]\n",
      "100%|██████████| 5550429/5550429 [08:49<00:00, 10487.55it/s] \n",
      "100%|██████████| 5550429/5550429 [00:02<00:00, 2617357.30it/s]\n"
     ]
    },
    {
     "name": "stdout",
     "output_type": "stream",
     "text": [
      "[INFO] saving part 10 to ../../dataset_MIND/MINDlarge_train\\replay_memory_ih.\n",
      "[INFO] appending replay memory part 10\n",
      "[INFO] building part 11\n"
     ]
    },
    {
     "name": "stderr",
     "output_type": "stream",
     "text": [
      "100%|██████████| 148850/148850 [01:17<00:00, 1931.81it/s]\n",
      "100%|██████████| 5550669/5550669 [05:23<00:00, 17180.03it/s] \n",
      "100%|██████████| 5550669/5550669 [00:02<00:00, 2518241.79it/s]\n",
      "100%|██████████| 5550669/5550669 [00:39<00:00, 142240.00it/s]\n",
      "100%|██████████| 5550669/5550669 [00:02<00:00, 2657049.57it/s]\n",
      "100%|██████████| 5550669/5550669 [09:10<00:00, 10077.56it/s] \n",
      "100%|██████████| 5550669/5550669 [00:02<00:00, 2541777.03it/s]\n"
     ]
    },
    {
     "name": "stdout",
     "output_type": "stream",
     "text": [
      "[INFO] saving part 11 to ../../dataset_MIND/MINDlarge_train\\replay_memory_ih.\n",
      "[INFO] appending replay memory part 11\n",
      "[INFO] building part 12\n"
     ]
    },
    {
     "name": "stderr",
     "output_type": "stream",
     "text": [
      "100%|██████████| 148850/148850 [01:18<00:00, 1906.60it/s]\n",
      "100%|██████████| 5599959/5599959 [00:25<00:00, 219002.64it/s]\n",
      "100%|██████████| 5599959/5599959 [00:02<00:00, 2456456.07it/s]\n",
      "100%|██████████| 5599959/5599959 [06:23<00:00, 14585.04it/s] \n",
      "100%|██████████| 5599959/5599959 [00:02<00:00, 2619108.04it/s]\n",
      "100%|██████████| 5599959/5599959 [09:15<00:00, 10076.55it/s] \n",
      "100%|██████████| 5599959/5599959 [00:02<00:00, 2550291.86it/s]\n"
     ]
    },
    {
     "name": "stdout",
     "output_type": "stream",
     "text": [
      "[INFO] saving part 12 to ../../dataset_MIND/MINDlarge_train\\replay_memory_ih.\n",
      "[INFO] appending replay memory part 12\n",
      "[INFO] building part 13\n"
     ]
    },
    {
     "name": "stderr",
     "output_type": "stream",
     "text": [
      "100%|██████████| 148849/148849 [01:15<00:00, 1967.54it/s]\n",
      "100%|██████████| 5553228/5553228 [00:24<00:00, 226186.31it/s]\n",
      "100%|██████████| 5553228/5553228 [00:02<00:00, 2455146.57it/s]\n",
      "100%|██████████| 5553228/5553228 [08:32<00:00, 10825.30it/s] \n",
      "100%|██████████| 5553228/5553228 [00:02<00:00, 2657794.97it/s]\n",
      "100%|██████████| 5553228/5553228 [09:25<00:00, 9823.74it/s]  \n",
      "100%|██████████| 5553228/5553228 [00:02<00:00, 2607002.96it/s]\n"
     ]
    },
    {
     "name": "stdout",
     "output_type": "stream",
     "text": [
      "[INFO] saving part 13 to ../../dataset_MIND/MINDlarge_train\\replay_memory_ih.\n",
      "[INFO] appending replay memory part 13\n",
      "[INFO] building part 14\n"
     ]
    },
    {
     "name": "stderr",
     "output_type": "stream",
     "text": [
      "100%|██████████| 148849/148849 [01:18<00:00, 1906.18it/s]\n",
      "100%|██████████| 5614011/5614011 [00:26<00:00, 212388.30it/s]\n",
      "100%|██████████| 5614011/5614011 [00:02<00:00, 2251668.32it/s]\n",
      "100%|██████████| 5614011/5614011 [09:52<00:00, 9467.79it/s]  \n",
      "100%|██████████| 5614011/5614011 [00:02<00:00, 2660576.26it/s]\n",
      "100%|██████████| 5614011/5614011 [00:08<00:00, 632201.22it/s]\n",
      "100%|██████████| 5614011/5614011 [00:02<00:00, 2482718.96it/s]\n"
     ]
    },
    {
     "name": "stdout",
     "output_type": "stream",
     "text": [
      "[INFO] saving part 14 to ../../dataset_MIND/MINDlarge_train\\replay_memory_ih.\n",
      "[INFO] appending replay memory part 14\n",
      "[DONE] replay memory built\n"
     ]
    }
   ],
   "source": [
    "rm_builder.build(num_splits=15, use_ignore_history=True, rm_dir_name=\"replay_memory_ih\", behaviors_suffix=\"_ignore_history\")"
   ]
  },
  {
   "cell_type": "code",
   "execution_count": 6,
   "metadata": {},
   "outputs": [
    {
     "name": "stdout",
     "output_type": "stream",
     "text": [
      "[INFO] reading replay memories\n",
      "Appending 0\n",
      "Appending 1\n",
      "Appending 2\n",
      "Appending 3\n",
      "Appending 4\n",
      "Appending 5\n",
      "Appending 6\n",
      "Appending 7\n",
      "[INFO] concatenating replay memories\n",
      "[INFO] saving full replay memory\n",
      "[INFO] reading replay memories\n",
      "Appending 8\n",
      "Appending 9\n",
      "Appending 10\n",
      "Appending 11\n",
      "Appending 12\n",
      "Appending 13\n",
      "Appending 14\n",
      "[INFO] concatenating replay memories\n",
      "[INFO] saving full replay memory\n",
      "[DONE] replay memory concatenated\n"
     ]
    }
   ],
   "source": [
    "rm_builder.concatenate(num_splits=15, rm_dir_name=\"replay_memory_ih\")"
   ]
  },
  {
   "cell_type": "code",
   "execution_count": 5,
   "metadata": {},
   "outputs": [
    {
     "name": "stdout",
     "output_type": "stream",
     "text": [
      "0\n",
      "1\n",
      "[INFO] saving full replay memory\n"
     ]
    }
   ],
   "source": [
    "frms = []\n",
    "for i in range(2):\n",
    "    print(i)\n",
    "    full_replay_memory = read_feathered_data([\n",
    "        TRAIN_PATH,\n",
    "        \"replay_memory_ih\",\n",
    "        f\"full_replay_memory_{i}.ftr\"\n",
    "    ])\n",
    "    frms.append(full_replay_memory)\n",
    "del full_replay_memory\n",
    "full_replay_memory = pd.concat(frms)\n",
    "full_replay_memory.reset_index(drop=True, inplace=True)\n",
    "\n",
    "print(\"[INFO] saving full replay memory\")\n",
    "full_replay_memory.to_feather(\n",
    "    os.path.join(\n",
    "        TRAIN_PATH,\n",
    "        \"replay_memory_ih\",\n",
    "        \"full_replay_memory.ftr\"\n",
    "    )\n",
    ")"
   ]
  },
  {
   "cell_type": "code",
   "execution_count": 5,
   "metadata": {},
   "outputs": [
    {
     "name": "stdout",
     "output_type": "stream",
     "text": [
      "[INFO] reading full replay memory\n",
      "[INFO] extracting positive samples\n",
      "[INFO] saving positive samples\n",
      "[DONE] positive samples saved\n"
     ]
    }
   ],
   "source": [
    "rm_builder.extract_positive(rm_dir_name=\"replay_memory_ih\")"
   ]
  },
  {
   "cell_type": "code",
   "execution_count": 5,
   "metadata": {},
   "outputs": [
    {
     "name": "stdout",
     "output_type": "stream",
     "text": [
      "[INFO] extracting negative samples\n",
      "[INFO] saving negative samples\n",
      "[DONE] negative samples saved\n"
     ]
    }
   ],
   "source": [
    "rm_builder.extract_negative(rm_dir_name=\"replay_memory_ih\", frac=0.2, random_state=42)"
   ]
  }
 ],
 "metadata": {
  "kernelspec": {
   "display_name": "drlnrs",
   "language": "python",
   "name": "python3"
  },
  "language_info": {
   "codemirror_mode": {
    "name": "ipython",
    "version": 3
   },
   "file_extension": ".py",
   "mimetype": "text/x-python",
   "name": "python",
   "nbconvert_exporter": "python",
   "pygments_lexer": "ipython3",
   "version": "3.7.16"
  },
  "orig_nbformat": 4
 },
 "nbformat": 4,
 "nbformat_minor": 2
}
