{
 "cells": [
  {
   "cell_type": "code",
   "execution_count": null,
   "metadata": {},
   "outputs": [],
   "source": [
    "import os\n",
    "import pandas as pd\n",
    "\n",
    "import src.constants as constants\n",
    "from src.common_utils import read_feathered_data\n",
    "from src.rl.replay_memory import ReplayMemoryBuilder, ReplayMemoryEpisodicBuilder"
   ]
  },
  {
   "cell_type": "code",
   "execution_count": null,
   "metadata": {},
   "outputs": [],
   "source": [
    "%load_ext autoreload\n",
    "%autoreload 2"
   ]
  },
  {
   "cell_type": "markdown",
   "metadata": {},
   "source": [
    "# Episodic Replay Memory"
   ]
  },
  {
   "cell_type": "code",
   "execution_count": null,
   "metadata": {},
   "outputs": [],
   "source": [
    "rm_episodic_builder = ReplayMemoryEpisodicBuilder(constants.TRAIN_PATH)\n",
    "data = rm_episodic_builder.build()"
   ]
  },
  {
   "cell_type": "markdown",
   "metadata": {},
   "source": [
    "# Replay Memory\n",
    "\n",
    "Note that this code might have to be adapted, depending on the hardware components of your system (specifically RAM). As long as the data is processed in order, and seeds/random states are left unchanged, results will be reproducible."
   ]
  },
  {
   "cell_type": "code",
   "execution_count": null,
   "metadata": {},
   "outputs": [],
   "source": [
    "rm_builder = ReplayMemoryBuilder(constants.TRAIN_PATH)"
   ]
  },
  {
   "cell_type": "code",
   "execution_count": null,
   "metadata": {},
   "outputs": [],
   "source": [
    "rm_builder.build(num_splits=10, use_ignore_history=False, rm_dir_name=\"replay_memory\", behaviors_suffix=\"\")"
   ]
  },
  {
   "cell_type": "code",
   "execution_count": null,
   "metadata": {},
   "outputs": [],
   "source": [
    "rm_builder.concatenate(num_splits=10, rm_dir_name=\"replay_memory\")"
   ]
  },
  {
   "cell_type": "code",
   "execution_count": null,
   "metadata": {},
   "outputs": [],
   "source": [
    "frms = []\n",
    "for i in range(2):\n",
    "    print(i)\n",
    "    full_replay_memory = read_feathered_data([\n",
    "        constants.TRAIN_PATH,\n",
    "        \"replay_memory\",\n",
    "        f\"full_replay_memory_{i}.ftr\"\n",
    "    ])\n",
    "    frms.append(full_replay_memory)\n",
    "del full_replay_memory\n",
    "full_replay_memory = pd.concat(frms)\n",
    "full_replay_memory.reset_index(drop=True, inplace=True)\n",
    "\n",
    "print(\"[INFO] saving full replay memory\")\n",
    "full_replay_memory.to_feather(\n",
    "    os.path.join(\n",
    "        constants.TRAIN_PATH,\n",
    "        \"replay_memory_ih\",\n",
    "        \"full_replay_memory.ftr\"\n",
    "    )\n",
    ")"
   ]
  },
  {
   "cell_type": "code",
   "execution_count": null,
   "metadata": {},
   "outputs": [],
   "source": [
    "rm_builder.extract_positive(rm_dir_name=\"replay_memory\")"
   ]
  },
  {
   "cell_type": "code",
   "execution_count": null,
   "metadata": {},
   "outputs": [],
   "source": [
    "rm_builder.extract_negative(rm_dir_name=\"replay_memory\", frac=0.2, random_state=42)"
   ]
  }
 ],
 "metadata": {
  "kernelspec": {
   "display_name": "drlnrs",
   "language": "python",
   "name": "python3"
  },
  "language_info": {
   "codemirror_mode": {
    "name": "ipython",
    "version": 3
   },
   "file_extension": ".py",
   "mimetype": "text/x-python",
   "name": "python",
   "nbconvert_exporter": "python",
   "pygments_lexer": "ipython3",
   "version": "3.7.16"
  },
  "orig_nbformat": 4
 },
 "nbformat": 4,
 "nbformat_minor": 2
}
