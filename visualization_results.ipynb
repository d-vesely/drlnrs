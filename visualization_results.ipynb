{
 "cells": [
  {
   "cell_type": "code",
   "execution_count": null,
   "metadata": {},
   "outputs": [],
   "source": [
    "import numpy as np\n",
    "import os\n",
    "import pandas as pd\n",
    "import plotly.express as px\n",
    "import plotly.graph_objects as go\n",
    "\n",
    "import src.constants as constants"
   ]
  },
  {
   "cell_type": "markdown",
   "metadata": {},
   "source": [
    "# Template and Styling Options"
   ]
  },
  {
   "cell_type": "code",
   "execution_count": null,
   "metadata": {},
   "outputs": [],
   "source": [
    "grey_light = \"rgb(224, 224, 224)\"\n",
    "\n",
    "axis_common_dict = dict(\n",
    "    linecolor=\"black\",\n",
    "    linewidth=2,\n",
    "    ticks=\"outside\",\n",
    "    title=dict(standoff=15),\n",
    ")\n",
    "\n",
    "colorway = px.colors.qualitative.G10\n",
    "fillcolors = [px.colors.hex_to_rgb(x) + (0.15,)  for x in colorway]\n",
    "fillcolors = [f\"rgba{x}\" for x in fillcolors]\n",
    "\n",
    "template = go.layout.Template()\n",
    "template.layout = dict(\n",
    "    paper_bgcolor=\"white\",\n",
    "    plot_bgcolor=grey_light,\n",
    "    font=dict(color=\"black\"),\n",
    "    title=dict(\n",
    "        font=dict(size=18),\n",
    "        x=0.1, xanchor=\"left\",\n",
    "        y=0.9, yanchor=\"top\"\n",
    "    ),\n",
    "    xaxis=dict(\n",
    "        **axis_common_dict,\n",
    "    ),\n",
    "    yaxis=dict(\n",
    "        **axis_common_dict,\n",
    "    )\n",
    ")"
   ]
  },
  {
   "cell_type": "markdown",
   "metadata": {},
   "source": [
    "# Model Selection"
   ]
  },
  {
   "cell_type": "code",
   "execution_count": null,
   "metadata": {},
   "outputs": [],
   "source": [
    "title = \"DQN - Encoding with Numerical Features\"\n",
    "save_title = \"dqn_features\"\n",
    "model_names = [\n",
    "    \"DQN-n-m-xxlh-pmp30-g65-ftu5k\",\n",
    "    \"DQN-nf-trainnorm-m\",\n",
    "    \"DQN-nf-trainnorm-noeng-m\",\n",
    "]\n",
    "model_legend_names = [\n",
    "    \"Without Features\",\n",
    "    \"All Features\",\n",
    "    \"Without Engagement\",\n",
    "]"
   ]
  },
  {
   "cell_type": "markdown",
   "metadata": {},
   "source": [
    "# DDPG and TD3"
   ]
  },
  {
   "cell_type": "code",
   "execution_count": null,
   "metadata": {},
   "outputs": [],
   "source": [
    "model_dirs = [\n",
    "    os.path.join(constants.MODELS_PATH, m)\n",
    "    for m in model_names\n",
    "]\n",
    "indices = [10_000, 100_000, 200_000, 1_000_000, 2_000_000, \n",
    "           3_000_000]\n",
    "ticktext = [\"10K\", \"\", \"200K\", \"1M\", \"2M\", \"3M\"]\n",
    "\n",
    "model_data = []\n",
    "i = 0\n",
    "suffix = [\"a\", \"ac\"]\n",
    "for model_dir in model_dirs:\n",
    "    seeds = [7, 42]\n",
    "    data_paths = []\n",
    "    for s in seeds:\n",
    "        data_path = os.path.join(\n",
    "            model_dir,\n",
    "            f\"predictions_{s}\",\n",
    "            f\"eval_results_{suffix[i]}.txt\"\n",
    "        )\n",
    "        if os.path.exists(data_path):\n",
    "            data_paths.append(data_path)\n",
    "\n",
    "    data_runs = []\n",
    "    for path in data_paths:\n",
    "        data_run = pd.read_csv(path, sep=\"\\t\")\n",
    "        data_runs.append(data_run)\n",
    "\n",
    "    model_data.append(data_runs)\n",
    "    i += 1"
   ]
  },
  {
   "cell_type": "code",
   "execution_count": null,
   "metadata": {},
   "outputs": [],
   "source": [
    "n_models = len(model_data)\n",
    "model_results = []\n",
    "for i in range(n_models):\n",
    "    n_runs = len(model_data[i])\n",
    "    returns = np.zeros((n_runs, 6))\n",
    "    for j in range(n_runs):\n",
    "        returns[j] = model_data[i][j][\"mean_return\"]\n",
    "    model_results.append(returns)"
   ]
  },
  {
   "cell_type": "markdown",
   "metadata": {},
   "source": [
    "# Other Models"
   ]
  },
  {
   "cell_type": "code",
   "execution_count": null,
   "metadata": {},
   "outputs": [],
   "source": [
    "model_dirs = [\n",
    "    os.path.join(constants.MODELS_PATH, m)\n",
    "    for m in model_names\n",
    "]\n",
    "indices = [10_000, 100_000, 200_000, 1_000_000, 2_000_000, \n",
    "           3_000_000, 4_000_000, 5_000_000, 6_000_000]\n",
    "ticktext = [\"10K\", \"\", \"200K\", \"1M\", \"2M\", \"3M\", \"4M\", \"5M\", \"6M\"]\n",
    "\n",
    "model_data = []\n",
    "for model_dir in model_dirs:\n",
    "    seeds = [7, 42]\n",
    "    data_paths = []\n",
    "    for s in seeds:\n",
    "        data_path = os.path.join(\n",
    "            model_dir,\n",
    "            f\"predictions_{s}\",\n",
    "            \"eval_results.txt\"\n",
    "        )\n",
    "        if os.path.exists(data_path):\n",
    "            data_paths.append(data_path)\n",
    "\n",
    "    data_runs = []\n",
    "    for path in data_paths:\n",
    "        data_run = pd.read_csv(path, sep=\"\\t\")\n",
    "        data_runs.append(data_run)\n",
    "\n",
    "    model_data.append(data_runs)"
   ]
  },
  {
   "cell_type": "code",
   "execution_count": null,
   "metadata": {},
   "outputs": [],
   "source": [
    "n_models = len(model_data)\n",
    "model_results = []\n",
    "for i in range(n_models):\n",
    "    n_runs = len(model_data[i])\n",
    "    returns = np.zeros((n_runs, 9))\n",
    "    for j in range(n_runs):\n",
    "        returns[j] = model_data[i][j][\"mean_return\"]\n",
    "    model_results.append(returns)"
   ]
  },
  {
   "cell_type": "markdown",
   "metadata": {},
   "source": [
    "# All Models"
   ]
  },
  {
   "cell_type": "code",
   "execution_count": null,
   "metadata": {},
   "outputs": [],
   "source": [
    "model_results"
   ]
  },
  {
   "cell_type": "code",
   "execution_count": null,
   "metadata": {},
   "outputs": [],
   "source": [
    "models_returns_mean = [\n",
    "    np.mean(results, axis=0)\n",
    "    for results in model_results\n",
    "]\n",
    "models_returns_std = [\n",
    "    np.std(results, axis=0)\n",
    "    for results in model_results\n",
    "]"
   ]
  },
  {
   "cell_type": "code",
   "execution_count": null,
   "metadata": {},
   "outputs": [],
   "source": [
    "models_returns_mean"
   ]
  },
  {
   "cell_type": "code",
   "execution_count": null,
   "metadata": {},
   "outputs": [],
   "source": [
    "models_returns_std"
   ]
  },
  {
   "cell_type": "markdown",
   "metadata": {},
   "source": [
    "# DDPG and TD3"
   ]
  },
  {
   "cell_type": "code",
   "execution_count": null,
   "metadata": {},
   "outputs": [],
   "source": [
    "fig = go.Figure()\n",
    "\n",
    "for i in range(n_models):\n",
    "    returns_mean = models_returns_mean[i]\n",
    "    returns_std = models_returns_std[i]\n",
    "\n",
    "    fig.add_trace(\n",
    "        go.Scatter(\n",
    "            x=indices,\n",
    "            y=returns_mean,\n",
    "            mode=\"markers+lines\",\n",
    "            name=model_legend_names[i],\n",
    "            marker=dict(\n",
    "                size=4,\n",
    "                color=colorway[i]\n",
    "            ),\n",
    "        )\n",
    "    )\n",
    "\n",
    "    fig.add_trace(\n",
    "        go.Scatter(\n",
    "            x=indices + indices[::-1],\n",
    "            y=list(returns_mean + returns_std) + \\\n",
    "              list(returns_mean - returns_std)[::-1],\n",
    "            fill=\"tozerox\",\n",
    "            fillcolor=fillcolors[i],\n",
    "            line_color=\"rgba(255,255,255,0)\",\n",
    "            showlegend=False\n",
    "        )\n",
    "    )\n",
    "\n",
    "argmax = np.argmax(models_returns_mean) % len(models_returns_mean[0])\n",
    "best_model = np.argmax(models_returns_mean) // len(models_returns_mean[0])\n",
    "max = np.max(models_returns_mean)\n",
    "fig.add_annotation(\n",
    "    x=indices[argmax],\n",
    "    y=max,\n",
    "    text=f\"{model_legend_names[best_model]}: {max:.4f}\",\n",
    "    showarrow=True,\n",
    "    arrowhead=6,\n",
    "    arrowsize=0.75\n",
    ")\n",
    "\n",
    "fig.update_layout(\n",
    "    title=title,\n",
    "    xaxis=dict(\n",
    "        tickangle=60,\n",
    "        tickvals=indices,\n",
    "        ticktext=ticktext,\n",
    "        range=[0, 3_250_000],\n",
    "        title=\"Training Steps\"\n",
    "    ),\n",
    "    yaxis=dict(\n",
    "        range=[0.55, 0.75],\n",
    "        dtick=0.02,\n",
    "        title=\"Discounted Return\"\n",
    "    ),\n",
    "    width=850, height=500,\n",
    "    template=template\n",
    ")\n",
    "fig.update_yaxes(template.layout.yaxis)\n",
    "fig.update_xaxes(template.layout.xaxis)\n",
    "fig.show()"
   ]
  },
  {
   "cell_type": "markdown",
   "metadata": {},
   "source": [
    "# Other Models"
   ]
  },
  {
   "cell_type": "code",
   "execution_count": null,
   "metadata": {},
   "outputs": [],
   "source": [
    "fig = go.Figure()\n",
    "\n",
    "for i in range(n_models):\n",
    "    returns_mean = models_returns_mean[i]\n",
    "    returns_std = models_returns_std[i]\n",
    "\n",
    "    fig.add_trace(\n",
    "        go.Scatter(\n",
    "            x=indices,\n",
    "            y=returns_mean,\n",
    "            mode=\"markers+lines\",\n",
    "            name=model_legend_names[i],\n",
    "            marker=dict(\n",
    "                size=4,\n",
    "                color=colorway[i]\n",
    "            ),\n",
    "        )\n",
    "    )\n",
    "\n",
    "    fig.add_trace(\n",
    "        go.Scatter(\n",
    "            x=indices + indices[::-1],\n",
    "            y=list(returns_mean + returns_std) + \\\n",
    "              list(returns_mean - returns_std)[::-1],\n",
    "            fill=\"tozerox\",\n",
    "            fillcolor=fillcolors[i],\n",
    "            line_color=\"rgba(255,255,255,0)\",\n",
    "            showlegend=False\n",
    "        )\n",
    "    )\n",
    "\n",
    "argmax = np.argmax(models_returns_mean) % len(models_returns_mean[0])\n",
    "best_model = np.argmax(models_returns_mean) // len(models_returns_mean[0])\n",
    "max = np.max(models_returns_mean)\n",
    "fig.add_annotation(\n",
    "    x=indices[argmax],\n",
    "    y=max,\n",
    "    text=f\"{model_legend_names[best_model]}: {max:.4f}\",\n",
    "    showarrow=True,\n",
    "    arrowhead=6,\n",
    "    arrowsize=0.75\n",
    ")\n",
    "\n",
    "fig.update_layout(\n",
    "    title=title,\n",
    "    xaxis=dict(\n",
    "        tickangle=60,\n",
    "        tickvals=indices,\n",
    "        ticktext=ticktext,\n",
    "        range=[0, 6_250_000],\n",
    "        title=\"Training Steps\"\n",
    "    ),\n",
    "    yaxis=dict(\n",
    "        range=[0.62, 0.79],\n",
    "        dtick=0.02,\n",
    "        title=\"Discounted Return\"\n",
    "    ),\n",
    "    width=850, height=500,\n",
    "    template=template\n",
    ")\n",
    "fig.update_yaxes(template.layout.yaxis)\n",
    "fig.update_xaxes(template.layout.xaxis)\n",
    "fig.show()"
   ]
  },
  {
   "cell_type": "code",
   "execution_count": null,
   "metadata": {},
   "outputs": [],
   "source": [
    "fig.write_image(f\"./visualizations/results/{save_title}.pdf\")"
   ]
  }
 ],
 "metadata": {
  "kernelspec": {
   "display_name": "drlnrs",
   "language": "python",
   "name": "python3"
  },
  "language_info": {
   "codemirror_mode": {
    "name": "ipython",
    "version": 3
   },
   "file_extension": ".py",
   "mimetype": "text/x-python",
   "name": "python",
   "nbconvert_exporter": "python",
   "pygments_lexer": "ipython3",
   "version": "3.7.16"
  },
  "orig_nbformat": 4
 },
 "nbformat": 4,
 "nbformat_minor": 2
}
