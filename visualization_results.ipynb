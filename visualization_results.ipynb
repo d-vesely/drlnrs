{
 "cells": [
  {
   "cell_type": "code",
   "execution_count": 1,
   "metadata": {},
   "outputs": [],
   "source": [
    "import numpy as np\n",
    "import os\n",
    "import pandas as pd\n",
    "import plotly.express as px\n",
    "import plotly.graph_objects as go\n",
    "\n",
    "import src.constants as constants"
   ]
  },
  {
   "cell_type": "code",
   "execution_count": 21,
   "metadata": {},
   "outputs": [],
   "source": [
    "green = \"rgb(114, 224, 175)\"\n",
    "green_alpha = \"rgba(114, 224, 175, 0.2)\"\n",
    "green_dark = \"rgb(75, 184, 135)\"\n",
    "\n",
    "grey = \"rgb(158, 158, 158)\"\n",
    "grey_light = \"rgb(224, 224, 224)\"\n",
    "\n",
    "red = \"rgb(250, 33, 0)\"\n",
    "red_alpha = \"rgba(250, 33, 0, 0.1)\"\n",
    "red_dark = \"rgb(194, 38, 14)\"\n",
    "red_light = \"rgb(255, 71, 71)\"\n",
    "\n",
    "axis_common_dict = dict(\n",
    "    linecolor=\"black\",\n",
    "    linewidth=2,\n",
    "    ticks=\"outside\",\n",
    "    title=dict(standoff=15),\n",
    "    #gridcolor=grey\n",
    ")\n",
    "\n",
    "colorway = px.colors.qualitative.G10\n",
    "fillcolors = [px.colors.hex_to_rgb(x) + (0.15,)  for x in colorway]\n",
    "fillcolors = [f\"rgba{x}\" for x in fillcolors]\n",
    "\n",
    "template = go.layout.Template()\n",
    "template.layout = dict(\n",
    "    paper_bgcolor=\"white\",\n",
    "    plot_bgcolor=grey_light,\n",
    "    #colorway=[green_dark, green, red, red_dark, \"orange\", \"blue\", \"blue\"],\n",
    "    #color_disc=colorway,\n",
    "    font=dict(color=\"black\"),\n",
    "    title=dict(\n",
    "        font=dict(size=18),\n",
    "        x=0.1, xanchor=\"left\",\n",
    "        y=0.9, yanchor=\"top\"\n",
    "    ),\n",
    "    xaxis=dict(\n",
    "        **axis_common_dict,\n",
    "    ),\n",
    "    yaxis=dict(\n",
    "        **axis_common_dict,\n",
    "    )\n",
    ")\n",
    "template.data.histogram = [go.Histogram(marker=dict(line=dict(width=2, color=green)))]"
   ]
  },
  {
   "cell_type": "code",
   "execution_count": 159,
   "metadata": {},
   "outputs": [],
   "source": [
    "title = \"DQN - User Encoder Comparison\"\n",
    "save_title = \"dqn_user_encoding\"\n",
    "model_names = [\n",
    "    \"DQNGRU-n-bi-att\",\n",
    "    \"DQNAtt-n-att\",\n",
    "    \"DQN-n-m-xxlh-pmp30-g65-ftu5k\",\n",
    "    \"DQN-n-l\",\n",
    "    \"DQN-n-d\"\n",
    "]\n",
    "model_legend_names = [\n",
    "    \"DQN GRU - Attention Pooling\",\n",
    "    \"DQN Attention - Attention Pooling\",\n",
    "    \"DQN Weighted Mean - 0.999\",\n",
    "    \"DQN LTSTL\",\n",
    "    \"DQN Distribution\"\n",
    "]\n",
    "model_dirs = [\n",
    "    os.path.join(constants.MODELS_PATH, m)\n",
    "    for m in model_names\n",
    "]\n",
    "indices = [10_000, 100_000, 200_000, 1_000_000, 2_000_000, \n",
    "           3_000_000, 4_000_000, 5_000_000, 6_000_000]\n",
    "ticktext = [\"10K\", \"\", \"200K\", \"1M\", \"2M\", \"3M\", \"4M\", \"5M\", \"6M\"]\n",
    "\n",
    "model_data = []\n",
    "for model_dir in model_dirs:\n",
    "    seeds = [7, 42, 1998]\n",
    "    data_paths = []\n",
    "    for s in seeds:\n",
    "        data_path = os.path.join(\n",
    "            model_dir,\n",
    "            f\"predictions_{s}\",\n",
    "            \"eval_results.txt\"\n",
    "        )\n",
    "        if os.path.exists(data_path):\n",
    "            data_paths.append(data_path)\n",
    "\n",
    "    data_runs = []\n",
    "    for path in data_paths:\n",
    "        data_run = pd.read_csv(path, sep=\"\\t\")\n",
    "        data_runs.append(data_run)\n",
    "\n",
    "    model_data.append(data_runs)"
   ]
  },
  {
   "cell_type": "code",
   "execution_count": 160,
   "metadata": {},
   "outputs": [],
   "source": [
    "n_models = len(model_data)\n",
    "model_results = []\n",
    "for i in range(n_models):\n",
    "    n_runs = len(model_data[i])\n",
    "    returns = np.zeros((n_runs, 9))\n",
    "    for j in range(n_runs):\n",
    "        returns[j] = model_data[i][j][\"mean_return\"]\n",
    "    model_results.append(returns)"
   ]
  },
  {
   "cell_type": "code",
   "execution_count": 161,
   "metadata": {},
   "outputs": [
    {
     "data": {
      "text/plain": [
       "[array([[0.64251791, 0.71796598, 0.73635058, 0.75997916, 0.77495008,\n",
       "         0.7747355 , 0.78354669, 0.78574093, 0.78351501]]),\n",
       " array([[0.63719196, 0.69061012, 0.70615525, 0.76035325, 0.76373463,\n",
       "         0.76878421, 0.77303177, 0.77640959, 0.77666995]]),\n",
       " array([[0.64315095, 0.71510084, 0.71198282, 0.75892853, 0.7658037 ,\n",
       "         0.77188957, 0.77955978, 0.78420535, 0.78282872],\n",
       "        [0.65743038, 0.7137873 , 0.74169531, 0.75352631, 0.77246987,\n",
       "         0.77495616, 0.77898313, 0.78005803, 0.78113751]]),\n",
       " array([[0.63769263, 0.68523306, 0.71061937, 0.74504234, 0.75781783,\n",
       "         0.76331387, 0.76626955, 0.7665512 , 0.76613069]]),\n",
       " array([[0.63145688, 0.65948463, 0.69075509, 0.7452    , 0.76032254,\n",
       "         0.76748158, 0.77166478, 0.77464287, 0.77284161]])]"
      ]
     },
     "execution_count": 161,
     "metadata": {},
     "output_type": "execute_result"
    }
   ],
   "source": [
    "model_results"
   ]
  },
  {
   "cell_type": "code",
   "execution_count": 162,
   "metadata": {},
   "outputs": [],
   "source": [
    "models_returns_mean = [\n",
    "    np.mean(results, axis=0)\n",
    "    for results in model_results\n",
    "]\n",
    "models_returns_std = [\n",
    "    np.std(results, axis=0)\n",
    "    for results in model_results\n",
    "]"
   ]
  },
  {
   "cell_type": "code",
   "execution_count": 163,
   "metadata": {},
   "outputs": [
    {
     "data": {
      "text/plain": [
       "[array([0.64251791, 0.71796598, 0.73635058, 0.75997916, 0.77495008,\n",
       "        0.7747355 , 0.78354669, 0.78574093, 0.78351501]),\n",
       " array([0.63719196, 0.69061012, 0.70615525, 0.76035325, 0.76373463,\n",
       "        0.76878421, 0.77303177, 0.77640959, 0.77666995]),\n",
       " array([0.65029066, 0.71444407, 0.72683907, 0.75622742, 0.76913678,\n",
       "        0.77342286, 0.77927146, 0.78213169, 0.78198311]),\n",
       " array([0.63769263, 0.68523306, 0.71061937, 0.74504234, 0.75781783,\n",
       "        0.76331387, 0.76626955, 0.7665512 , 0.76613069]),\n",
       " array([0.63145688, 0.65948463, 0.69075509, 0.7452    , 0.76032254,\n",
       "        0.76748158, 0.77166478, 0.77464287, 0.77284161])]"
      ]
     },
     "execution_count": 163,
     "metadata": {},
     "output_type": "execute_result"
    }
   ],
   "source": [
    "models_returns_mean"
   ]
  },
  {
   "cell_type": "code",
   "execution_count": 164,
   "metadata": {},
   "outputs": [
    {
     "data": {
      "application/vnd.plotly.v1+json": {
       "config": {
        "plotlyServerURL": "https://plot.ly"
       },
       "data": [
        {
         "marker": {
          "color": "#3366CC",
          "size": 4
         },
         "mode": "markers+lines",
         "name": "DQN GRU - Attention Pooling",
         "type": "scatter",
         "x": [
          10000,
          100000,
          200000,
          1000000,
          2000000,
          3000000,
          4000000,
          5000000,
          6000000
         ],
         "y": [
          0.6425179138162198,
          0.7179659759997119,
          0.7363505827059119,
          0.7599791557113758,
          0.7749500760449562,
          0.7747354963370896,
          0.783546688853496,
          0.7857409265388637,
          0.7835150080352222
         ]
        },
        {
         "fill": "tozerox",
         "fillcolor": "rgba(51, 102, 204, 0.15)",
         "line": {
          "color": "rgba(255,255,255,0)"
         },
         "showlegend": false,
         "type": "scatter",
         "x": [
          10000,
          100000,
          200000,
          1000000,
          2000000,
          3000000,
          4000000,
          5000000,
          6000000,
          6000000,
          5000000,
          4000000,
          3000000,
          2000000,
          1000000,
          200000,
          100000,
          10000
         ],
         "y": [
          0.6425179138162198,
          0.7179659759997119,
          0.7363505827059119,
          0.7599791557113758,
          0.7749500760449562,
          0.7747354963370896,
          0.783546688853496,
          0.7857409265388637,
          0.7835150080352222,
          0.7835150080352222,
          0.7857409265388637,
          0.783546688853496,
          0.7747354963370896,
          0.7749500760449562,
          0.7599791557113758,
          0.7363505827059119,
          0.7179659759997119,
          0.6425179138162198
         ]
        },
        {
         "marker": {
          "color": "#DC3912",
          "size": 4
         },
         "mode": "markers+lines",
         "name": "DQN Attention - Attention Pooling",
         "type": "scatter",
         "x": [
          10000,
          100000,
          200000,
          1000000,
          2000000,
          3000000,
          4000000,
          5000000,
          6000000
         ],
         "y": [
          0.637191955984171,
          0.6906101219588043,
          0.7061552549951913,
          0.7603532537596301,
          0.7637346262050133,
          0.7687842143941331,
          0.7730317746626827,
          0.7764095873103075,
          0.7766699515099732
         ]
        },
        {
         "fill": "tozerox",
         "fillcolor": "rgba(220, 57, 18, 0.15)",
         "line": {
          "color": "rgba(255,255,255,0)"
         },
         "showlegend": false,
         "type": "scatter",
         "x": [
          10000,
          100000,
          200000,
          1000000,
          2000000,
          3000000,
          4000000,
          5000000,
          6000000,
          6000000,
          5000000,
          4000000,
          3000000,
          2000000,
          1000000,
          200000,
          100000,
          10000
         ],
         "y": [
          0.637191955984171,
          0.6906101219588043,
          0.7061552549951913,
          0.7603532537596301,
          0.7637346262050133,
          0.7687842143941331,
          0.7730317746626827,
          0.7764095873103075,
          0.7766699515099732,
          0.7766699515099732,
          0.7764095873103075,
          0.7730317746626827,
          0.7687842143941331,
          0.7637346262050133,
          0.7603532537596301,
          0.7061552549951913,
          0.6906101219588043,
          0.637191955984171
         ]
        },
        {
         "marker": {
          "color": "#FF9900",
          "size": 4
         },
         "mode": "markers+lines",
         "name": "DQN Weighted Mean - 0.999",
         "type": "scatter",
         "x": [
          10000,
          100000,
          200000,
          1000000,
          2000000,
          3000000,
          4000000,
          5000000,
          6000000
         ],
         "y": [
          0.6502906647303425,
          0.7144440740631184,
          0.7268390657581121,
          0.7562274207137966,
          0.7691367834275538,
          0.773422861693202,
          0.7792714576878188,
          0.7821316876421817,
          0.7819831147870075
         ]
        },
        {
         "fill": "tozerox",
         "fillcolor": "rgba(255, 153, 0, 0.15)",
         "line": {
          "color": "rgba(255,255,255,0)"
         },
         "showlegend": false,
         "type": "scatter",
         "x": [
          10000,
          100000,
          200000,
          1000000,
          2000000,
          3000000,
          4000000,
          5000000,
          6000000,
          6000000,
          5000000,
          4000000,
          3000000,
          2000000,
          1000000,
          200000,
          100000,
          10000
         ],
         "y": [
          0.6574303825395621,
          0.7151008435918682,
          0.7416953149638464,
          0.758928534584574,
          0.77246987024535,
          0.7749561555599966,
          0.7795597830753291,
          0.7842053472599688,
          0.7828287219608234,
          0.7811375076131917,
          0.7800580280243945,
          0.7789831323003085,
          0.7718895678264073,
          0.7658036966097576,
          0.7535263068430191,
          0.7119828165523777,
          0.7137873045343686,
          0.6431509469211228
         ]
        },
        {
         "marker": {
          "color": "#109618",
          "size": 4
         },
         "mode": "markers+lines",
         "name": "DQN LTSTL",
         "type": "scatter",
         "x": [
          10000,
          100000,
          200000,
          1000000,
          2000000,
          3000000,
          4000000,
          5000000,
          6000000
         ],
         "y": [
          0.6376926322852328,
          0.6852330563128851,
          0.71061937346219,
          0.7450423357669856,
          0.7578178296124514,
          0.763313867726006,
          0.7662695481455332,
          0.7665511978217444,
          0.7661306947728355
         ]
        },
        {
         "fill": "tozerox",
         "fillcolor": "rgba(16, 150, 24, 0.15)",
         "line": {
          "color": "rgba(255,255,255,0)"
         },
         "showlegend": false,
         "type": "scatter",
         "x": [
          10000,
          100000,
          200000,
          1000000,
          2000000,
          3000000,
          4000000,
          5000000,
          6000000,
          6000000,
          5000000,
          4000000,
          3000000,
          2000000,
          1000000,
          200000,
          100000,
          10000
         ],
         "y": [
          0.6376926322852328,
          0.6852330563128851,
          0.71061937346219,
          0.7450423357669856,
          0.7578178296124514,
          0.763313867726006,
          0.7662695481455332,
          0.7665511978217444,
          0.7661306947728355,
          0.7661306947728355,
          0.7665511978217444,
          0.7662695481455332,
          0.763313867726006,
          0.7578178296124514,
          0.7450423357669856,
          0.71061937346219,
          0.6852330563128851,
          0.6376926322852328
         ]
        },
        {
         "marker": {
          "color": "#990099",
          "size": 4
         },
         "mode": "markers+lines",
         "name": "DQN Distribution",
         "type": "scatter",
         "x": [
          10000,
          100000,
          200000,
          1000000,
          2000000,
          3000000,
          4000000,
          5000000,
          6000000
         ],
         "y": [
          0.631456882345986,
          0.6594846251678113,
          0.69075508931042,
          0.7452000033146404,
          0.7603225425908944,
          0.7674815766490913,
          0.7716647843628659,
          0.7746428655304582,
          0.7728416147044422
         ]
        },
        {
         "fill": "tozerox",
         "fillcolor": "rgba(153, 0, 153, 0.15)",
         "line": {
          "color": "rgba(255,255,255,0)"
         },
         "showlegend": false,
         "type": "scatter",
         "x": [
          10000,
          100000,
          200000,
          1000000,
          2000000,
          3000000,
          4000000,
          5000000,
          6000000,
          6000000,
          5000000,
          4000000,
          3000000,
          2000000,
          1000000,
          200000,
          100000,
          10000
         ],
         "y": [
          0.631456882345986,
          0.6594846251678113,
          0.69075508931042,
          0.7452000033146404,
          0.7603225425908944,
          0.7674815766490913,
          0.7716647843628659,
          0.7746428655304582,
          0.7728416147044422,
          0.7728416147044422,
          0.7746428655304582,
          0.7716647843628659,
          0.7674815766490913,
          0.7603225425908944,
          0.7452000033146404,
          0.69075508931042,
          0.6594846251678113,
          0.631456882345986
         ]
        }
       ],
       "layout": {
        "annotations": [
         {
          "arrowhead": 6,
          "arrowsize": 0.75,
          "showarrow": true,
          "text": "DQN GRU - Attention Pooling: 0.7857",
          "x": 5000000,
          "y": 0.7857409265388637
         }
        ],
        "height": 500,
        "template": {
         "data": {
          "histogram": [
           {
            "marker": {
             "line": {
              "color": "rgb(114, 224, 175)",
              "width": 2
             }
            },
            "type": "histogram"
           }
          ]
         },
         "layout": {
          "font": {
           "color": "black"
          },
          "paper_bgcolor": "white",
          "plot_bgcolor": "rgb(224, 224, 224)",
          "title": {
           "font": {
            "size": 18
           },
           "x": 0.1,
           "xanchor": "left",
           "y": 0.9,
           "yanchor": "top"
          },
          "xaxis": {
           "linecolor": "black",
           "linewidth": 2,
           "ticks": "outside",
           "title": {
            "standoff": 15
           }
          },
          "yaxis": {
           "linecolor": "black",
           "linewidth": 2,
           "ticks": "outside",
           "title": {
            "standoff": 15
           }
          }
         }
        },
        "title": {
         "text": "DQN - User Encoder Comparison"
        },
        "width": 850,
        "xaxis": {
         "linecolor": "black",
         "linewidth": 2,
         "range": [
          0,
          6250000
         ],
         "tickangle": 60,
         "ticks": "outside",
         "ticktext": [
          "10K",
          "",
          "200K",
          "1M",
          "2M",
          "3M",
          "4M",
          "5M",
          "6M"
         ],
         "tickvals": [
          10000,
          100000,
          200000,
          1000000,
          2000000,
          3000000,
          4000000,
          5000000,
          6000000
         ],
         "title": {
          "standoff": 15,
          "text": "Training Steps"
         }
        },
        "yaxis": {
         "dtick": 0.02,
         "linecolor": "black",
         "linewidth": 2,
         "range": [
          0.62,
          0.79
         ],
         "ticks": "outside",
         "title": {
          "standoff": 15,
          "text": "Discounted Return"
         }
        }
       }
      }
     },
     "metadata": {},
     "output_type": "display_data"
    }
   ],
   "source": [
    "fig = go.Figure()\n",
    "\n",
    "for i in range(n_models):\n",
    "    returns_mean = models_returns_mean[i]\n",
    "    returns_std = models_returns_std[i]\n",
    "\n",
    "    fig.add_trace(\n",
    "        go.Scatter(\n",
    "            x=indices,\n",
    "            y=returns_mean,\n",
    "            mode=\"markers+lines\",\n",
    "            name=model_legend_names[i],\n",
    "            marker=dict(\n",
    "                size=4,\n",
    "                color=colorway[i]\n",
    "            ),\n",
    "        )\n",
    "    )\n",
    "\n",
    "    fig.add_trace(\n",
    "        go.Scatter(\n",
    "            x=indices + indices[::-1],\n",
    "            y=list(returns_mean + returns_std) + \\\n",
    "              list(returns_mean - returns_std)[::-1],\n",
    "            fill=\"tozerox\",\n",
    "            fillcolor=fillcolors[i],\n",
    "            line_color=\"rgba(255,255,255,0)\",\n",
    "            showlegend=False\n",
    "        )\n",
    "    )\n",
    "\n",
    "argmax = np.argmax(models_returns_mean) % len(models_returns_mean[0])\n",
    "best_model = np.argmax(models_returns_mean) // len(models_returns_mean[0])\n",
    "max = np.max(models_returns_mean)\n",
    "fig.add_annotation(\n",
    "    x=indices[argmax],\n",
    "    y=max,\n",
    "    text=f\"{model_legend_names[best_model]}: {max:.4f}\",\n",
    "    showarrow=True,\n",
    "    arrowhead=6,\n",
    "    arrowsize=0.75\n",
    ")\n",
    "\n",
    "fig.update_layout(\n",
    "    title=title,\n",
    "    xaxis=dict(\n",
    "        tickangle=60,\n",
    "        tickvals=indices,\n",
    "        ticktext=ticktext,\n",
    "        range=[0, 6_250_000],\n",
    "        title=\"Training Steps\"\n",
    "    ),\n",
    "    yaxis=dict(\n",
    "        range=[0.62, 0.79],\n",
    "        dtick=0.02,\n",
    "        title=\"Discounted Return\"\n",
    "    ),\n",
    "    width=850, height=500,\n",
    "    template=template\n",
    ")\n",
    "fig.update_yaxes(template.layout.yaxis)\n",
    "fig.update_xaxes(template.layout.xaxis)\n",
    "fig.show()\n",
    "fig.write_image(f\"./visualizations/results/{save_title}.pdf\")"
   ]
  },
  {
   "cell_type": "code",
   "execution_count": null,
   "metadata": {},
   "outputs": [],
   "source": []
  }
 ],
 "metadata": {
  "kernelspec": {
   "display_name": "drlnrs",
   "language": "python",
   "name": "python3"
  },
  "language_info": {
   "codemirror_mode": {
    "name": "ipython",
    "version": 3
   },
   "file_extension": ".py",
   "mimetype": "text/x-python",
   "name": "python",
   "nbconvert_exporter": "python",
   "pygments_lexer": "ipython3",
   "version": "3.7.16"
  },
  "orig_nbformat": 4
 },
 "nbformat": 4,
 "nbformat_minor": 2
}
