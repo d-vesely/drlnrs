{
 "cells": [
  {
   "cell_type": "code",
   "execution_count": 1,
   "metadata": {},
   "outputs": [],
   "source": [
    "import numpy as np\n",
    "import os\n",
    "import pandas as pd\n",
    "import plotly.express as px\n",
    "import plotly.graph_objects as go\n",
    "\n",
    "import src.constants as constants"
   ]
  },
  {
   "cell_type": "code",
   "execution_count": 2,
   "metadata": {},
   "outputs": [],
   "source": [
    "grey_light = \"rgb(224, 224, 224)\"\n",
    "\n",
    "axis_common_dict = dict(\n",
    "    linecolor=\"black\",\n",
    "    linewidth=2,\n",
    "    ticks=\"outside\",\n",
    "    title=dict(standoff=15),\n",
    ")\n",
    "\n",
    "colorway = px.colors.qualitative.G10\n",
    "fillcolors = [px.colors.hex_to_rgb(x) + (0.15,)  for x in colorway]\n",
    "fillcolors = [f\"rgba{x}\" for x in fillcolors]\n",
    "\n",
    "template = go.layout.Template()\n",
    "template.layout = dict(\n",
    "    paper_bgcolor=\"white\",\n",
    "    plot_bgcolor=grey_light,\n",
    "    font=dict(color=\"black\"),\n",
    "    title=dict(\n",
    "        font=dict(size=18),\n",
    "        x=0.1, xanchor=\"left\",\n",
    "        y=0.9, yanchor=\"top\"\n",
    "    ),\n",
    "    xaxis=dict(\n",
    "        **axis_common_dict,\n",
    "    ),\n",
    "    yaxis=dict(\n",
    "        **axis_common_dict,\n",
    "    )\n",
    ")"
   ]
  },
  {
   "cell_type": "code",
   "execution_count": 19,
   "metadata": {},
   "outputs": [],
   "source": [
    "title = \"DQN - Weighted Mean Comparison\"\n",
    "save_title = \"dqn_weighted_mean\"\n",
    "model_names = [\n",
    "    \"DQN-n-m-w99\",\n",
    "    \"DQN-n-m-xxlh-pmp30-g65-ftu5k\",\n",
    "    \"DQN-n-m-noweight\",\n",
    "]\n",
    "model_legend_names = [\n",
    "    \"DQN - Alpha 0.99\",\n",
    "    \"DQN - Alpha 0.999\",\n",
    "    \"DQN - No Weighting\",\n",
    "]"
   ]
  },
  {
   "cell_type": "code",
   "execution_count": 20,
   "metadata": {},
   "outputs": [],
   "source": [
    "model_dirs = [\n",
    "    os.path.join(constants.MODELS_PATH, m)\n",
    "    for m in model_names\n",
    "]\n",
    "indices = [10_000, 100_000, 200_000, 1_000_000, 2_000_000, \n",
    "           3_000_000, 4_000_000, 5_000_000, 6_000_000]\n",
    "ticktext = [\"10K\", \"\", \"200K\", \"1M\", \"2M\", \"3M\", \"4M\", \"5M\", \"6M\"]\n",
    "\n",
    "model_data = []\n",
    "for model_dir in model_dirs:\n",
    "    seeds = [7, 42]\n",
    "    data_paths = []\n",
    "    for s in seeds:\n",
    "        data_path = os.path.join(\n",
    "            model_dir,\n",
    "            f\"predictions_{s}\",\n",
    "            \"eval_results.txt\"\n",
    "        )\n",
    "        if os.path.exists(data_path):\n",
    "            data_paths.append(data_path)\n",
    "\n",
    "    data_runs = []\n",
    "    for path in data_paths:\n",
    "        data_run = pd.read_csv(path, sep=\"\\t\")\n",
    "        data_runs.append(data_run)\n",
    "\n",
    "    model_data.append(data_runs)"
   ]
  },
  {
   "cell_type": "code",
   "execution_count": 21,
   "metadata": {},
   "outputs": [],
   "source": [
    "n_models = len(model_data)\n",
    "model_results = []\n",
    "for i in range(n_models):\n",
    "    n_runs = len(model_data[i])\n",
    "    returns = np.zeros((n_runs, 9))\n",
    "    for j in range(n_runs):\n",
    "        returns[j] = model_data[i][j][\"mean_return\"]\n",
    "    model_results.append(returns)"
   ]
  },
  {
   "cell_type": "code",
   "execution_count": 22,
   "metadata": {},
   "outputs": [
    {
     "data": {
      "text/plain": [
       "[array([[0.64328213, 0.71479741, 0.71180467, 0.76073956, 0.76676553,\n",
       "         0.77380826, 0.78043713, 0.78407329, 0.78433035],\n",
       "        [0.65737859, 0.71204117, 0.73988804, 0.75118033, 0.76982743,\n",
       "         0.77204346, 0.77803751, 0.77865622, 0.77991314]]),\n",
       " array([[0.64315095, 0.71510084, 0.71198282, 0.75892853, 0.7658037 ,\n",
       "         0.77188957, 0.77955978, 0.78420535, 0.78282872],\n",
       "        [0.65743038, 0.7137873 , 0.74169531, 0.75352631, 0.77246987,\n",
       "         0.77495616, 0.77898313, 0.78005803, 0.78113751]]),\n",
       " array([[0.64321319, 0.71531888, 0.71217753, 0.75688284, 0.76479244,\n",
       "         0.76929255, 0.77484539, 0.78022357, 0.78027279]])]"
      ]
     },
     "execution_count": 22,
     "metadata": {},
     "output_type": "execute_result"
    }
   ],
   "source": [
    "model_results"
   ]
  },
  {
   "cell_type": "code",
   "execution_count": 23,
   "metadata": {},
   "outputs": [],
   "source": [
    "models_returns_mean = [\n",
    "    np.mean(results, axis=0)\n",
    "    for results in model_results\n",
    "]\n",
    "models_returns_std = [\n",
    "    np.std(results, axis=0)\n",
    "    for results in model_results\n",
    "]"
   ]
  },
  {
   "cell_type": "code",
   "execution_count": 24,
   "metadata": {},
   "outputs": [
    {
     "data": {
      "text/plain": [
       "[array([0.65033036, 0.71341929, 0.72584636, 0.75595994, 0.76829648,\n",
       "        0.77292586, 0.77923732, 0.78136476, 0.78212174]),\n",
       " array([0.65029066, 0.71444407, 0.72683907, 0.75622742, 0.76913678,\n",
       "        0.77342286, 0.77927146, 0.78213169, 0.78198311]),\n",
       " array([0.64321319, 0.71531888, 0.71217753, 0.75688284, 0.76479244,\n",
       "        0.76929255, 0.77484539, 0.78022357, 0.78027279])]"
      ]
     },
     "execution_count": 24,
     "metadata": {},
     "output_type": "execute_result"
    }
   ],
   "source": [
    "models_returns_mean"
   ]
  },
  {
   "cell_type": "code",
   "execution_count": 25,
   "metadata": {},
   "outputs": [
    {
     "data": {
      "text/plain": [
       "[array([0.00704823, 0.00137812, 0.01404168, 0.00477962, 0.00153095,\n",
       "        0.0008824 , 0.00119981, 0.00270854, 0.0022086 ]),\n",
       " array([0.00713972, 0.00065677, 0.01485625, 0.00270111, 0.00333309,\n",
       "        0.00153329, 0.00028833, 0.00207366, 0.00084561]),\n",
       " array([0., 0., 0., 0., 0., 0., 0., 0., 0.])]"
      ]
     },
     "execution_count": 25,
     "metadata": {},
     "output_type": "execute_result"
    }
   ],
   "source": [
    "models_returns_std"
   ]
  },
  {
   "cell_type": "code",
   "execution_count": 26,
   "metadata": {},
   "outputs": [
    {
     "data": {
      "application/vnd.plotly.v1+json": {
       "config": {
        "plotlyServerURL": "https://plot.ly"
       },
       "data": [
        {
         "marker": {
          "color": "#3366CC",
          "size": 4
         },
         "mode": "markers+lines",
         "name": "DQN - Alpha 0.99",
         "type": "scatter",
         "x": [
          10000,
          100000,
          200000,
          1000000,
          2000000,
          3000000,
          4000000,
          5000000,
          6000000
         ],
         "y": [
          0.6503303606976756,
          0.7134192892035293,
          0.7258463594697071,
          0.7559599447466985,
          0.7682964818604154,
          0.7729258601065101,
          0.7792373193167494,
          0.7813647550769892,
          0.7821217435895078
         ]
        },
        {
         "fill": "tozerox",
         "fillcolor": "rgba(51, 102, 204, 0.15)",
         "line": {
          "color": "rgba(255,255,255,0)"
         },
         "showlegend": false,
         "type": "scatter",
         "x": [
          10000,
          100000,
          200000,
          1000000,
          2000000,
          3000000,
          4000000,
          5000000,
          6000000,
          6000000,
          5000000,
          4000000,
          3000000,
          2000000,
          1000000,
          200000,
          100000,
          10000
         ],
         "y": [
          0.657378594276249,
          0.714797412357427,
          0.7398880442476927,
          0.7607395630235619,
          0.7698274308054734,
          0.7738082587099795,
          0.7804371278870139,
          0.7840732912321335,
          0.7843303473733061,
          0.7799131398057095,
          0.7786562189218449,
          0.778037510746485,
          0.7720434615030407,
          0.7667655329153574,
          0.751180326469835,
          0.7118046746917215,
          0.7120411660496315,
          0.6432821271191022
         ]
        },
        {
         "marker": {
          "color": "#DC3912",
          "size": 4
         },
         "mode": "markers+lines",
         "name": "DQN - Alpha 0.999",
         "type": "scatter",
         "x": [
          10000,
          100000,
          200000,
          1000000,
          2000000,
          3000000,
          4000000,
          5000000,
          6000000
         ],
         "y": [
          0.6502906647303425,
          0.7144440740631184,
          0.7268390657581121,
          0.7562274207137966,
          0.7691367834275538,
          0.773422861693202,
          0.7792714576878188,
          0.7821316876421817,
          0.7819831147870075
         ]
        },
        {
         "fill": "tozerox",
         "fillcolor": "rgba(220, 57, 18, 0.15)",
         "line": {
          "color": "rgba(255,255,255,0)"
         },
         "showlegend": false,
         "type": "scatter",
         "x": [
          10000,
          100000,
          200000,
          1000000,
          2000000,
          3000000,
          4000000,
          5000000,
          6000000,
          6000000,
          5000000,
          4000000,
          3000000,
          2000000,
          1000000,
          200000,
          100000,
          10000
         ],
         "y": [
          0.6574303825395621,
          0.7151008435918682,
          0.7416953149638464,
          0.758928534584574,
          0.77246987024535,
          0.7749561555599966,
          0.7795597830753291,
          0.7842053472599688,
          0.7828287219608234,
          0.7811375076131917,
          0.7800580280243945,
          0.7789831323003085,
          0.7718895678264073,
          0.7658036966097576,
          0.7535263068430191,
          0.7119828165523777,
          0.7137873045343686,
          0.6431509469211228
         ]
        },
        {
         "marker": {
          "color": "#FF9900",
          "size": 4
         },
         "mode": "markers+lines",
         "name": "DQN - No Weighting",
         "type": "scatter",
         "x": [
          10000,
          100000,
          200000,
          1000000,
          2000000,
          3000000,
          4000000,
          5000000,
          6000000
         ],
         "y": [
          0.643213192928493,
          0.7153188845666411,
          0.7121775316719028,
          0.7568828368863709,
          0.7647924359488274,
          0.7692925541112254,
          0.7748453925556873,
          0.78022357260073,
          0.7802727874178867
         ]
        },
        {
         "fill": "tozerox",
         "fillcolor": "rgba(255, 153, 0, 0.15)",
         "line": {
          "color": "rgba(255,255,255,0)"
         },
         "showlegend": false,
         "type": "scatter",
         "x": [
          10000,
          100000,
          200000,
          1000000,
          2000000,
          3000000,
          4000000,
          5000000,
          6000000,
          6000000,
          5000000,
          4000000,
          3000000,
          2000000,
          1000000,
          200000,
          100000,
          10000
         ],
         "y": [
          0.643213192928493,
          0.7153188845666411,
          0.7121775316719028,
          0.7568828368863709,
          0.7647924359488274,
          0.7692925541112254,
          0.7748453925556873,
          0.78022357260073,
          0.7802727874178867,
          0.7802727874178867,
          0.78022357260073,
          0.7748453925556873,
          0.7692925541112254,
          0.7647924359488274,
          0.7568828368863709,
          0.7121775316719028,
          0.7153188845666411,
          0.643213192928493
         ]
        }
       ],
       "layout": {
        "annotations": [
         {
          "arrowhead": 6,
          "arrowsize": 0.75,
          "showarrow": true,
          "text": "DQN - Alpha 0.999: 0.7821",
          "x": 5000000,
          "y": 0.7821316876421817
         }
        ],
        "height": 500,
        "template": {
         "layout": {
          "font": {
           "color": "black"
          },
          "paper_bgcolor": "white",
          "plot_bgcolor": "rgb(224, 224, 224)",
          "title": {
           "font": {
            "size": 18
           },
           "x": 0.1,
           "xanchor": "left",
           "y": 0.9,
           "yanchor": "top"
          },
          "xaxis": {
           "linecolor": "black",
           "linewidth": 2,
           "ticks": "outside",
           "title": {
            "standoff": 15
           }
          },
          "yaxis": {
           "linecolor": "black",
           "linewidth": 2,
           "ticks": "outside",
           "title": {
            "standoff": 15
           }
          }
         }
        },
        "title": {
         "text": "DQN - Weighted Mean Comparison"
        },
        "width": 850,
        "xaxis": {
         "linecolor": "black",
         "linewidth": 2,
         "range": [
          0,
          6250000
         ],
         "tickangle": 60,
         "ticks": "outside",
         "ticktext": [
          "10K",
          "",
          "200K",
          "1M",
          "2M",
          "3M",
          "4M",
          "5M",
          "6M"
         ],
         "tickvals": [
          10000,
          100000,
          200000,
          1000000,
          2000000,
          3000000,
          4000000,
          5000000,
          6000000
         ],
         "title": {
          "standoff": 15,
          "text": "Training Steps"
         }
        },
        "yaxis": {
         "dtick": 0.02,
         "linecolor": "black",
         "linewidth": 2,
         "range": [
          0.62,
          0.79
         ],
         "ticks": "outside",
         "title": {
          "standoff": 15,
          "text": "Discounted Return"
         }
        }
       }
      }
     },
     "metadata": {},
     "output_type": "display_data"
    }
   ],
   "source": [
    "fig = go.Figure()\n",
    "\n",
    "for i in range(n_models):\n",
    "    returns_mean = models_returns_mean[i]\n",
    "    returns_std = models_returns_std[i]\n",
    "\n",
    "    fig.add_trace(\n",
    "        go.Scatter(\n",
    "            x=indices,\n",
    "            y=returns_mean,\n",
    "            mode=\"markers+lines\",\n",
    "            name=model_legend_names[i],\n",
    "            marker=dict(\n",
    "                size=4,\n",
    "                color=colorway[i]\n",
    "            ),\n",
    "        )\n",
    "    )\n",
    "\n",
    "    fig.add_trace(\n",
    "        go.Scatter(\n",
    "            x=indices + indices[::-1],\n",
    "            y=list(returns_mean + returns_std) + \\\n",
    "              list(returns_mean - returns_std)[::-1],\n",
    "            fill=\"tozerox\",\n",
    "            fillcolor=fillcolors[i],\n",
    "            line_color=\"rgba(255,255,255,0)\",\n",
    "            showlegend=False\n",
    "        )\n",
    "    )\n",
    "\n",
    "argmax = np.argmax(models_returns_mean) % len(models_returns_mean[0])\n",
    "best_model = np.argmax(models_returns_mean) // len(models_returns_mean[0])\n",
    "max = np.max(models_returns_mean)\n",
    "fig.add_annotation(\n",
    "    x=indices[argmax],\n",
    "    y=max,\n",
    "    text=f\"{model_legend_names[best_model]}: {max:.4f}\",\n",
    "    showarrow=True,\n",
    "    arrowhead=6,\n",
    "    arrowsize=0.75\n",
    ")\n",
    "\n",
    "fig.update_layout(\n",
    "    title=title,\n",
    "    xaxis=dict(\n",
    "        tickangle=60,\n",
    "        tickvals=indices,\n",
    "        ticktext=ticktext,\n",
    "        range=[0, 6_250_000],\n",
    "        title=\"Training Steps\"\n",
    "    ),\n",
    "    yaxis=dict(\n",
    "        range=[0.62, 0.79],\n",
    "        dtick=0.02,\n",
    "        title=\"Discounted Return\"\n",
    "    ),\n",
    "    width=850, height=500,\n",
    "    template=template\n",
    ")\n",
    "fig.update_yaxes(template.layout.yaxis)\n",
    "fig.update_xaxes(template.layout.xaxis)\n",
    "fig.show()"
   ]
  },
  {
   "cell_type": "code",
   "execution_count": 27,
   "metadata": {},
   "outputs": [],
   "source": [
    "fig.write_image(f\"./visualizations/results/{save_title}.pdf\")"
   ]
  }
 ],
 "metadata": {
  "kernelspec": {
   "display_name": "drlnrs",
   "language": "python",
   "name": "python3"
  },
  "language_info": {
   "codemirror_mode": {
    "name": "ipython",
    "version": 3
   },
   "file_extension": ".py",
   "mimetype": "text/x-python",
   "name": "python",
   "nbconvert_exporter": "python",
   "pygments_lexer": "ipython3",
   "version": "3.7.16"
  },
  "orig_nbformat": 4
 },
 "nbformat": 4,
 "nbformat_minor": 2
}
