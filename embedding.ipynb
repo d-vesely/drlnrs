{
 "cells": [
  {
   "cell_type": "code",
   "execution_count": null,
   "metadata": {},
   "outputs": [],
   "source": [
    "import numpy as np\n",
    "import openai\n",
    "import os\n",
    "import pandas as pd\n",
    "import plotly.express as px\n",
    "import random\n",
    "import torch\n",
    "from tqdm.auto import tqdm\n",
    "tqdm.pandas()\n",
    "\n",
    "import src.constants as constants\n",
    "from src.common_utils import read_pickled_data\n",
    "from src.data.embedding_utils import embed_news, embed_categories, load_embeddings, build_feature_vectors, load_feature_vectors, one_hot_encode_categories, embed_news_openai\n",
    "\n",
    "random.seed(42)"
   ]
  },
  {
   "cell_type": "code",
   "execution_count": null,
   "metadata": {},
   "outputs": [],
   "source": [
    "%load_ext autoreload\n",
    "%autoreload 2"
   ]
  },
  {
   "attachments": {},
   "cell_type": "markdown",
   "metadata": {},
   "source": [
    "Load the data."
   ]
  },
  {
   "cell_type": "code",
   "execution_count": null,
   "metadata": {},
   "outputs": [],
   "source": [
    "data_news = read_pickled_data([constants.CONCAT_ALL_PATH, \"preprocessed\", \"emb_news.pkl\"])\n",
    "data_news.head()"
   ]
  },
  {
   "attachments": {},
   "cell_type": "markdown",
   "metadata": {},
   "source": [
    "Produce the embeddings for title, abstract and the concatenation of title and abstract. Each result is stored in its own embeddings map."
   ]
  },
  {
   "cell_type": "code",
   "execution_count": null,
   "metadata": {},
   "outputs": [],
   "source": [
    "for to_embed in [\"all\"]:\n",
    "    emb_map = embed_news(\n",
    "        data_news,\n",
    "        \"sentence-transformers/all-mpnet-base-v2\",\n",
    "        save_dir=constants.CONCAT_ALL_PATH,\n",
    "        to_embed=to_embed,\n",
    "    )"
   ]
  },
  {
   "attachments": {},
   "cell_type": "markdown",
   "metadata": {},
   "source": [
    "In the following cells, we examine the structure of our embeddings. We sample 1000 random embeddings from an embeddings map, get statistical values and plot a histogram of the vector elements."
   ]
  },
  {
   "cell_type": "code",
   "execution_count": null,
   "metadata": {},
   "outputs": [],
   "source": [
    "title_embeddings_map = load_embeddings(constants.CONCAT_ALL_PATH, to_embed=\"abstract\")"
   ]
  },
  {
   "cell_type": "code",
   "execution_count": null,
   "metadata": {},
   "outputs": [],
   "source": [
    "samples = random.sample(list(title_embeddings_map.values()), 10000)\n",
    "samples = np.array([emb.numpy() for emb in samples])\n",
    "points = pd.DataFrame(samples.reshape(-1, 1), columns=[\"point\"])"
   ]
  },
  {
   "cell_type": "code",
   "execution_count": null,
   "metadata": {},
   "outputs": [],
   "source": [
    "print(np.square(samples).sum(axis=1).mean())"
   ]
  },
  {
   "cell_type": "code",
   "execution_count": null,
   "metadata": {},
   "outputs": [],
   "source": [
    "fig = px.histogram(\n",
    "    points,\n",
    "    x=\"point\",\n",
    "    range_x=[-0.5, 0.5],\n",
    "    nbins=200,\n",
    "    histnorm='probability',\n",
    "    title=\"Embeddings Distribution\",\n",
    "    width=750, height=500,\n",
    ")\n",
    "fig.update_xaxes(dtick=0.1)\n",
    "fig.show()"
   ]
  },
  {
   "attachments": {},
   "cell_type": "markdown",
   "metadata": {},
   "source": [
    "# Features"
   ]
  },
  {
   "cell_type": "code",
   "execution_count": null,
   "metadata": {},
   "outputs": [],
   "source": [
    "data_news = read_pickled_data([constants.CONCAT_ALL_PATH, \"preprocessed\", \"exp_news.pkl\"])\n",
    "data_news.head()"
   ]
  },
  {
   "cell_type": "code",
   "execution_count": null,
   "metadata": {},
   "outputs": [],
   "source": [
    "columns = [\n",
    "    \"title_length\",\n",
    "    \"title_no_stopwords_length\",\n",
    "    \"abstract_length\",\n",
    "    \"abstract_no_stopwords_length\",\n",
    "    \"title_and_abstract_length\",\n",
    "    \"title_and_abstract_no_stopwords_length\",\n",
    "    \"survival_time_hrs\",\n",
    "    \"clicked\",\n",
    "    \"ignored\",\n",
    "    \"shown\",\n",
    "    \"engagement_percentage\"\n",
    "]"
   ]
  },
  {
   "cell_type": "code",
   "execution_count": null,
   "metadata": {},
   "outputs": [],
   "source": [
    "features_map = build_feature_vectors(\n",
    "    data_news,\n",
    "    feature_columns=columns,\n",
    "    map_name=\"no_ts\",\n",
    "    save_dir=constants.CONCAT_ALL_PATH\n",
    ")"
   ]
  },
  {
   "attachments": {},
   "cell_type": "markdown",
   "metadata": {},
   "source": [
    "# Category Embeddings"
   ]
  },
  {
   "cell_type": "code",
   "execution_count": null,
   "metadata": {},
   "outputs": [],
   "source": [
    "cat_em, sub_cat_em = embed_categories(\n",
    "    data_news,\n",
    "    \"sentence-transformers/all-MiniLM-L12-v2\",\n",
    "    save_dir=constants.CONCAT_ALL_PATH\n",
    ")"
   ]
  },
  {
   "cell_type": "code",
   "execution_count": null,
   "metadata": {},
   "outputs": [],
   "source": [
    "cat_em = one_hot_encode_categories(data_news, save_dir=constants.CONCAT_ALL_PATH)"
   ]
  },
  {
   "attachments": {},
   "cell_type": "markdown",
   "metadata": {},
   "source": [
    "# OpenAI Embedding"
   ]
  },
  {
   "cell_type": "code",
   "execution_count": null,
   "metadata": {},
   "outputs": [],
   "source": [
    "openai.api_key = \"\""
   ]
  },
  {
   "cell_type": "code",
   "execution_count": null,
   "metadata": {},
   "outputs": [],
   "source": [
    "emb_map = embed_news_openai(data_news, save_dir=constants.CONCAT_ALL_PATH)"
   ]
  },
  {
   "cell_type": "code",
   "execution_count": null,
   "metadata": {},
   "outputs": [],
   "source": [
    "emb_map = torch.load(\n",
    "    os.path.join(\n",
    "        constants.CONCAT_ALL_PATH,\n",
    "        \"embeddings\", \"title_and_abstract_openai_emb_map.pt\"\n",
    "    )\n",
    ")"
   ]
  }
 ],
 "metadata": {
  "kernelspec": {
   "display_name": "drlnrs",
   "language": "python",
   "name": "python3"
  },
  "language_info": {
   "codemirror_mode": {
    "name": "ipython",
    "version": 3
   },
   "file_extension": ".py",
   "mimetype": "text/x-python",
   "name": "python",
   "nbconvert_exporter": "python",
   "pygments_lexer": "ipython3",
   "version": "3.7.16"
  },
  "orig_nbformat": 4,
  "vscode": {
   "interpreter": {
    "hash": "c3a871892b3c67473474f80d2a65da800da93289bc0b004e1295ce64be9e1442"
   }
  }
 },
 "nbformat": 4,
 "nbformat_minor": 2
}
