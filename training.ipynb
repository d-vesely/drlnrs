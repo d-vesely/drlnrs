{
 "cells": [
  {
   "cell_type": "code",
   "execution_count": null,
   "metadata": {},
   "outputs": [],
   "source": [
    "import os\n",
    "import torch\n",
    "\n",
    "from src import constants\n",
    "from src.rl.trainers.trainer_dqn import TrainerDQN\n",
    "from src.rl.trainers.trainer_c51 import TrainerC51\n",
    "from src.rl.trainers.trainer_qr import TrainerQR\n",
    "from src.rl.trainers.trainer_iqn import TrainerIQN\n",
    "from src.rl.trainers.trainer_fqf import TrainerFQF\n",
    "from src.rl.trainers.trainer_ddpg import TrainerDDPG\n",
    "from src.rl.trainers.trainer_td3 import TrainerTD3\n",
    "from src.rl.trainers.trainer_reinforce import TrainerREINFORCE"
   ]
  },
  {
   "cell_type": "code",
   "execution_count": null,
   "metadata": {},
   "outputs": [],
   "source": [
    "%load_ext autoreload\n",
    "%autoreload 2"
   ]
  },
  {
   "cell_type": "markdown",
   "metadata": {},
   "source": [
    "# Auxiliary and Encoder Settings"
   ]
  },
  {
   "cell_type": "code",
   "execution_count": null,
   "metadata": {},
   "outputs": [],
   "source": [
    "device = torch.device(\"cuda\" if torch.cuda.is_available() else \"cpu\")\n",
    "\n",
    "pos_replay_memory_path = os.path.join(\n",
    "    constants.TRAIN_PATH,\n",
    "    \"replay_memory\",\n",
    "    \"positive_samples.ftr\"\n",
    ")\n",
    "neg_replay_memory_path = os.path.join(\n",
    "    constants.TRAIN_PATH,\n",
    "    \"replay_memory\",\n",
    "    \"negative_samples.ftr\"\n",
    ")\n",
    "ep_rm_path = os.path.join(\n",
    "    constants.TRAIN_PATH,\n",
    "    \"replay_memory_episodic\",\n",
    "    \"replay_memory_episodic.ftr\"\n",
    ")\n",
    "embedding_map_paths = {\n",
    "    \"title\": os.path.join(constants.BASE_EMB_PATH, \"title_emb_map.pt\"),\n",
    "    \"abstract\": os.path.join(constants.BASE_EMB_PATH, \"abstract_emb_map.pt\"),\n",
    "    \"title_and_abstract\": os.path.join(constants.BASE_EMB_PATH, \"title_and_abstract_emb_map.pt\"),\n",
    "    \"category\": os.path.join(constants.BASE_EMB_PATH, \"category_1hot_map.pt\"),\n",
    "    \"sub_category\": os.path.join(constants.BASE_EMB_PATH, \"sub_category_emb_map.pt\"),\n",
    "    \"all\": os.path.join(constants.BASE_EMB_PATH, \"all_emb_map.pt\"),\n",
    "    \"features\": os.path.join(constants.BASE_EMB_PATH, \"train_norm_no_ts_features_map.pt\")\n",
    "}\n",
    "news_enc_elements = [\"title_and_abstract\", \"features\"]\n",
    "encoder_params = {\n",
    "    \"embeddings_map_paths\": {key: embedding_map_paths[key] for key in news_enc_elements},\n",
    "    \"news_enc_elements\": news_enc_elements,\n",
    "    \"news_embedding_size\": 778,\n",
    "    \"history_enc_method\": \"mean\",\n",
    "    \"weighted\": True,\n",
    "    \"alpha\": 0.999, # Ignored, if weighted == False\n",
    "    \"history_max_len\": None,\n",
    "}"
   ]
  },
  {
   "cell_type": "markdown",
   "metadata": {},
   "source": [
    "# Model and Learning Settings"
   ]
  },
  {
   "cell_type": "code",
   "execution_count": null,
   "metadata": {},
   "outputs": [],
   "source": [
    "model_name = \"DQN-nf-trainnorm-m\"\n",
    "\n",
    "learning_params = {\n",
    "    \"batch_size\": 64,\n",
    "    \"learning_rate\": 1e-4,\n",
    "    \"learning_decay_rate\": 0.7,\n",
    "    \"gamma\": 0.65,\n",
    "    \"pos_mem_pref\": 0.3,\n",
    "    \"n_steps\": 6_000_000,\n",
    "    \"freq_lr_schedule\": 1_000_000,\n",
    "    \"freq_checkpoint_save\": 1_000_000,\n",
    "    \"pos_mem_pref_adapt\": False,\n",
    "    \"freq_pos_mem_pref_adapt\": 6_000_000,\n",
    "    \"pos_mem_pref_adapt_step\": 0.04,\n",
    "    \"progress_saves\": [\n",
    "        10_000,\n",
    "        100_000,\n",
    "        200_000\n",
    "    ],\n",
    "    \"freq_target_update\": 5000,\n",
    "    \"soft_target_update\": False,\n",
    "    \"tau\": 0.01,\n",
    "}\n",
    "\n",
    "model_params = {\n",
    "    \"type\": \"default\",\n",
    "    \"double_learning\": False,\n",
    "    \"net_params\": {\n",
    "        \"hidden_size\": 4096,\n",
    "        \"state_item_join_size\": 1556,\n",
    "    }\n",
    "}"
   ]
  },
  {
   "cell_type": "markdown",
   "metadata": {},
   "source": [
    "# Training"
   ]
  },
  {
   "cell_type": "markdown",
   "metadata": {},
   "source": [
    "Depending on the desired DRL algorithm, replace the trainer. All arguments are the same for all trainers."
   ]
  },
  {
   "cell_type": "code",
   "execution_count": null,
   "metadata": {},
   "outputs": [],
   "source": [
    "seed = 7\n",
    "trainer = TrainerDQN(\n",
    "    model_name, device,\n",
    "    pos_replay_memory_path, neg_replay_memory_path,\n",
    "    encoder_params, learning_params, model_params,\n",
    "    seed=seed\n",
    ")\n",
    "trainer.set_trainee()\n",
    "trainer.train()"
   ]
  },
  {
   "cell_type": "code",
   "execution_count": null,
   "metadata": {},
   "outputs": [],
   "source": [
    "seed = 42\n",
    "trainer = TrainerDQN(\n",
    "    model_name, device,\n",
    "    pos_replay_memory_path, neg_replay_memory_path,\n",
    "    encoder_params, learning_params, model_params,\n",
    "    seed=seed\n",
    ")\n",
    "trainer.set_trainee()\n",
    "trainer.train()"
   ]
  },
  {
   "attachments": {},
   "cell_type": "markdown",
   "metadata": {},
   "source": [
    "# REINFORCE"
   ]
  },
  {
   "cell_type": "code",
   "execution_count": null,
   "metadata": {},
   "outputs": [],
   "source": [
    "model_name = \"REINFORCE-n-m\"\n",
    "\n",
    "learning_params = {\n",
    "    \"learning_rate\": 1e-4,\n",
    "    \"learning_decay_rate\": 0.7,\n",
    "    \"gamma\": 0.65,\n",
    "    \"n_steps\": 300_000,\n",
    "    \"freq_lr_schedule\": 100_000,\n",
    "    \"freq_checkpoint_save\": 100_000,\n",
    "}\n",
    "\n",
    "model_params = {\n",
    "    \"type\": \"default\",\n",
    "    \"net_params\": {\n",
    "        \"hidden_size\": 4096,\n",
    "        \"state_item_join_size\": 1536,\n",
    "    }\n",
    "}"
   ]
  },
  {
   "cell_type": "code",
   "execution_count": null,
   "metadata": {},
   "outputs": [],
   "source": [
    "seed = 7\n",
    "trainer = TrainerREINFORCE(\n",
    "    model_name, device,\n",
    "    pos_replay_memory_path, neg_replay_memory_path,\n",
    "    encoder_params, learning_params, model_params,\n",
    "    seed=seed, ep_rm_path=ep_rm_path\n",
    ")"
   ]
  },
  {
   "cell_type": "code",
   "execution_count": null,
   "metadata": {},
   "outputs": [],
   "source": [
    "trainer.set_trainee()\n",
    "trainer.train_REINFORCE()"
   ]
  }
 ],
 "metadata": {
  "kernelspec": {
   "display_name": "drlnrs",
   "language": "python",
   "name": "python3"
  },
  "language_info": {
   "codemirror_mode": {
    "name": "ipython",
    "version": 3
   },
   "file_extension": ".py",
   "mimetype": "text/x-python",
   "name": "python",
   "nbconvert_exporter": "python",
   "pygments_lexer": "ipython3",
   "version": "3.7.16"
  },
  "orig_nbformat": 4
 },
 "nbformat": 4,
 "nbformat_minor": 2
}
