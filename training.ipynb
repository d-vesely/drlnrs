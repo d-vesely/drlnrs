{
 "cells": [
  {
   "cell_type": "code",
   "execution_count": 1,
   "metadata": {},
   "outputs": [],
   "source": [
    "import os\n",
    "import torch\n",
    "\n",
    "from src import constants\n",
    "from src.rl.trainers.trainer_dqn import TrainerDQN\n",
    "from src.rl.trainers.trainer_c51 import TrainerC51\n",
    "from src.rl.trainers.trainer_qr import TrainerQR\n",
    "from src.rl.trainers.trainer_iqn import TrainerIQN\n",
    "from src.rl.trainers.trainer_fqf import TrainerFQF"
   ]
  },
  {
   "cell_type": "code",
   "execution_count": 2,
   "metadata": {},
   "outputs": [],
   "source": [
    "%load_ext autoreload\n",
    "%autoreload 2"
   ]
  },
  {
   "cell_type": "code",
   "execution_count": 4,
   "metadata": {},
   "outputs": [],
   "source": [
    "device = torch.device(\"cuda\" if torch.cuda.is_available() else \"cpu\")\n",
    "\n",
    "pos_replay_memory_path = os.path.join(\n",
    "    constants.TRAIN_PATH,\n",
    "    \"replay_memory\",\n",
    "    \"positive_samples.ftr\"\n",
    ")\n",
    "neg_replay_memory_path = os.path.join(\n",
    "    constants.TRAIN_PATH,\n",
    "    \"replay_memory\",\n",
    "    \"negative_samples.ftr\"\n",
    ")\n",
    "embedding_map_paths = {\n",
    "    \"title\": os.path.join(constants.BASE_EMB_PATH, \"title_emb_map.pt\"),\n",
    "    \"abstract\": os.path.join(constants.BASE_EMB_PATH, \"abstract_emb_map.pt\"),\n",
    "    \"title_and_abstract\": os.path.join(constants.BASE_EMB_PATH, \"title_and_abstract_emb_map.pt\"),\n",
    "    \"category\": os.path.join(constants.BASE_EMB_PATH, \"category_1hot_map.pt\"),\n",
    "    \"sub_category\": os.path.join(constants.BASE_EMB_PATH, \"sub_category_emb_map.pt\"),\n",
    "    \"all\": os.path.join(constants.BASE_EMB_PATH, \"all_emb_map.pt\"),\n",
    "    \"features\": os.path.join(constants.BASE_EMB_PATH, \"no_ts_features_map.pt\")\n",
    "}\n",
    "news_enc_elements = [\"title_and_abstract\"]\n",
    "encoder_params = {\n",
    "    \"embeddings_map_paths\": {key: embedding_map_paths[key] for key in news_enc_elements},\n",
    "    \"news_enc_elements\": news_enc_elements,\n",
    "    \"news_embedding_size\": 768,\n",
    "    \"history_enc_method\": \"mean\",\n",
    "    \"weighted\": True,\n",
    "    \"alpha\": 0.99, # Ignored, if weighted == False\n",
    "    \"history_max_len\": None,\n",
    "}"
   ]
  },
  {
   "cell_type": "code",
   "execution_count": 5,
   "metadata": {},
   "outputs": [],
   "source": [
    "model_name = \"DQN-n-m-99w\"\n",
    "\n",
    "learning_params = {\n",
    "    \"batch_size\": 64,\n",
    "    \"learning_rate\": 1e-4,\n",
    "    \"learning_decay_rate\": 0.7,\n",
    "    \"gamma\": 0.65,\n",
    "    \"pos_mem_pref\": 0.3,\n",
    "    \"n_steps\": 6_000_000,\n",
    "    \"freq_lr_schedule\": 1_000_000,\n",
    "    \"freq_checkpoint_save\": 1_000_000,\n",
    "    \"pos_mem_pref_adapt\": False,\n",
    "    \"freq_pos_mem_pref_adapt\": 6_000_000,\n",
    "    \"pos_mem_pref_adapt_step\": 0.04,\n",
    "    \"progress_saves\": [\n",
    "        10_000,\n",
    "        100_000,\n",
    "        200_000\n",
    "    ],\n",
    "    \"freq_target_update\": 5_000,\n",
    "    \"soft_target_update\": False,\n",
    "    \"tau\": 0.01,\n",
    "}\n",
    "\n",
    "model_params = {\n",
    "    \"type\": \"default\",\n",
    "    \"double_learning\": False,\n",
    "    \"net_params\": {\n",
    "        \"news_emb_layers\": False,\n",
    "        \"norm\": False,\n",
    "        \"item_size\": 768,\n",
    "        \"hidden_size\": 4096,\n",
    "        \"state_item_join_size\": 1536,\n",
    "    }\n",
    "}"
   ]
  },
  {
   "cell_type": "code",
   "execution_count": 6,
   "metadata": {},
   "outputs": [
    {
     "name": "stdout",
     "output_type": "stream",
     "text": [
      "[INFO] setting seed: 7\n",
      "[INFO] device: cuda\n",
      "[INFO] preparing directory c:\\workbench\\developer\\drlnrs\\models\\DQN-n-m-99w\n",
      "[INFO] writing config files to directory\n",
      "[INFO] preparing data and samplers\n"
     ]
    }
   ],
   "source": [
    "seed = 7\n",
    "trainer = TrainerDQN(\n",
    "    model_name, device,\n",
    "    pos_replay_memory_path, neg_replay_memory_path,\n",
    "    encoder_params, learning_params, model_params,\n",
    "    seed=seed\n",
    ")"
   ]
  },
  {
   "cell_type": "code",
   "execution_count": 6,
   "metadata": {},
   "outputs": [
    {
     "name": "stdout",
     "output_type": "stream",
     "text": [
      "[INFO] number of trainable DQN parameters: 31992321\n",
      "[INFO] initial learning rate: 0.000100\n"
     ]
    },
    {
     "data": {
      "application/vnd.jupyter.widget-view+json": {
       "model_id": "f2e8ecbfc9b14095b99249bdec0008f5",
       "version_major": 2,
       "version_minor": 0
      },
      "text/plain": [
       "  0%|          | 0/93750 [00:00<?, ?it/s]"
      ]
     },
     "metadata": {},
     "output_type": "display_data"
    },
    {
     "name": "stdout",
     "output_type": "stream",
     "text": [
      "[INFO] saving model checkpoint 1\n",
      "[INFO] example Q values: \n",
      "tensor([-0.5408, -0.5742, -0.3827, -0.2989, -0.3819, -0.3104, -0.3998, -0.4309,\n",
      "        -0.5216, -0.5583, -0.3476, -0.6435, -0.5549, -0.4170, -0.6313, -0.3208,\n",
      "        -0.6606, -0.4331, -0.3294, -0.4411, -0.3937, -0.3033, -0.3954, -0.5241,\n",
      "        -0.5324, -0.4486, -0.3906, -0.3982, -0.5798, -0.5457, -0.3273, -0.6060,\n",
      "        -0.5211, -0.3531, -0.4378, -0.3169, -0.3353, -0.3851, -0.6677, -0.4151,\n",
      "        -0.3415, -0.5415, -0.5735, -0.5324, -0.5582, -0.2292, -0.3489, -0.3001,\n",
      "        -0.4246, -0.5395, -0.3994, -0.7239, -0.6472, -0.4442, -0.3387, -0.5758,\n",
      "        -0.2581, -0.4851, -0.4196, -0.4571, -0.3442, -0.6308, -0.2390, -0.4362],\n",
      "       device='cuda:0', grad_fn=<SqueezeBackward1>)\n",
      "[INFO] saving model checkpoint 2\n",
      "[INFO] example Q values: \n",
      "tensor([-0.1409, -0.1676, -0.3412, -0.5495,  0.0119, -0.1155, -0.5147, -0.7255,\n",
      "        -0.2593, -0.0627,  1.4096, -0.5600, -0.3133,  0.9325, -0.5591, -0.3196,\n",
      "        -0.2651, -0.1227, -0.2890, -0.4191,  1.2287,  0.4108, -0.4770, -0.3303,\n",
      "        -0.7258, -0.4928,  1.1212,  0.5826, -0.4932, -0.3950, -0.4949,  0.5737,\n",
      "         1.5135,  0.0299, -0.1688, -0.3128, -0.6477, -0.4392, -0.2536, -0.3195,\n",
      "        -0.3435,  0.7407, -0.4302, -0.4608,  0.1897, -0.1658, -0.4085, -0.5578,\n",
      "        -0.2963, -0.4341, -0.6236, -0.3547, -0.3775, -0.2465, -0.2630, -0.3090,\n",
      "        -0.4197, -0.3057,  0.6768, -0.5302,  1.0934,  1.3055,  0.2534, -0.1207],\n",
      "       device='cuda:0', grad_fn=<SqueezeBackward1>)\n",
      "[INFO] saving model checkpoint 3\n",
      "[INFO] example Q values: \n",
      "tensor([-0.5275, -0.3625, -0.5524, -0.4381, -0.6884, -0.3332, -0.8364,  0.3385,\n",
      "        -0.7496, -0.3269, -0.6566, -0.1010, -0.9790, -0.1662, -0.2393, -0.4875,\n",
      "        -0.4264, -0.1554, -0.3967, -0.3076, -0.3406, -0.4137, -0.6358, -0.4256,\n",
      "        -0.6456, -0.3446, -0.3327,  0.1440, -0.6231, -0.4525, -0.7070, -0.6174,\n",
      "        -0.4263, -0.8386, -0.4820, -0.3067, -0.3299, -0.3954, -0.3679, -0.3446,\n",
      "        -0.3038, -0.5734, -0.5408, -0.5364, -0.3526, -0.7728, -0.3113, -0.6690,\n",
      "        -0.6252, -0.7048, -0.8090, -0.5431, -0.9505, -0.4808, -0.3800, -0.2316,\n",
      "        -0.1698, -0.4709, -0.4840, -0.4979, -0.5236, -0.1242, -0.3569, -0.6814],\n",
      "       device='cuda:0', grad_fn=<SqueezeBackward1>)\n",
      "[INFO] new learning rate: 0.000070\n",
      "[INFO] saving model checkpoint 4\n",
      "[INFO] example Q values: \n",
      "tensor([ 0.5991, -0.0859,  0.6070, -0.1857,  1.1082, -0.0685, -0.3337,  0.9112,\n",
      "        -0.0786,  0.3390,  1.2682,  0.3391, -0.5569, -0.0436,  0.9613,  0.5150,\n",
      "         0.2394,  1.2067, -0.3098,  0.6733,  1.0659,  0.2070,  0.3299,  0.4054,\n",
      "        -0.2865, -0.2389,  1.1418,  1.0280,  0.6429, -0.1587,  0.5230,  0.4017,\n",
      "         0.4559,  1.3094,  1.2450,  0.1469,  0.3415,  0.9454, -0.4800, -0.0898,\n",
      "         1.3808,  1.3765, -0.1087,  0.5574,  0.5874, -0.3645,  0.3082, -0.1023,\n",
      "        -0.4436, -0.3361,  1.1506,  1.0601,  0.3654,  0.5990, -0.2456,  1.1601,\n",
      "         0.6068,  0.6238,  0.6407,  0.6324, -0.0316,  0.1046,  0.3452,  0.7284],\n",
      "       device='cuda:0', grad_fn=<SqueezeBackward1>)\n",
      "[INFO] new learning rate: 0.000049\n",
      "[INFO] saving model checkpoint 5\n",
      "[INFO] example Q values: \n",
      "tensor([ 0.2412,  0.7670, -0.5913, -0.1156,  1.0030,  0.1527, -0.2482,  0.2041,\n",
      "         0.3838,  0.5420,  0.9812,  0.4435,  0.7367,  0.6301,  1.2177,  0.0360,\n",
      "         0.8704,  1.1921,  0.7628, -0.3819,  0.6509,  1.0397,  0.6080,  0.0277,\n",
      "         0.5474,  0.1745,  0.0306,  0.5994, -0.5270, -0.4201,  0.2230,  0.2965,\n",
      "        -0.1785,  1.1840, -0.0679,  1.0461,  0.0239,  0.1575, -0.2235, -0.1402,\n",
      "        -0.3232, -0.4739, -0.1646, -0.3357, -0.1999, -0.4361,  0.9832,  0.2054,\n",
      "         0.3887,  0.8797,  0.2964,  0.5231, -0.0771, -0.0977, -0.0525, -0.4512,\n",
      "         0.6370, -0.5339, -0.2380,  0.3141, -0.1542,  0.7515,  1.0623,  0.8129],\n",
      "       device='cuda:0', grad_fn=<SqueezeBackward1>)\n",
      "[INFO] new learning rate: 0.000034\n",
      "[INFO] saving model checkpoint 6\n",
      "[INFO] example Q values: \n",
      "tensor([-0.9419, -0.6540, -0.3007, -0.7244, -0.6575, -0.6287, -0.5224, -0.4198,\n",
      "        -0.3860, -0.1243, -0.6690, -0.3126, -0.3030,  0.3541, -0.6239, -0.7379,\n",
      "        -0.4730,  0.0264, -0.1248, -0.3145, -0.5913, -0.3745, -0.5599, -0.5437,\n",
      "        -0.5533,  0.2164, -0.5795, -0.2469,  0.0095, -0.6212, -0.3512, -0.4976,\n",
      "        -0.5392, -0.4394,  0.2489, -0.2424, -0.2796, -0.4993, -0.6466, -0.4569,\n",
      "        -0.5148, -0.4727, -0.5944, -0.5324, -0.5904, -0.0168, -0.6662, -0.3581,\n",
      "        -0.5603, -0.7339,  0.3948, -0.7621, -0.4366,  0.3809, -0.4388,  0.1401,\n",
      "        -0.4217, -0.6063,  0.0115, -0.0616, -0.5522, -0.3171,  0.1079,  0.1297],\n",
      "       device='cuda:0', grad_fn=<SqueezeBackward1>)\n",
      "[INFO] new learning rate: 0.000024\n",
      "[INFO] saving model checkpoint 7\n",
      "[INFO] example Q values: \n",
      "tensor([-0.5326, -0.2521, -0.0378, -0.6349, -0.3068, -0.5053, -0.3156, -0.3045,\n",
      "        -0.0704, -0.2942, -0.4030, -0.3785, -0.3459, -0.4348, -0.3506,  0.4443,\n",
      "        -0.2443, -0.6055, -0.1292, -0.0631, -0.4906,  0.6215, -0.4340,  0.2502,\n",
      "        -0.3820,  0.3814, -0.4435, -0.3894, -0.1854, -0.0526,  0.2758, -0.4562,\n",
      "        -0.6296, -0.2574, -0.1361, -0.3915, -0.5543, -0.2241, -0.3390,  0.3873,\n",
      "        -0.1794, -0.3231,  0.0507, -0.4717,  0.1408, -0.4291, -0.0506, -0.1831,\n",
      "         0.1990, -0.2544, -0.1995, -0.3957, -0.4540, -0.5529, -0.3666, -0.3434,\n",
      "        -0.4046, -0.2505, -0.2019, -0.4677, -0.7151, -0.6740, -0.3343,  0.1108],\n",
      "       device='cuda:0', grad_fn=<SqueezeBackward1>)\n",
      "[INFO] new learning rate: 0.000017\n",
      "[INFO] saving model checkpoint 8\n",
      "[INFO] example Q values: \n",
      "tensor([ 0.9983, -0.3084,  1.2271,  0.7326, -0.2429, -0.2023,  0.2398, -0.0720,\n",
      "         1.0715,  1.2388, -0.4221, -0.4927,  0.0096,  1.0495,  0.9752,  0.0629,\n",
      "         0.1517,  0.9709,  0.4845,  0.2207, -0.3787,  0.1793,  0.5669,  0.0370,\n",
      "         1.0881,  0.4236,  0.5296,  0.7430,  0.6027,  0.1691, -0.2057,  1.0037,\n",
      "         0.8437, -0.1015,  0.2085, -0.4987, -0.0836, -0.2923, -0.2940,  0.9536,\n",
      "        -0.0923,  0.7443,  0.0578, -0.3548,  0.1726, -0.2833,  0.2459, -0.2111,\n",
      "        -0.2774,  0.0233,  0.4877, -0.1953, -0.4227, -0.0262,  1.1661,  1.2364,\n",
      "         1.1765, -0.2694, -0.4010,  0.8573,  0.9301, -0.4385,  0.2354,  0.9205],\n",
      "       device='cuda:0', grad_fn=<SqueezeBackward1>)\n",
      "[INFO] saving final model\n"
     ]
    }
   ],
   "source": [
    "trainer.set_trainee()\n",
    "trainer.train()"
   ]
  },
  {
   "cell_type": "code",
   "execution_count": null,
   "metadata": {},
   "outputs": [],
   "source": [
    "seed = 42\n",
    "trainer = TrainerQR(\n",
    "    model_name, device,\n",
    "    pos_replay_memory_path, neg_replay_memory_path,\n",
    "    encoder_params, learning_params, model_params,\n",
    "    seed=seed\n",
    ")"
   ]
  },
  {
   "cell_type": "code",
   "execution_count": null,
   "metadata": {},
   "outputs": [],
   "source": [
    "trainer.set_trainee()\n",
    "trainer.train()"
   ]
  },
  {
   "attachments": {},
   "cell_type": "markdown",
   "metadata": {},
   "source": [
    "# SAC"
   ]
  },
  {
   "cell_type": "code",
   "execution_count": null,
   "metadata": {},
   "outputs": [],
   "source": [
    "model_name = \"sac\"\n",
    "device = torch.device(\"cuda\" if torch.cuda.is_available() else \"cpu\")\n",
    "print(device)\n",
    "\n",
    "to_embed = \"title_and_abstract\"\n",
    "pos_replay_memory_path = os.path.join(\n",
    "    constants.TRAIN_PATH,\n",
    "    \"replay_memory\",\n",
    "    \"positive_samples.ftr\"\n",
    ")\n",
    "neg_replay_memory_path = os.path.join(\n",
    "    constants.TRAIN_PATH,\n",
    "    \"replay_memory\",\n",
    "    \"negative_samples.ftr\"\n",
    ")\n",
    "\n",
    "encoder_params = {\n",
    "    \"method\": \"mean\",\n",
    "    \"weighted\": True,\n",
    "    \"alpha\": 0.999, # Ignored, if weighted == False\n",
    "    \"history_max_len\": 20,\n",
    "    \"embedding_size\": 768\n",
    "}\n",
    "learning_params = {\n",
    "    \"learning_rate\": 1e-4,\n",
    "    \"learning_decay_rate\": 0.7,\n",
    "    \"gamma\": 0.8,\n",
    "    \"pos_mem_pref\": 0.5,\n",
    "    \"n_steps\": 2_000_000,\n",
    "    \"freq_lr_schedule\": 1_000_000,\n",
    "    \"freq_checkpoint_save\": 1_000_000,\n",
    "    \"freq_target_update\": 500,\n",
    "    \"soft_target_update\": True,\n",
    "    \"tau\": 0.005,\n",
    "}\n",
    "model_params = {\n",
    "    \"state_size\": 768,\n",
    "    \"item_size\": 768,\n",
    "    \"hidden_size\": 2048,\n",
    "}"
   ]
  },
  {
   "cell_type": "code",
   "execution_count": null,
   "metadata": {},
   "outputs": [],
   "source": [
    "trainer = Trainer(\n",
    "    model_name, device, to_embed,\n",
    "    pos_replay_memory_path, neg_replay_memory_path,\n",
    "    encoder_params, learning_params, model_params\n",
    ")"
   ]
  },
  {
   "cell_type": "code",
   "execution_count": null,
   "metadata": {},
   "outputs": [],
   "source": [
    "trainer.set_trainee_SAC()"
   ]
  },
  {
   "cell_type": "code",
   "execution_count": null,
   "metadata": {},
   "outputs": [],
   "source": [
    "trainer.train_SAC(128, neg_rewards=True)"
   ]
  },
  {
   "attachments": {},
   "cell_type": "markdown",
   "metadata": {},
   "source": [
    "# TD3\n"
   ]
  },
  {
   "cell_type": "code",
   "execution_count": null,
   "metadata": {},
   "outputs": [],
   "source": [
    "model_name = \"td3-real\"\n",
    "device = torch.device(\"cuda\" if torch.cuda.is_available() else \"cpu\")\n",
    "print(device)\n",
    "\n",
    "to_embed = \"title_and_abstract\"\n",
    "pos_replay_memory_path = os.path.join(\n",
    "    constants.TRAIN_PATH,\n",
    "    \"replay_memory\",\n",
    "    \"positive_samples.ftr\"\n",
    ")\n",
    "neg_replay_memory_path = os.path.join(\n",
    "    constants.TRAIN_PATH,\n",
    "    \"replay_memory\",\n",
    "    \"negative_samples.ftr\"\n",
    ")\n",
    "\n",
    "encoder_params = {\n",
    "    \"method\": \"mean\",\n",
    "    \"weighted\": True,\n",
    "    \"alpha\": 0.999, # Ignored, if weighted == False\n",
    "    \"history_max_len\": 20,\n",
    "    \"embedding_size\": 768\n",
    "}\n",
    "learning_params = {\n",
    "    \"learning_rate\": 1e-4,\n",
    "    \"learning_decay_rate\": 0.7,\n",
    "    \"gamma\": 0.8,\n",
    "    \"pos_mem_pref\": 0.5,\n",
    "    \"n_steps\": 4_000_000,\n",
    "    \"freq_lr_schedule\": 1_000_000,\n",
    "    \"freq_checkpoint_save\": 1_000_000,\n",
    "    \"freq_target_update\": 500,\n",
    "    \"soft_target_update\": True,\n",
    "    \"tau\": 0.005,\n",
    "}\n",
    "model_params = {\n",
    "    \"state_size\": 768,\n",
    "    \"action_size\": 768,\n",
    "    \"a_hidden_size\": 2048,\n",
    "    \"c_hidden_size\": 2048,\n",
    "    \"tanh\": True,\n",
    "}"
   ]
  },
  {
   "cell_type": "code",
   "execution_count": null,
   "metadata": {},
   "outputs": [],
   "source": [
    "trainer = Trainer(\n",
    "    model_name, device, to_embed,\n",
    "    pos_replay_memory_path, neg_replay_memory_path,\n",
    "    encoder_params, learning_params, model_params\n",
    ")"
   ]
  },
  {
   "cell_type": "code",
   "execution_count": null,
   "metadata": {},
   "outputs": [],
   "source": [
    "trainer.set_trainee_TD3()"
   ]
  },
  {
   "cell_type": "code",
   "execution_count": null,
   "metadata": {},
   "outputs": [],
   "source": [
    "trainer.train_td3(16, neg_rewards=True, lstm=False)"
   ]
  },
  {
   "attachments": {},
   "cell_type": "markdown",
   "metadata": {},
   "source": [
    "# DQN Dueling"
   ]
  },
  {
   "cell_type": "code",
   "execution_count": null,
   "metadata": {},
   "outputs": [],
   "source": [
    "model_name = \"dqn-dueling-emb-with-feat-1M\"\n",
    "\n",
    "learning_params = {\n",
    "    \"learning_rate\": 1e-4,\n",
    "    \"learning_decay_rate\": 0.7,\n",
    "    \"gamma\": 0.8,\n",
    "    \"pos_mem_pref\": 0.7,\n",
    "    \"n_steps\": 1_000_000,\n",
    "    \"freq_lr_schedule\": 1_000_000,\n",
    "    \"freq_checkpoint_save\": 1_000_000,\n",
    "    \"freq_target_update\": 500,\n",
    "    \"soft_target_update\": False,\n",
    "    \"tau\": 0.005,\n",
    "}\n",
    "model_params = {\n",
    "    \"state_size\": 768,\n",
    "    \"action_size\": 768,\n",
    "    \"hidden_size\": 4096\n",
    "}"
   ]
  },
  {
   "cell_type": "code",
   "execution_count": null,
   "metadata": {},
   "outputs": [],
   "source": [
    "trainer = Trainer_DQN(\n",
    "    model_name, device,\n",
    "    pos_replay_memory_path, neg_replay_memory_path,\n",
    "    encoder_params, learning_params, model_params\n",
    ")"
   ]
  },
  {
   "cell_type": "code",
   "execution_count": null,
   "metadata": {},
   "outputs": [],
   "source": [
    "trainer.set_trainee(type=\"dueling\", n_actions=2)"
   ]
  },
  {
   "cell_type": "code",
   "execution_count": null,
   "metadata": {},
   "outputs": [],
   "source": [
    "trainer.train(batch_size=32)"
   ]
  },
  {
   "attachments": {},
   "cell_type": "markdown",
   "metadata": {},
   "source": []
  },
  {
   "attachments": {},
   "cell_type": "markdown",
   "metadata": {},
   "source": []
  },
  {
   "attachments": {},
   "cell_type": "markdown",
   "metadata": {},
   "source": []
  },
  {
   "attachments": {},
   "cell_type": "markdown",
   "metadata": {},
   "source": []
  },
  {
   "cell_type": "code",
   "execution_count": null,
   "metadata": {},
   "outputs": [],
   "source": [
    "import numpy as np\n",
    "import pandas as pd\n",
    "samples = np.array([ac for ac in a])\n",
    "points = pd.DataFrame(samples.reshape(-1, 1), columns=[\"point\"])"
   ]
  },
  {
   "cell_type": "code",
   "execution_count": null,
   "metadata": {},
   "outputs": [],
   "source": [
    "import plotly.express as px\n",
    "fig = px.histogram(\n",
    "    points,\n",
    "    x=\"point\",\n",
    "    range_x=[-0.5, 0.5],\n",
    "    nbins=200,\n",
    "    histnorm='probability',\n",
    "    title=\"Embeddings Distribution\",\n",
    "    width=750, height=500,\n",
    "    # TODO template\n",
    ")\n",
    "fig.update_xaxes(dtick=0.1)\n",
    "fig.show()"
   ]
  },
  {
   "cell_type": "code",
   "execution_count": null,
   "metadata": {},
   "outputs": [],
   "source": [
    "import plotly.express as px\n",
    "fig = px.histogram(\n",
    "    points,\n",
    "    x=\"point\",\n",
    "    range_x=[-0.5, 0.5],\n",
    "    nbins=200,\n",
    "    histnorm='probability',\n",
    "    title=\"Embeddings Distribution\",\n",
    "    width=750, height=500,\n",
    "    # TODO template\n",
    ")\n",
    "fig.update_xaxes(dtick=0.1)\n",
    "fig.show()"
   ]
  },
  {
   "cell_type": "code",
   "execution_count": null,
   "metadata": {},
   "outputs": [],
   "source": [
    "import plotly.express as px\n",
    "fig = px.histogram(\n",
    "    points,\n",
    "    x=\"point\",\n",
    "    range_x=[-2, 2],\n",
    "    nbins=200,\n",
    "    histnorm='probability',\n",
    "    title=\"Embeddings Distribution\",\n",
    "    width=750, height=500,\n",
    "    # TODO template\n",
    ")\n",
    "fig.update_xaxes(dtick=0.1)\n",
    "fig.show()"
   ]
  },
  {
   "attachments": {},
   "cell_type": "markdown",
   "metadata": {},
   "source": [
    "# DQN"
   ]
  },
  {
   "cell_type": "code",
   "execution_count": null,
   "metadata": {},
   "outputs": [],
   "source": [
    "model_name = \"DQN-n-m-nonorm-xxlh-pmp30-g65-stu1\"\n",
    "\n",
    "learning_params = {\n",
    "    \"batch_size\": 64,\n",
    "    \"learning_rate\": 1e-4,\n",
    "    \"learning_decay_rate\": 0.7,\n",
    "    \"gamma\": 0.65,\n",
    "    \"pos_mem_pref\": 0.3,\n",
    "    \"n_steps\": 6_000_000,\n",
    "    \"freq_lr_schedule\": 1_000_000,\n",
    "    \"freq_checkpoint_save\": 1_000_000,\n",
    "    \"progress_saves\": [\n",
    "        10000,\n",
    "        100000,\n",
    "        200000\n",
    "    ],\n",
    "    \"freq_target_update\": 64,\n",
    "    \"soft_target_update\": True,\n",
    "    \"tau\": 0.01,\n",
    "}\n",
    "\n",
    "model_params = {\n",
    "    \"type\": \"default\",\n",
    "    \"n_actions\": 1,\n",
    "    \"double_learning\": False,\n",
    "    \"net_params\": {\n",
    "        \"news_emb_layers\": False,\n",
    "        \"norm\": False,\n",
    "        \"item_size\": 768,\n",
    "        \"hidden_size\": 4096,\n",
    "        \"state_item_join_size\": 1536\n",
    "    }\n",
    "}"
   ]
  },
  {
   "cell_type": "code",
   "execution_count": null,
   "metadata": {},
   "outputs": [],
   "source": [
    "seed = 7\n",
    "trainer = TrainerDQN(\n",
    "    model_name, device,\n",
    "    pos_replay_memory_path, neg_replay_memory_path,\n",
    "    encoder_params, learning_params, model_params,\n",
    "    seed=seed\n",
    ")\n",
    "trainer.set_trainee()\n",
    "trainer.train()\n",
    "seed = 42\n",
    "trainer = TrainerDQN(\n",
    "    model_name, device,\n",
    "    pos_replay_memory_path, neg_replay_memory_path,\n",
    "    encoder_params, learning_params, model_params,\n",
    "    seed=seed\n",
    ")\n",
    "trainer.set_trainee()\n",
    "trainer.train()"
   ]
  },
  {
   "cell_type": "code",
   "execution_count": null,
   "metadata": {},
   "outputs": [],
   "source": [
    "trainer.set_trainee()\n",
    "trainer.train()"
   ]
  },
  {
   "cell_type": "code",
   "execution_count": null,
   "metadata": {},
   "outputs": [],
   "source": [
    "model_name = \"DDQN-n-stu1\"\n",
    "\n",
    "learning_params = {\n",
    "    \"batch_size\": 64,\n",
    "    \"learning_rate\": 1e-4,\n",
    "    \"learning_decay_rate\": 0.7,\n",
    "    \"gamma\": 0.65,\n",
    "    \"pos_mem_pref\": 0.3,\n",
    "    \"n_steps\": 6_000_000,\n",
    "    \"freq_lr_schedule\": 1_000_000,\n",
    "    \"freq_checkpoint_save\": 1_000_000,\n",
    "    \"progress_saves\": [\n",
    "        10000,\n",
    "        100000,\n",
    "        200000\n",
    "    ],\n",
    "    \"freq_target_update\": 64,\n",
    "    \"soft_target_update\": True,\n",
    "    \"tau\": 0.01,\n",
    "}\n",
    "\n",
    "model_params = {\n",
    "    \"type\": \"default\",\n",
    "    \"n_actions\": 1,\n",
    "    \"double_learning\": True,\n",
    "    \"net_params\": {\n",
    "        \"news_emb_layers\": False,\n",
    "        \"norm\": False,\n",
    "        \"item_size\": 768,\n",
    "        \"hidden_size\": 4096,\n",
    "        \"state_item_join_size\": 1536\n",
    "    }\n",
    "}"
   ]
  },
  {
   "cell_type": "code",
   "execution_count": null,
   "metadata": {},
   "outputs": [],
   "source": [
    "seed = 42\n",
    "trainer = TrainerDQN(\n",
    "    model_name, device,\n",
    "    pos_replay_memory_path, neg_replay_memory_path,\n",
    "    encoder_params, learning_params, model_params,\n",
    "    seed=seed\n",
    ")\n",
    "trainer.set_trainee()\n",
    "trainer.train()"
   ]
  },
  {
   "attachments": {},
   "cell_type": "markdown",
   "metadata": {},
   "source": [
    "## Model Param Numbers\n",
    "- DQN: 31992321\n",
    "- DQN Dueling: 40908035"
   ]
  },
  {
   "attachments": {},
   "cell_type": "markdown",
   "metadata": {},
   "source": [
    "# DQN-1M-product"
   ]
  },
  {
   "cell_type": "code",
   "execution_count": null,
   "metadata": {},
   "outputs": [],
   "source": [
    "model_name = \"dqn-stack-weighted\"\n",
    "device = torch.device(\"cuda\" if torch.cuda.is_available() else \"cpu\")\n",
    "print(device)\n",
    "\n",
    "to_embed = \"title_and_abstract\"\n",
    "pos_replay_memory_path = os.path.join(\n",
    "    constants.TRAIN_PATH,\n",
    "    \"replay_memory\",\n",
    "    \"positive_samples.ftr\"\n",
    ")\n",
    "neg_replay_memory_path = os.path.join(\n",
    "    constants.TRAIN_PATH,\n",
    "    \"replay_memory\",\n",
    "    \"negative_samples.ftr\"\n",
    ")\n",
    "\n",
    "encoder_params = {\n",
    "    \"method\": \"stack\",\n",
    "    \"weighted\": True,\n",
    "    \"alpha\": 0.999, # Ignored, if weighted == False\n",
    "    \"history_max_len\": 15,\n",
    "    \"embedding_size\": 768\n",
    "}\n",
    "learning_params = {\n",
    "    \"learning_rate\": 1e-4,\n",
    "    \"learning_decay_rate\": 1,\n",
    "    \"gamma\": 0.7,\n",
    "    \"pos_mem_pref\": 0.75,\n",
    "    \"n_steps\": 1_000_000,\n",
    "    \"freq_lr_schedule\": 1_000_000,\n",
    "    \"freq_checkpoint_save\": 250_000,\n",
    "    \"freq_target_update\": 300,\n",
    "    \"soft_target_update\": False,\n",
    "    \"tau\": 0.005,\n",
    "}\n",
    "model_params = {\n",
    "    \"state_size\": 12288,\n",
    "    \"action_size\": 768,\n",
    "    \"hidden_size\": 2048\n",
    "}"
   ]
  },
  {
   "cell_type": "code",
   "execution_count": null,
   "metadata": {},
   "outputs": [],
   "source": [
    "trainer = Trainer(\n",
    "    model_name, device, to_embed,\n",
    "    pos_replay_memory_path, neg_replay_memory_path,\n",
    "    encoder_params, learning_params, model_params\n",
    ")\n",
    "trainer.set_trainee_dqn()"
   ]
  },
  {
   "cell_type": "code",
   "execution_count": null,
   "metadata": {},
   "outputs": [],
   "source": [
    "trainer.train_dqn()"
   ]
  },
  {
   "attachments": {},
   "cell_type": "markdown",
   "metadata": {},
   "source": [
    "# DDPG"
   ]
  },
  {
   "cell_type": "code",
   "execution_count": null,
   "metadata": {},
   "outputs": [],
   "source": [
    "model_name = \"ddpg-LSTM-4M\"\n",
    "device = torch.device(\"cuda\" if torch.cuda.is_available() else \"cpu\")\n",
    "print(device)\n",
    "\n",
    "to_embed = \"title_and_abstract\"\n",
    "pos_replay_memory_path = os.path.join(\n",
    "    constants.TRAIN_PATH,\n",
    "    \"replay_memory\",\n",
    "    \"positive_samples.ftr\"\n",
    ")\n",
    "neg_replay_memory_path = os.path.join(\n",
    "    constants.TRAIN_PATH,\n",
    "    \"replay_memory\",\n",
    "    \"negative_samples.ftr\"\n",
    ")\n",
    "\n",
    "encoder_params = {\n",
    "    \"method\": \"stack\",\n",
    "    \"weighted\": False,\n",
    "    \"alpha\": 0.999, # Ignored, if weighted == False\n",
    "    \"history_max_len\": 2,\n",
    "    \"embedding_size\": 768\n",
    "}\n",
    "learning_params = {\n",
    "    \"learning_rate\": 5e-4,\n",
    "    \"learning_decay_rate\": 0.65,\n",
    "    \"gamma\": 0.7,\n",
    "    \"pos_mem_pref\": 0.8,\n",
    "    \"n_steps\": 4_000_000,\n",
    "    \"freq_lr_schedule\": 1_000_000,\n",
    "    \"freq_checkpoint_save\": 1_000_000,\n",
    "    \"freq_target_update\": 300,\n",
    "    \"soft_target_update\": True,\n",
    "    \"tau\": 0.005,\n",
    "}\n",
    "model_params = {\n",
    "    \"state_size\": 2304,\n",
    "    \"action_size\": 768,\n",
    "    \"a_hidden_size\": 2048,\n",
    "    \"c_hidden_size\": 2048\n",
    "}"
   ]
  },
  {
   "cell_type": "code",
   "execution_count": null,
   "metadata": {},
   "outputs": [],
   "source": [
    "trainer = Trainer(\n",
    "    model_name, device, to_embed,\n",
    "    pos_replay_memory_path, neg_replay_memory_path,\n",
    "    encoder_params, learning_params, model_params\n",
    ")"
   ]
  },
  {
   "cell_type": "code",
   "execution_count": null,
   "metadata": {},
   "outputs": [],
   "source": [
    "trainer.set_trainee_ddpg(lstm=True)"
   ]
  },
  {
   "cell_type": "code",
   "execution_count": null,
   "metadata": {},
   "outputs": [],
   "source": [
    "trainer.train_ddpg_lstm(128)"
   ]
  },
  {
   "cell_type": "code",
   "execution_count": null,
   "metadata": {},
   "outputs": [],
   "source": [
    "print(a.mean(dim=1).mean())\n",
    "print(a.std(dim=1).mean())\n",
    "print(a.max())\n",
    "print(a.min())"
   ]
  },
  {
   "cell_type": "code",
   "execution_count": null,
   "metadata": {},
   "outputs": [],
   "source": [
    "print(pa.mean(dim=1).mean())\n",
    "print(pa.std(dim=1).mean())\n",
    "print(pa.max())\n",
    "print(pa.min())"
   ]
  },
  {
   "cell_type": "code",
   "execution_count": null,
   "metadata": {},
   "outputs": [],
   "source": [
    "import pandas as pd\n",
    "import plotly.express as px\n",
    "import numpy as np\n",
    "points = pd.DataFrame(a.detach().cpu().numpy().reshape(-1, 1), columns=[\"point\"])\n",
    "points.describe()"
   ]
  },
  {
   "cell_type": "code",
   "execution_count": null,
   "metadata": {},
   "outputs": [],
   "source": [
    "fig = px.histogram(\n",
    "    points,\n",
    "    x=\"point\",\n",
    "    range_x=[-0.5, 0.5],\n",
    "    nbins=200,\n",
    "    histnorm='probability',\n",
    "    title=\"Embeddings Distribution\",\n",
    "    width=750, height=500,\n",
    "    # TODO template\n",
    ")\n",
    "fig.update_xaxes(dtick=0.1)\n",
    "fig.show()"
   ]
  },
  {
   "cell_type": "code",
   "execution_count": null,
   "metadata": {},
   "outputs": [],
   "source": []
  },
  {
   "attachments": {},
   "cell_type": "markdown",
   "metadata": {},
   "source": [
    "# REINFORCE"
   ]
  },
  {
   "cell_type": "code",
   "execution_count": null,
   "metadata": {},
   "outputs": [],
   "source": [
    "model_name = \"reinforce-batched\"\n",
    "device = torch.device(\"cuda\" if torch.cuda.is_available() else \"cpu\")\n",
    "print(device)\n",
    "\n",
    "to_embed = \"title_and_abstract\"\n",
    "pos_replay_memory_path = os.path.join(\n",
    "    constants.TRAIN_PATH,\n",
    "    \"replay_memory\",\n",
    "    \"positive_samples.ftr\"\n",
    ")\n",
    "neg_replay_memory_path = os.path.join(\n",
    "    constants.TRAIN_PATH,\n",
    "    \"replay_memory\",\n",
    "    \"negative_samples.ftr\"\n",
    ")\n",
    "rm_episodic_path = os.path.join(\n",
    "    constants.TRAIN_PATH,\n",
    "    \"replay_memory_episodic\",\n",
    "    \"replay_memory_episodic.ftr\"\n",
    ")\n",
    "\n",
    "encoder_params = {\n",
    "    \"method\": \"mean\",\n",
    "    \"weighted\": True,\n",
    "    \"alpha\": 0.999, # Ignored, if weighted == False\n",
    "    \"history_max_len\": 20,\n",
    "    \"embedding_size\": 768\n",
    "}\n",
    "learning_params = {\n",
    "    \"learning_rate\": 1e-6,\n",
    "    \"learning_decay_rate\": 0.6,\n",
    "    \"gamma\": 0.9,\n",
    "    \"pos_mem_pref\": 0.5,\n",
    "    \"n_steps\": 1_000_000,\n",
    "    \"freq_lr_schedule\": 1_000_000,\n",
    "    \"freq_checkpoint_save\": 250_000,\n",
    "    \"freq_target_update\": 500,\n",
    "    \"soft_target_update\": False,\n",
    "    \"tau\": 0.005,\n",
    "}\n",
    "model_params = {\n",
    "    \"state_size\": 768,\n",
    "    \"item_size\": 768,\n",
    "    \"hidden_size\": 2048\n",
    "}"
   ]
  },
  {
   "cell_type": "code",
   "execution_count": null,
   "metadata": {},
   "outputs": [],
   "source": [
    "trainer = Trainer(\n",
    "    model_name, device, to_embed,\n",
    "    pos_replay_memory_path, neg_replay_memory_path,\n",
    "    encoder_params, learning_params, model_params, rm_episodic_path\n",
    ")"
   ]
  },
  {
   "cell_type": "code",
   "execution_count": null,
   "metadata": {},
   "outputs": [],
   "source": [
    "trainer.set_trainee_REINFORCE()"
   ]
  },
  {
   "cell_type": "code",
   "execution_count": null,
   "metadata": {},
   "outputs": [],
   "source": [
    "trainer.train_REINFORCE(32)"
   ]
  },
  {
   "cell_type": "code",
   "execution_count": null,
   "metadata": {},
   "outputs": [],
   "source": []
  },
  {
   "attachments": {},
   "cell_type": "markdown",
   "metadata": {},
   "source": [
    "# C51"
   ]
  },
  {
   "cell_type": "code",
   "execution_count": null,
   "metadata": {},
   "outputs": [],
   "source": [
    "model_name = \"c51\"\n",
    "device = torch.device(\"cuda\" if torch.cuda.is_available() else \"cpu\")\n",
    "print(device)\n",
    "\n",
    "to_embed = \"title_and_abstract\"\n",
    "pos_replay_memory_path = os.path.join(\n",
    "    constants.TRAIN_PATH,\n",
    "    \"replay_memory\",\n",
    "    \"positive_samples.ftr\"\n",
    ")\n",
    "neg_replay_memory_path = os.path.join(\n",
    "    constants.TRAIN_PATH,\n",
    "    \"replay_memory\",\n",
    "    \"negative_samples.ftr\"\n",
    ")\n",
    "\n",
    "encoder_params = {\n",
    "    \"method\": \"stack\",\n",
    "    \"weighted\": True,\n",
    "    \"alpha\": 0.999, # Ignored, if weighted == False\n",
    "    \"history_max_len\": 15,\n",
    "    \"embedding_size\": 768\n",
    "}\n",
    "learning_params = {\n",
    "    \"learning_rate\": 1e-4,\n",
    "    \"learning_decay_rate\": 0.65,\n",
    "    \"gamma\": 0.8,\n",
    "    \"pos_mem_pref\": 0.5,\n",
    "    \"n_steps\": 1_000_000,\n",
    "    \"freq_lr_schedule\": 1_000_000,\n",
    "    \"freq_checkpoint_save\": 500_000,\n",
    "    \"freq_target_update\": 500,\n",
    "    \"soft_target_update\": False,\n",
    "    \"tau\": 0.005,\n",
    "}\n",
    "model_params = {\n",
    "    \"state_size\": 12288,\n",
    "    \"item_size\": 768,\n",
    "    \"hidden_size\": 2048\n",
    "}"
   ]
  },
  {
   "cell_type": "code",
   "execution_count": null,
   "metadata": {},
   "outputs": [],
   "source": [
    "trainer = Trainer(\n",
    "    model_name, device, to_embed,\n",
    "    pos_replay_memory_path, neg_replay_memory_path,\n",
    "    encoder_params, learning_params, model_params\n",
    ")"
   ]
  },
  {
   "cell_type": "code",
   "execution_count": null,
   "metadata": {},
   "outputs": [],
   "source": [
    "trainer.set_trainee_C51()"
   ]
  },
  {
   "cell_type": "code",
   "execution_count": null,
   "metadata": {},
   "outputs": [],
   "source": [
    "trainer.train_C51(64, True)"
   ]
  },
  {
   "attachments": {},
   "cell_type": "markdown",
   "metadata": {},
   "source": [
    "# QR-DQN"
   ]
  },
  {
   "cell_type": "code",
   "execution_count": null,
   "metadata": {},
   "outputs": [],
   "source": [
    "model_name = \"qr-dqn-test\"\n",
    "device = torch.device(\"cuda\" if torch.cuda.is_available() else \"cpu\")\n",
    "print(device)\n",
    "\n",
    "to_embed = \"title_and_abstract\"\n",
    "pos_replay_memory_path = os.path.join(\n",
    "    constants.TRAIN_PATH,\n",
    "    \"replay_memory\",\n",
    "    \"positive_samples.ftr\"\n",
    ")\n",
    "neg_replay_memory_path = os.path.join(\n",
    "    constants.TRAIN_PATH,\n",
    "    \"replay_memory\",\n",
    "    \"negative_samples.ftr\"\n",
    ")\n",
    "\n",
    "encoder_params = {\n",
    "    \"method\": \"mean\",\n",
    "    \"weighted\": True,\n",
    "    \"alpha\": 0.999, # Ignored, if weighted == False\n",
    "    \"history_max_len\": 20,\n",
    "    \"embedding_size\": 768\n",
    "}\n",
    "learning_params = {\n",
    "    \"learning_rate\": 1e-4,\n",
    "    \"learning_decay_rate\": 0.65,\n",
    "    \"gamma\": 0.8,\n",
    "    \"pos_mem_pref\": 0.5,\n",
    "    \"n_steps\": 4_000_000,\n",
    "    \"freq_lr_schedule\": 1_000_000,\n",
    "    \"freq_checkpoint_save\": 1_000_000,\n",
    "    \"freq_target_update\": 500,\n",
    "    \"soft_target_update\": False,\n",
    "    \"tau\": 0.005,\n",
    "}\n",
    "model_params = {\n",
    "    \"state_size\": 768,\n",
    "    \"item_size\": 768,\n",
    "    \"hidden_size\": 2048\n",
    "}"
   ]
  },
  {
   "cell_type": "code",
   "execution_count": null,
   "metadata": {},
   "outputs": [],
   "source": [
    "trainer = Trainer(\n",
    "    model_name, device, to_embed,\n",
    "    pos_replay_memory_path, neg_replay_memory_path,\n",
    "    encoder_params, learning_params, model_params\n",
    ")"
   ]
  },
  {
   "cell_type": "code",
   "execution_count": null,
   "metadata": {},
   "outputs": [],
   "source": [
    "trainer.set_trainee_QRDQN()"
   ]
  },
  {
   "cell_type": "code",
   "execution_count": null,
   "metadata": {},
   "outputs": [],
   "source": [
    "trainer.train_QRDQN(128, True)"
   ]
  },
  {
   "attachments": {},
   "cell_type": "markdown",
   "metadata": {},
   "source": [
    "# IQN"
   ]
  },
  {
   "cell_type": "code",
   "execution_count": null,
   "metadata": {},
   "outputs": [],
   "source": [
    "model_name = \"iqn\"\n",
    "device = torch.device(\"cuda\" if torch.cuda.is_available() else \"cpu\")\n",
    "print(device)\n",
    "\n",
    "to_embed = \"title_and_abstract\"\n",
    "pos_replay_memory_path = os.path.join(\n",
    "    constants.TRAIN_PATH,\n",
    "    \"replay_memory\",\n",
    "    \"positive_samples.ftr\"\n",
    ")\n",
    "neg_replay_memory_path = os.path.join(\n",
    "    constants.TRAIN_PATH,\n",
    "    \"replay_memory\",\n",
    "    \"negative_samples.ftr\"\n",
    ")\n",
    "\n",
    "encoder_params = {\n",
    "    \"method\": \"mean\",\n",
    "    \"weighted\": True,\n",
    "    \"alpha\": 0.999, # Ignored, if weighted == False\n",
    "    \"history_max_len\": 20,\n",
    "    \"embedding_size\": 768\n",
    "}\n",
    "learning_params = {\n",
    "    \"learning_rate\": 1e-4,\n",
    "    \"learning_decay_rate\": 0.75,\n",
    "    \"gamma\": 0.8,\n",
    "    \"pos_mem_pref\": 0.5,\n",
    "    \"n_steps\": 8_000_000,\n",
    "    \"freq_lr_schedule\": 1_000_000,\n",
    "    \"freq_checkpoint_save\": 1_000_000,\n",
    "    \"freq_target_update\": 500,\n",
    "    \"soft_target_update\": False,\n",
    "    \"tau\": 0.005,\n",
    "}\n",
    "model_params = {\n",
    "    \"state_size\": 768,\n",
    "    \"item_size\": 768,\n",
    "    \"hidden_size\": 2048\n",
    "}"
   ]
  },
  {
   "cell_type": "code",
   "execution_count": null,
   "metadata": {},
   "outputs": [],
   "source": [
    "trainer = Trainer(\n",
    "    model_name, device, to_embed,\n",
    "    pos_replay_memory_path, neg_replay_memory_path,\n",
    "    encoder_params, learning_params, model_params\n",
    ")"
   ]
  },
  {
   "cell_type": "code",
   "execution_count": null,
   "metadata": {},
   "outputs": [],
   "source": [
    "trainer.set_trainee_IQN()"
   ]
  },
  {
   "cell_type": "code",
   "execution_count": null,
   "metadata": {},
   "outputs": [],
   "source": [
    "trainer.train_IQN(64, True)"
   ]
  },
  {
   "attachments": {},
   "cell_type": "markdown",
   "metadata": {},
   "source": [
    "# FPF"
   ]
  },
  {
   "cell_type": "code",
   "execution_count": null,
   "metadata": {},
   "outputs": [],
   "source": [
    "model_name = \"fpf\"\n",
    "device = torch.device(\"cuda\" if torch.cuda.is_available() else \"cpu\")\n",
    "print(device)\n",
    "\n",
    "to_embed = \"title_and_abstract\"\n",
    "pos_replay_memory_path = os.path.join(\n",
    "    constants.TRAIN_PATH,\n",
    "    \"replay_memory\",\n",
    "    \"positive_samples.ftr\"\n",
    ")\n",
    "neg_replay_memory_path = os.path.join(\n",
    "    constants.TRAIN_PATH,\n",
    "    \"replay_memory\",\n",
    "    \"negative_samples.ftr\"\n",
    ")\n",
    "\n",
    "encoder_params = {\n",
    "    \"method\": \"mean\",\n",
    "    \"weighted\": True,\n",
    "    \"alpha\": 0.999, # Ignored, if weighted == False\n",
    "    \"history_max_len\": 20,\n",
    "    \"embedding_size\": 768\n",
    "}\n",
    "learning_params = {\n",
    "    \"learning_rate\": 1e-4,\n",
    "    \"learning_decay_rate\": 0.65,\n",
    "    \"gamma\": 0.8,\n",
    "    \"pos_mem_pref\": 0.5,\n",
    "    \"n_steps\": 2_000_000,\n",
    "    \"freq_lr_schedule\": 1_000_000,\n",
    "    \"freq_checkpoint_save\": 1_000_000,\n",
    "    \"freq_target_update\": 500,\n",
    "    \"soft_target_update\": False,\n",
    "    \"tau\": 0.005,\n",
    "}\n",
    "model_params = {\n",
    "    \"state_size\": 768,\n",
    "    \"item_size\": 768,\n",
    "    \"hidden_size\": 2048\n",
    "}"
   ]
  },
  {
   "cell_type": "code",
   "execution_count": null,
   "metadata": {},
   "outputs": [],
   "source": [
    "trainer = Trainer(\n",
    "    model_name, device, to_embed,\n",
    "    pos_replay_memory_path, neg_replay_memory_path,\n",
    "    encoder_params, learning_params, model_params\n",
    ")"
   ]
  },
  {
   "cell_type": "code",
   "execution_count": null,
   "metadata": {},
   "outputs": [],
   "source": [
    "trainer.set_trainee_FPF()"
   ]
  },
  {
   "cell_type": "code",
   "execution_count": null,
   "metadata": {},
   "outputs": [],
   "source": [
    "trainer.train_FPF(32, True)"
   ]
  }
 ],
 "metadata": {
  "kernelspec": {
   "display_name": "drlnrs",
   "language": "python",
   "name": "python3"
  },
  "language_info": {
   "codemirror_mode": {
    "name": "ipython",
    "version": 3
   },
   "file_extension": ".py",
   "mimetype": "text/x-python",
   "name": "python",
   "nbconvert_exporter": "python",
   "pygments_lexer": "ipython3",
   "version": "3.7.16"
  },
  "orig_nbformat": 4
 },
 "nbformat": 4,
 "nbformat_minor": 2
}
