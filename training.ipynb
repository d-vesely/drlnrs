{
 "cells": [
  {
   "cell_type": "code",
   "execution_count": 3,
   "metadata": {},
   "outputs": [],
   "source": [
    "import os\n",
    "import torch\n",
    "\n",
    "from src import constants\n",
    "from src.rl.trainers.trainer_dqn import TrainerDQN\n",
    "from src.rl.trainers.trainer_c51 import TrainerC51\n",
    "from src.rl.trainers.trainer_qr import TrainerQR\n",
    "from src.rl.trainers.trainer_iqn import TrainerIQN\n",
    "from src.rl.trainers.trainer_fqf import TrainerFQF\n",
    "from src.rl.trainers.trainer_ddpg import TrainerDDPG\n",
    "from src.rl.trainers.trainer_td3 import TrainerTD3\n",
    "from src.rl.trainers.trainer_reinforce import TrainerREINFORCE"
   ]
  },
  {
   "cell_type": "code",
   "execution_count": 4,
   "metadata": {},
   "outputs": [],
   "source": [
    "%load_ext autoreload\n",
    "%autoreload 2"
   ]
  },
  {
   "cell_type": "code",
   "execution_count": 5,
   "metadata": {},
   "outputs": [],
   "source": [
    "device = torch.device(\"cuda\" if torch.cuda.is_available() else \"cpu\")\n",
    "\n",
    "pos_replay_memory_path = os.path.join(\n",
    "    constants.TRAIN_PATH,\n",
    "    \"replay_memory\",\n",
    "    \"positive_samples.ftr\"\n",
    ")\n",
    "neg_replay_memory_path = os.path.join(\n",
    "    constants.TRAIN_PATH,\n",
    "    \"replay_memory\",\n",
    "    \"negative_samples.ftr\"\n",
    ")\n",
    "ep_rm_path = os.path.join(\n",
    "    constants.TRAIN_PATH,\n",
    "    \"replay_memory_episodic\",\n",
    "    \"replay_memory_episodic.ftr\"\n",
    ")\n",
    "embedding_map_paths = {\n",
    "    \"title\": os.path.join(constants.BASE_EMB_PATH, \"title_emb_map.pt\"),\n",
    "    \"abstract\": os.path.join(constants.BASE_EMB_PATH, \"abstract_emb_map.pt\"),\n",
    "    \"title_and_abstract\": os.path.join(constants.BASE_EMB_PATH, \"title_and_abstract_emb_map.pt\"),\n",
    "    \"category\": os.path.join(constants.BASE_EMB_PATH, \"category_1hot_map.pt\"),\n",
    "    \"sub_category\": os.path.join(constants.BASE_EMB_PATH, \"sub_category_emb_map.pt\"),\n",
    "    \"all\": os.path.join(constants.BASE_EMB_PATH, \"all_emb_map.pt\"),\n",
    "    \"features\": os.path.join(constants.BASE_EMB_PATH, \"no_ts_features_map.pt\")\n",
    "}\n",
    "news_enc_elements = [\"title_and_abstract\"]\n",
    "encoder_params = {\n",
    "    \"embeddings_map_paths\": {key: embedding_map_paths[key] for key in news_enc_elements},\n",
    "    \"news_enc_elements\": news_enc_elements,\n",
    "    \"news_embedding_size\": 768,\n",
    "    \"history_enc_method\": \"mean\",\n",
    "    \"weighted\": True,\n",
    "    \"alpha\": 0.999, # Ignored, if weighted == False\n",
    "    \"history_max_len\": None,\n",
    "}"
   ]
  },
  {
   "cell_type": "code",
   "execution_count": 6,
   "metadata": {},
   "outputs": [],
   "source": [
    "model_name = \"SAC\"\n",
    "\n",
    "learning_params = {\n",
    "    \"batch_size\": 64,\n",
    "    \"learning_rate\": 1e-4,\n",
    "    \"learning_decay_rate\": 0.7,\n",
    "    \"gamma\": 0.65,\n",
    "    \"pos_mem_pref\": 0.3,\n",
    "    \"n_steps\": 200_000,\n",
    "    \"freq_lr_schedule\": 1_000_000,\n",
    "    \"freq_checkpoint_save\": 1_000_000,\n",
    "    \"pos_mem_pref_adapt\": False,\n",
    "    \"freq_pos_mem_pref_adapt\": 6_000_000,\n",
    "    \"pos_mem_pref_adapt_step\": 0.04,\n",
    "    \"progress_saves\": [\n",
    "        10_000,\n",
    "        100_000,\n",
    "        200_000\n",
    "    ],\n",
    "    \"freq_target_update\": 5_000,\n",
    "    \"soft_target_update\": True,\n",
    "    \"tau\": 0.01,\n",
    "}\n",
    "\n",
    "model_params = {\n",
    "    \"type\": \"default\",\n",
    "    \"double_learning\": False,\n",
    "    \"net_params\": {\n",
    "        \"hidden_size\": 4096,\n",
    "        \"state_item_join_size\": 1536,\n",
    "    }\n",
    "}"
   ]
  },
  {
   "cell_type": "code",
   "execution_count": 7,
   "metadata": {},
   "outputs": [
    {
     "name": "stdout",
     "output_type": "stream",
     "text": [
      "[INFO] setting seed: 7\n",
      "[INFO] device: cuda\n",
      "[INFO] preparing directory c:\\workbench\\developer\\drlnrs\\models\\SAC\n",
      "[INFO] writing config files to directory\n",
      "[INFO] preparing data and samplers\n"
     ]
    },
    {
     "ename": "KeyboardInterrupt",
     "evalue": "",
     "output_type": "error",
     "traceback": [
      "\u001b[1;31m---------------------------------------------------------------------------\u001b[0m",
      "\u001b[1;31mKeyboardInterrupt\u001b[0m                         Traceback (most recent call last)",
      "\u001b[1;32m~\\AppData\\Local\\Temp\\ipykernel_25236\\1041072911.py\u001b[0m in \u001b[0;36m<module>\u001b[1;34m\u001b[0m\n\u001b[0;32m      4\u001b[0m     \u001b[0mpos_replay_memory_path\u001b[0m\u001b[1;33m,\u001b[0m \u001b[0mneg_replay_memory_path\u001b[0m\u001b[1;33m,\u001b[0m\u001b[1;33m\u001b[0m\u001b[1;33m\u001b[0m\u001b[0m\n\u001b[0;32m      5\u001b[0m     \u001b[0mencoder_params\u001b[0m\u001b[1;33m,\u001b[0m \u001b[0mlearning_params\u001b[0m\u001b[1;33m,\u001b[0m \u001b[0mmodel_params\u001b[0m\u001b[1;33m,\u001b[0m\u001b[1;33m\u001b[0m\u001b[1;33m\u001b[0m\u001b[0m\n\u001b[1;32m----> 6\u001b[1;33m     \u001b[0mseed\u001b[0m\u001b[1;33m=\u001b[0m\u001b[0mseed\u001b[0m\u001b[1;33m\u001b[0m\u001b[1;33m\u001b[0m\u001b[0m\n\u001b[0m\u001b[0;32m      7\u001b[0m )\n",
      "\u001b[1;32mc:\\workbench\\developer\\drlnrs\\src\\rl\\trainers\\trainer_sac.py\u001b[0m in \u001b[0;36m__init__\u001b[1;34m(self, model_name, device, pos_rm_path, neg_rm_path, encoder_params, learning_params, model_params, ep_rm_path, seed)\u001b[0m\n\u001b[0;32m     22\u001b[0m             \u001b[0mmodel_params\u001b[0m\u001b[1;33m,\u001b[0m\u001b[1;33m\u001b[0m\u001b[1;33m\u001b[0m\u001b[0m\n\u001b[0;32m     23\u001b[0m             \u001b[0mep_rm_path\u001b[0m\u001b[1;33m,\u001b[0m\u001b[1;33m\u001b[0m\u001b[1;33m\u001b[0m\u001b[0m\n\u001b[1;32m---> 24\u001b[1;33m             \u001b[0mseed\u001b[0m\u001b[1;33m\u001b[0m\u001b[1;33m\u001b[0m\u001b[0m\n\u001b[0m\u001b[0;32m     25\u001b[0m         )\n\u001b[0;32m     26\u001b[0m \u001b[1;33m\u001b[0m\u001b[0m\n",
      "\u001b[1;32mc:\\workbench\\developer\\drlnrs\\src\\rl\\trainers\\trainer_base.py\u001b[0m in \u001b[0;36m__init__\u001b[1;34m(self, model_name, device, pos_rm_path, neg_rm_path, encoder_params, learning_params, model_params, ep_rm_path, seed)\u001b[0m\n\u001b[0;32m     52\u001b[0m                 self.neg_rm_data, self.neg_sampler = self._prepare_data(\n\u001b[0;32m     53\u001b[0m                     \u001b[0mpos_rm_path\u001b[0m\u001b[1;33m,\u001b[0m\u001b[1;33m\u001b[0m\u001b[1;33m\u001b[0m\u001b[0m\n\u001b[1;32m---> 54\u001b[1;33m                     \u001b[0mneg_rm_path\u001b[0m\u001b[1;33m\u001b[0m\u001b[1;33m\u001b[0m\u001b[0m\n\u001b[0m\u001b[0;32m     55\u001b[0m                 )\n\u001b[0;32m     56\u001b[0m \u001b[1;33m\u001b[0m\u001b[0m\n",
      "\u001b[1;32mc:\\workbench\\developer\\drlnrs\\src\\rl\\trainers\\trainer_base.py\u001b[0m in \u001b[0;36m_prepare_data\u001b[1;34m(self, pos_rm_path, neg_rm_path)\u001b[0m\n\u001b[0;32m     88\u001b[0m                 \u001b[0mself\u001b[0m\u001b[1;33m.\u001b[0m\u001b[0mconfig_encoder\u001b[0m\u001b[1;33m[\u001b[0m\u001b[1;34m\"news_embedding_size\"\u001b[0m\u001b[1;33m]\u001b[0m\u001b[1;33m,\u001b[0m\u001b[1;33m\u001b[0m\u001b[1;33m\u001b[0m\u001b[0m\n\u001b[0;32m     89\u001b[0m                 \u001b[0mrm_path\u001b[0m\u001b[1;33m,\u001b[0m\u001b[1;33m\u001b[0m\u001b[1;33m\u001b[0m\u001b[0m\n\u001b[1;32m---> 90\u001b[1;33m                 \u001b[0mself\u001b[0m\u001b[1;33m.\u001b[0m\u001b[0mconfig_encoder\u001b[0m\u001b[1;33m,\u001b[0m\u001b[1;33m\u001b[0m\u001b[1;33m\u001b[0m\u001b[0m\n\u001b[0m\u001b[0;32m     91\u001b[0m                 \u001b[1;31m# use_ignore_history=True\u001b[0m\u001b[1;33m\u001b[0m\u001b[1;33m\u001b[0m\u001b[1;33m\u001b[0m\u001b[0m\n\u001b[0;32m     92\u001b[0m             )\n",
      "\u001b[1;32mc:\\workbench\\developer\\drlnrs\\src\\rl\\replay_memory_dataset.py\u001b[0m in \u001b[0;36m__init__\u001b[1;34m(self, news_embedding_size, replay_memory_path, encoder_kwargs, use_ignore_history)\u001b[0m\n\u001b[0;32m     28\u001b[0m         \u001b[0mself\u001b[0m\u001b[1;33m.\u001b[0m\u001b[0mnews_embedding_size\u001b[0m \u001b[1;33m=\u001b[0m \u001b[0mnews_embedding_size\u001b[0m\u001b[1;33m\u001b[0m\u001b[1;33m\u001b[0m\u001b[0m\n\u001b[0;32m     29\u001b[0m         \u001b[1;31m# Read replay memory pandas dataframe\u001b[0m\u001b[1;33m\u001b[0m\u001b[1;33m\u001b[0m\u001b[1;33m\u001b[0m\u001b[0m\n\u001b[1;32m---> 30\u001b[1;33m         \u001b[0mself\u001b[0m\u001b[1;33m.\u001b[0m\u001b[0mreplay_memory\u001b[0m \u001b[1;33m=\u001b[0m \u001b[0mpd\u001b[0m\u001b[1;33m.\u001b[0m\u001b[0mread_feather\u001b[0m\u001b[1;33m(\u001b[0m\u001b[0mreplay_memory_path\u001b[0m\u001b[1;33m)\u001b[0m\u001b[1;33m\u001b[0m\u001b[1;33m\u001b[0m\u001b[0m\n\u001b[0m\u001b[0;32m     31\u001b[0m         \u001b[0mself\u001b[0m\u001b[1;33m.\u001b[0m\u001b[0muse_ignore_history\u001b[0m \u001b[1;33m=\u001b[0m \u001b[0muse_ignore_history\u001b[0m\u001b[1;33m\u001b[0m\u001b[1;33m\u001b[0m\u001b[0m\n\u001b[0;32m     32\u001b[0m \u001b[1;33m\u001b[0m\u001b[0m\n",
      "\u001b[1;32mc:\\Users\\dvesely\\miniconda3\\envs\\drlnrs\\lib\\site-packages\\pandas\\io\\feather_format.py\u001b[0m in \u001b[0;36mread_feather\u001b[1;34m(path, columns, use_threads, storage_options)\u001b[0m\n\u001b[0;32m    129\u001b[0m \u001b[1;33m\u001b[0m\u001b[0m\n\u001b[0;32m    130\u001b[0m         return feather.read_feather(\n\u001b[1;32m--> 131\u001b[1;33m             \u001b[0mhandles\u001b[0m\u001b[1;33m.\u001b[0m\u001b[0mhandle\u001b[0m\u001b[1;33m,\u001b[0m \u001b[0mcolumns\u001b[0m\u001b[1;33m=\u001b[0m\u001b[0mcolumns\u001b[0m\u001b[1;33m,\u001b[0m \u001b[0muse_threads\u001b[0m\u001b[1;33m=\u001b[0m\u001b[0mbool\u001b[0m\u001b[1;33m(\u001b[0m\u001b[0muse_threads\u001b[0m\u001b[1;33m)\u001b[0m\u001b[1;33m\u001b[0m\u001b[1;33m\u001b[0m\u001b[0m\n\u001b[0m\u001b[0;32m    132\u001b[0m         )\n",
      "\u001b[1;32mc:\\Users\\dvesely\\miniconda3\\envs\\drlnrs\\lib\\site-packages\\pyarrow\\feather.py\u001b[0m in \u001b[0;36mread_feather\u001b[1;34m(source, columns, use_threads, memory_map)\u001b[0m\n\u001b[0;32m    230\u001b[0m     return (read_table(\n\u001b[0;32m    231\u001b[0m         \u001b[0msource\u001b[0m\u001b[1;33m,\u001b[0m \u001b[0mcolumns\u001b[0m\u001b[1;33m=\u001b[0m\u001b[0mcolumns\u001b[0m\u001b[1;33m,\u001b[0m \u001b[0mmemory_map\u001b[0m\u001b[1;33m=\u001b[0m\u001b[0mmemory_map\u001b[0m\u001b[1;33m,\u001b[0m\u001b[1;33m\u001b[0m\u001b[1;33m\u001b[0m\u001b[0m\n\u001b[1;32m--> 232\u001b[1;33m         use_threads=use_threads).to_pandas(use_threads=use_threads))\n\u001b[0m\u001b[0;32m    233\u001b[0m \u001b[1;33m\u001b[0m\u001b[0m\n\u001b[0;32m    234\u001b[0m \u001b[1;33m\u001b[0m\u001b[0m\n",
      "\u001b[1;32mc:\\Users\\dvesely\\miniconda3\\envs\\drlnrs\\lib\\site-packages\\pyarrow\\array.pxi\u001b[0m in \u001b[0;36mpyarrow.lib._PandasConvertible.to_pandas\u001b[1;34m()\u001b[0m\n",
      "\u001b[1;32mc:\\Users\\dvesely\\miniconda3\\envs\\drlnrs\\lib\\site-packages\\pyarrow\\table.pxi\u001b[0m in \u001b[0;36mpyarrow.lib.Table._to_pandas\u001b[1;34m()\u001b[0m\n",
      "\u001b[1;32mc:\\Users\\dvesely\\miniconda3\\envs\\drlnrs\\lib\\site-packages\\pyarrow\\pandas_compat.py\u001b[0m in \u001b[0;36mtable_to_blockmanager\u001b[1;34m(options, table, categories, ignore_metadata, types_mapper)\u001b[0m\n\u001b[0;32m    801\u001b[0m     \u001b[0m_check_data_column_metadata_consistency\u001b[0m\u001b[1;33m(\u001b[0m\u001b[0mall_columns\u001b[0m\u001b[1;33m)\u001b[0m\u001b[1;33m\u001b[0m\u001b[1;33m\u001b[0m\u001b[0m\n\u001b[0;32m    802\u001b[0m     \u001b[0mcolumns\u001b[0m \u001b[1;33m=\u001b[0m \u001b[0m_deserialize_column_index\u001b[0m\u001b[1;33m(\u001b[0m\u001b[0mtable\u001b[0m\u001b[1;33m,\u001b[0m \u001b[0mall_columns\u001b[0m\u001b[1;33m,\u001b[0m \u001b[0mcolumn_indexes\u001b[0m\u001b[1;33m)\u001b[0m\u001b[1;33m\u001b[0m\u001b[1;33m\u001b[0m\u001b[0m\n\u001b[1;32m--> 803\u001b[1;33m     \u001b[0mblocks\u001b[0m \u001b[1;33m=\u001b[0m \u001b[0m_table_to_blocks\u001b[0m\u001b[1;33m(\u001b[0m\u001b[0moptions\u001b[0m\u001b[1;33m,\u001b[0m \u001b[0mtable\u001b[0m\u001b[1;33m,\u001b[0m \u001b[0mcategories\u001b[0m\u001b[1;33m,\u001b[0m \u001b[0mext_columns_dtypes\u001b[0m\u001b[1;33m)\u001b[0m\u001b[1;33m\u001b[0m\u001b[1;33m\u001b[0m\u001b[0m\n\u001b[0m\u001b[0;32m    804\u001b[0m \u001b[1;33m\u001b[0m\u001b[0m\n\u001b[0;32m    805\u001b[0m     \u001b[0maxes\u001b[0m \u001b[1;33m=\u001b[0m \u001b[1;33m[\u001b[0m\u001b[0mcolumns\u001b[0m\u001b[1;33m,\u001b[0m \u001b[0mindex\u001b[0m\u001b[1;33m]\u001b[0m\u001b[1;33m\u001b[0m\u001b[1;33m\u001b[0m\u001b[0m\n",
      "\u001b[1;32mc:\\Users\\dvesely\\miniconda3\\envs\\drlnrs\\lib\\site-packages\\pyarrow\\pandas_compat.py\u001b[0m in \u001b[0;36m_table_to_blocks\u001b[1;34m(options, block_table, categories, extension_columns)\u001b[0m\n\u001b[0;32m   1152\u001b[0m     \u001b[0mcolumns\u001b[0m \u001b[1;33m=\u001b[0m \u001b[0mblock_table\u001b[0m\u001b[1;33m.\u001b[0m\u001b[0mcolumn_names\u001b[0m\u001b[1;33m\u001b[0m\u001b[1;33m\u001b[0m\u001b[0m\n\u001b[0;32m   1153\u001b[0m     result = pa.lib.table_to_blocks(options, block_table, categories,\n\u001b[1;32m-> 1154\u001b[1;33m                                     list(extension_columns.keys()))\n\u001b[0m\u001b[0;32m   1155\u001b[0m     return [_reconstruct_block(item, columns, extension_columns)\n\u001b[0;32m   1156\u001b[0m             for item in result]\n",
      "\u001b[1;31mKeyboardInterrupt\u001b[0m: "
     ]
    }
   ],
   "source": [
    "seed = 7\n",
    "trainer = TrainerSAC(\n",
    "    model_name, device,\n",
    "    pos_replay_memory_path, neg_replay_memory_path,\n",
    "    encoder_params, learning_params, model_params,\n",
    "    seed=seed\n",
    ")"
   ]
  },
  {
   "cell_type": "code",
   "execution_count": 20,
   "metadata": {},
   "outputs": [
    {
     "name": "stdout",
     "output_type": "stream",
     "text": [
      "[INFO] number of trainable actor parameters: 31992578\n",
      "[INFO] number of trainable critic (x2) parameters: 31992578\n",
      "[INFO] initial learning rate: 0.000100\n"
     ]
    },
    {
     "data": {
      "application/vnd.jupyter.widget-view+json": {
       "model_id": "da097683e3854087a14a26227e8c2fc3",
       "version_major": 2,
       "version_minor": 0
      },
      "text/plain": [
       "  0%|          | 0/7812 [00:00<?, ?it/s]"
      ]
     },
     "metadata": {},
     "output_type": "display_data"
    }
   ],
   "source": [
    "trainer.set_trainee()\n",
    "trainer.train()"
   ]
  },
  {
   "attachments": {},
   "cell_type": "markdown",
   "metadata": {},
   "source": [
    "# REINFORCE"
   ]
  },
  {
   "cell_type": "code",
   "execution_count": 16,
   "metadata": {},
   "outputs": [],
   "source": [
    "model_name = \"REINFORCE-n-m\"\n",
    "\n",
    "learning_params = {\n",
    "    \"batch_size\": 64,\n",
    "    \"learning_rate\": 1e-4,\n",
    "    \"learning_decay_rate\": 0.7,\n",
    "    \"gamma\": 0.65,\n",
    "    \"pos_mem_pref\": 0.3,\n",
    "    \"n_steps\": 50_000,\n",
    "    \"freq_lr_schedule\": 1_000_000,\n",
    "    \"freq_checkpoint_save\": 1_000_000,\n",
    "    \"pos_mem_pref_adapt\": False,\n",
    "    \"freq_pos_mem_pref_adapt\": 6_000_000,\n",
    "    \"pos_mem_pref_adapt_step\": 0.04,\n",
    "    \"progress_saves\": [\n",
    "        10_000,\n",
    "        100_000,\n",
    "        200_000\n",
    "    ],\n",
    "    \"freq_target_update\": 5_000,\n",
    "    \"soft_target_update\": True,\n",
    "    \"tau\": 0.01,\n",
    "}\n",
    "\n",
    "model_params = {\n",
    "    \"type\": \"default\",\n",
    "    \"double_learning\": False,\n",
    "    \"net_params\": {\n",
    "        \"item_size\": 768,\n",
    "        \"hidden_size\": 4096,\n",
    "        \"state_size\": 768,\n",
    "    }\n",
    "}"
   ]
  },
  {
   "cell_type": "code",
   "execution_count": 17,
   "metadata": {},
   "outputs": [
    {
     "name": "stdout",
     "output_type": "stream",
     "text": [
      "[INFO] setting seed: 7\n",
      "[INFO] device: cuda\n",
      "[INFO] preparing directory c:\\workbench\\developer\\drlnrs\\models\\REINFORCE-n-m\n",
      "[INFO] writing config files to directory\n",
      "[INFO] preparing episodic data and sampler\n",
      "[DONE] trainer initialized\n"
     ]
    }
   ],
   "source": [
    "seed = 7\n",
    "trainer = TrainerREINFORCE(\n",
    "    model_name, device,\n",
    "    pos_replay_memory_path, neg_replay_memory_path,\n",
    "    encoder_params, learning_params, model_params,\n",
    "    seed=seed, ep_rm_path=ep_rm_path\n",
    ")"
   ]
  },
  {
   "cell_type": "code",
   "execution_count": 18,
   "metadata": {},
   "outputs": [
    {
     "name": "stdout",
     "output_type": "stream",
     "text": [
      "[INFO] number of trainable actor parameters: 48252930\n"
     ]
    }
   ],
   "source": [
    "trainer.set_trainee()"
   ]
  },
  {
   "cell_type": "code",
   "execution_count": 19,
   "metadata": {},
   "outputs": [
    {
     "name": "stdout",
     "output_type": "stream",
     "text": [
      "[INFO] initial learning rate: 0.000100\n"
     ]
    },
    {
     "data": {
      "application/vnd.jupyter.widget-view+json": {
       "model_id": "2715bf6305c9458d9d5660ac59e3d5b6",
       "version_major": 2,
       "version_minor": 0
      },
      "text/plain": [
       "  0%|          | 0/50000 [00:00<?, ?it/s]"
      ]
     },
     "metadata": {},
     "output_type": "display_data"
    },
    {
     "name": "stdout",
     "output_type": "stream",
     "text": [
      "running rec rate: 0.0\n",
      "running hit rate: 0.0\n",
      "102\n",
      "items recommended 0\n",
      "items actually clicked 2\n",
      "clicked items recommended 0\n",
      "tensor([[0.5070, 0.4930],\n",
      "        [0.5070, 0.4930],\n",
      "        [0.5072, 0.4928],\n",
      "        [0.5064, 0.4936],\n",
      "        [0.5067, 0.4933],\n",
      "        [0.5066, 0.4934],\n",
      "        [0.5064, 0.4936],\n",
      "        [0.5063, 0.4937],\n",
      "        [0.5065, 0.4935],\n",
      "        [0.5066, 0.4934],\n",
      "        [0.5065, 0.4935],\n",
      "        [0.5067, 0.4933],\n",
      "        [0.5071, 0.4929],\n",
      "        [0.5071, 0.4929],\n",
      "        [0.5072, 0.4928],\n",
      "        [0.5070, 0.4930],\n",
      "        [0.5070, 0.4930],\n",
      "        [0.5063, 0.4937],\n",
      "        [0.5068, 0.4932],\n",
      "        [0.5067, 0.4933],\n",
      "        [0.5068, 0.4932],\n",
      "        [0.5071, 0.4929],\n",
      "        [0.5068, 0.4932],\n",
      "        [0.5068, 0.4932],\n",
      "        [0.5072, 0.4928],\n",
      "        [0.5066, 0.4934],\n",
      "        [0.5068, 0.4932],\n",
      "        [0.5073, 0.4927],\n",
      "        [0.5061, 0.4939],\n",
      "        [0.5064, 0.4936],\n",
      "        [0.5068, 0.4932],\n",
      "        [0.5064, 0.4936],\n",
      "        [0.5069, 0.4931],\n",
      "        [0.5062, 0.4938],\n",
      "        [0.5066, 0.4934],\n",
      "        [0.5068, 0.4932],\n",
      "        [0.5068, 0.4932],\n",
      "        [0.5067, 0.4933],\n",
      "        [0.5068, 0.4932],\n",
      "        [0.5072, 0.4928],\n",
      "        [0.5066, 0.4934],\n",
      "        [0.5070, 0.4930],\n",
      "        [0.5071, 0.4929],\n",
      "        [0.5062, 0.4938],\n",
      "        [0.5067, 0.4933],\n",
      "        [0.5067, 0.4933],\n",
      "        [0.5065, 0.4935],\n",
      "        [0.5065, 0.4935],\n",
      "        [0.5063, 0.4937],\n",
      "        [0.5069, 0.4931],\n",
      "        [0.5068, 0.4932],\n",
      "        [0.5066, 0.4934],\n",
      "        [0.5064, 0.4936],\n",
      "        [0.5070, 0.4930],\n",
      "        [0.5073, 0.4927],\n",
      "        [0.5066, 0.4934],\n",
      "        [0.5071, 0.4929],\n",
      "        [0.5066, 0.4934],\n",
      "        [0.5071, 0.4929],\n",
      "        [0.5070, 0.4930],\n",
      "        [0.5065, 0.4935],\n",
      "        [0.5069, 0.4931],\n",
      "        [0.5065, 0.4935],\n",
      "        [0.5068, 0.4932],\n",
      "        [0.5069, 0.4931],\n",
      "        [0.5064, 0.4936],\n",
      "        [0.5063, 0.4937],\n",
      "        [0.5067, 0.4933],\n",
      "        [0.5064, 0.4936],\n",
      "        [0.5066, 0.4934],\n",
      "        [0.5065, 0.4935],\n",
      "        [0.5066, 0.4934],\n",
      "        [0.5070, 0.4930],\n",
      "        [0.5068, 0.4932],\n",
      "        [0.5071, 0.4929],\n",
      "        [0.5069, 0.4931],\n",
      "        [0.5071, 0.4929],\n",
      "        [0.5064, 0.4936],\n",
      "        [0.5070, 0.4930],\n",
      "        [0.5070, 0.4930],\n",
      "        [0.5063, 0.4937],\n",
      "        [0.5066, 0.4934],\n",
      "        [0.5066, 0.4934],\n",
      "        [0.5070, 0.4930],\n",
      "        [0.5065, 0.4935],\n",
      "        [0.5066, 0.4934],\n",
      "        [0.5068, 0.4932],\n",
      "        [0.5070, 0.4930],\n",
      "        [0.5070, 0.4930],\n",
      "        [0.5069, 0.4931],\n",
      "        [0.5070, 0.4930],\n",
      "        [0.5063, 0.4937],\n",
      "        [0.5069, 0.4931],\n",
      "        [0.5068, 0.4932],\n",
      "        [0.5068, 0.4932],\n",
      "        [0.5069, 0.4931],\n",
      "        [0.5067, 0.4933],\n",
      "        [0.5071, 0.4929],\n",
      "        [0.5072, 0.4928],\n",
      "        [0.5072, 0.4928],\n",
      "        [0.5068, 0.4932],\n",
      "        [0.5066, 0.4934]], device='cuda:0', grad_fn=<SoftmaxBackward0>)\n",
      "[INFO] saving final model\n"
     ]
    }
   ],
   "source": [
    "trainer.train_REINFORCE()"
   ]
  },
  {
   "cell_type": "code",
   "execution_count": null,
   "metadata": {},
   "outputs": [],
   "source": []
  },
  {
   "attachments": {},
   "cell_type": "markdown",
   "metadata": {},
   "source": [
    "# C51"
   ]
  },
  {
   "cell_type": "code",
   "execution_count": null,
   "metadata": {},
   "outputs": [],
   "source": [
    "model_name = \"c51\"\n",
    "device = torch.device(\"cuda\" if torch.cuda.is_available() else \"cpu\")\n",
    "print(device)\n",
    "\n",
    "to_embed = \"title_and_abstract\"\n",
    "pos_replay_memory_path = os.path.join(\n",
    "    constants.TRAIN_PATH,\n",
    "    \"replay_memory\",\n",
    "    \"positive_samples.ftr\"\n",
    ")\n",
    "neg_replay_memory_path = os.path.join(\n",
    "    constants.TRAIN_PATH,\n",
    "    \"replay_memory\",\n",
    "    \"negative_samples.ftr\"\n",
    ")\n",
    "\n",
    "encoder_params = {\n",
    "    \"method\": \"stack\",\n",
    "    \"weighted\": True,\n",
    "    \"alpha\": 0.999, # Ignored, if weighted == False\n",
    "    \"history_max_len\": 15,\n",
    "    \"embedding_size\": 768\n",
    "}\n",
    "learning_params = {\n",
    "    \"learning_rate\": 1e-4,\n",
    "    \"learning_decay_rate\": 0.65,\n",
    "    \"gamma\": 0.8,\n",
    "    \"pos_mem_pref\": 0.5,\n",
    "    \"n_steps\": 1_000_000,\n",
    "    \"freq_lr_schedule\": 1_000_000,\n",
    "    \"freq_checkpoint_save\": 500_000,\n",
    "    \"freq_target_update\": 500,\n",
    "    \"soft_target_update\": False,\n",
    "    \"tau\": 0.005,\n",
    "}\n",
    "model_params = {\n",
    "    \"state_size\": 12288,\n",
    "    \"item_size\": 768,\n",
    "    \"hidden_size\": 2048\n",
    "}"
   ]
  },
  {
   "cell_type": "code",
   "execution_count": null,
   "metadata": {},
   "outputs": [],
   "source": [
    "trainer = Trainer(\n",
    "    model_name, device, to_embed,\n",
    "    pos_replay_memory_path, neg_replay_memory_path,\n",
    "    encoder_params, learning_params, model_params\n",
    ")"
   ]
  },
  {
   "cell_type": "code",
   "execution_count": null,
   "metadata": {},
   "outputs": [],
   "source": [
    "trainer.set_trainee_C51()"
   ]
  },
  {
   "cell_type": "code",
   "execution_count": null,
   "metadata": {},
   "outputs": [],
   "source": [
    "trainer.train_C51(64, True)"
   ]
  },
  {
   "attachments": {},
   "cell_type": "markdown",
   "metadata": {},
   "source": [
    "# QR-DQN"
   ]
  },
  {
   "cell_type": "code",
   "execution_count": null,
   "metadata": {},
   "outputs": [],
   "source": [
    "model_name = \"qr-dqn-test\"\n",
    "device = torch.device(\"cuda\" if torch.cuda.is_available() else \"cpu\")\n",
    "print(device)\n",
    "\n",
    "to_embed = \"title_and_abstract\"\n",
    "pos_replay_memory_path = os.path.join(\n",
    "    constants.TRAIN_PATH,\n",
    "    \"replay_memory\",\n",
    "    \"positive_samples.ftr\"\n",
    ")\n",
    "neg_replay_memory_path = os.path.join(\n",
    "    constants.TRAIN_PATH,\n",
    "    \"replay_memory\",\n",
    "    \"negative_samples.ftr\"\n",
    ")\n",
    "\n",
    "encoder_params = {\n",
    "    \"method\": \"mean\",\n",
    "    \"weighted\": True,\n",
    "    \"alpha\": 0.999, # Ignored, if weighted == False\n",
    "    \"history_max_len\": 20,\n",
    "    \"embedding_size\": 768\n",
    "}\n",
    "learning_params = {\n",
    "    \"learning_rate\": 1e-4,\n",
    "    \"learning_decay_rate\": 0.65,\n",
    "    \"gamma\": 0.8,\n",
    "    \"pos_mem_pref\": 0.5,\n",
    "    \"n_steps\": 4_000_000,\n",
    "    \"freq_lr_schedule\": 1_000_000,\n",
    "    \"freq_checkpoint_save\": 1_000_000,\n",
    "    \"freq_target_update\": 500,\n",
    "    \"soft_target_update\": False,\n",
    "    \"tau\": 0.005,\n",
    "}\n",
    "model_params = {\n",
    "    \"state_size\": 768,\n",
    "    \"item_size\": 768,\n",
    "    \"hidden_size\": 2048\n",
    "}"
   ]
  },
  {
   "cell_type": "code",
   "execution_count": null,
   "metadata": {},
   "outputs": [],
   "source": [
    "trainer = Trainer(\n",
    "    model_name, device, to_embed,\n",
    "    pos_replay_memory_path, neg_replay_memory_path,\n",
    "    encoder_params, learning_params, model_params\n",
    ")"
   ]
  },
  {
   "cell_type": "code",
   "execution_count": null,
   "metadata": {},
   "outputs": [],
   "source": [
    "trainer.set_trainee_QRDQN()"
   ]
  },
  {
   "cell_type": "code",
   "execution_count": null,
   "metadata": {},
   "outputs": [],
   "source": [
    "trainer.train_QRDQN(128, True)"
   ]
  },
  {
   "attachments": {},
   "cell_type": "markdown",
   "metadata": {},
   "source": [
    "# IQN"
   ]
  },
  {
   "cell_type": "code",
   "execution_count": null,
   "metadata": {},
   "outputs": [],
   "source": [
    "model_name = \"iqn\"\n",
    "device = torch.device(\"cuda\" if torch.cuda.is_available() else \"cpu\")\n",
    "print(device)\n",
    "\n",
    "to_embed = \"title_and_abstract\"\n",
    "pos_replay_memory_path = os.path.join(\n",
    "    constants.TRAIN_PATH,\n",
    "    \"replay_memory\",\n",
    "    \"positive_samples.ftr\"\n",
    ")\n",
    "neg_replay_memory_path = os.path.join(\n",
    "    constants.TRAIN_PATH,\n",
    "    \"replay_memory\",\n",
    "    \"negative_samples.ftr\"\n",
    ")\n",
    "\n",
    "encoder_params = {\n",
    "    \"method\": \"mean\",\n",
    "    \"weighted\": True,\n",
    "    \"alpha\": 0.999, # Ignored, if weighted == False\n",
    "    \"history_max_len\": 20,\n",
    "    \"embedding_size\": 768\n",
    "}\n",
    "learning_params = {\n",
    "    \"learning_rate\": 1e-4,\n",
    "    \"learning_decay_rate\": 0.75,\n",
    "    \"gamma\": 0.8,\n",
    "    \"pos_mem_pref\": 0.5,\n",
    "    \"n_steps\": 8_000_000,\n",
    "    \"freq_lr_schedule\": 1_000_000,\n",
    "    \"freq_checkpoint_save\": 1_000_000,\n",
    "    \"freq_target_update\": 500,\n",
    "    \"soft_target_update\": False,\n",
    "    \"tau\": 0.005,\n",
    "}\n",
    "model_params = {\n",
    "    \"state_size\": 768,\n",
    "    \"item_size\": 768,\n",
    "    \"hidden_size\": 2048\n",
    "}"
   ]
  },
  {
   "cell_type": "code",
   "execution_count": null,
   "metadata": {},
   "outputs": [],
   "source": [
    "trainer = Trainer(\n",
    "    model_name, device, to_embed,\n",
    "    pos_replay_memory_path, neg_replay_memory_path,\n",
    "    encoder_params, learning_params, model_params\n",
    ")"
   ]
  },
  {
   "cell_type": "code",
   "execution_count": null,
   "metadata": {},
   "outputs": [],
   "source": [
    "trainer.set_trainee_IQN()"
   ]
  },
  {
   "cell_type": "code",
   "execution_count": null,
   "metadata": {},
   "outputs": [],
   "source": [
    "trainer.train_IQN(64, True)"
   ]
  },
  {
   "attachments": {},
   "cell_type": "markdown",
   "metadata": {},
   "source": [
    "# FPF"
   ]
  },
  {
   "cell_type": "code",
   "execution_count": null,
   "metadata": {},
   "outputs": [],
   "source": [
    "model_name = \"fpf\"\n",
    "device = torch.device(\"cuda\" if torch.cuda.is_available() else \"cpu\")\n",
    "print(device)\n",
    "\n",
    "to_embed = \"title_and_abstract\"\n",
    "pos_replay_memory_path = os.path.join(\n",
    "    constants.TRAIN_PATH,\n",
    "    \"replay_memory\",\n",
    "    \"positive_samples.ftr\"\n",
    ")\n",
    "neg_replay_memory_path = os.path.join(\n",
    "    constants.TRAIN_PATH,\n",
    "    \"replay_memory\",\n",
    "    \"negative_samples.ftr\"\n",
    ")\n",
    "\n",
    "encoder_params = {\n",
    "    \"method\": \"mean\",\n",
    "    \"weighted\": True,\n",
    "    \"alpha\": 0.999, # Ignored, if weighted == False\n",
    "    \"history_max_len\": 20,\n",
    "    \"embedding_size\": 768\n",
    "}\n",
    "learning_params = {\n",
    "    \"learning_rate\": 1e-4,\n",
    "    \"learning_decay_rate\": 0.65,\n",
    "    \"gamma\": 0.8,\n",
    "    \"pos_mem_pref\": 0.5,\n",
    "    \"n_steps\": 2_000_000,\n",
    "    \"freq_lr_schedule\": 1_000_000,\n",
    "    \"freq_checkpoint_save\": 1_000_000,\n",
    "    \"freq_target_update\": 500,\n",
    "    \"soft_target_update\": False,\n",
    "    \"tau\": 0.005,\n",
    "}\n",
    "model_params = {\n",
    "    \"state_size\": 768,\n",
    "    \"item_size\": 768,\n",
    "    \"hidden_size\": 2048\n",
    "}"
   ]
  },
  {
   "cell_type": "code",
   "execution_count": null,
   "metadata": {},
   "outputs": [],
   "source": [
    "trainer = Trainer(\n",
    "    model_name, device, to_embed,\n",
    "    pos_replay_memory_path, neg_replay_memory_path,\n",
    "    encoder_params, learning_params, model_params\n",
    ")"
   ]
  },
  {
   "cell_type": "code",
   "execution_count": null,
   "metadata": {},
   "outputs": [],
   "source": [
    "trainer.set_trainee_FPF()"
   ]
  },
  {
   "cell_type": "code",
   "execution_count": null,
   "metadata": {},
   "outputs": [],
   "source": [
    "trainer.train_FPF(32, True)"
   ]
  }
 ],
 "metadata": {
  "kernelspec": {
   "display_name": "drlnrs",
   "language": "python",
   "name": "python3"
  },
  "language_info": {
   "codemirror_mode": {
    "name": "ipython",
    "version": 3
   },
   "file_extension": ".py",
   "mimetype": "text/x-python",
   "name": "python",
   "nbconvert_exporter": "python",
   "pygments_lexer": "ipython3",
   "version": "3.7.16"
  },
  "orig_nbformat": 4
 },
 "nbformat": 4,
 "nbformat_minor": 2
}
