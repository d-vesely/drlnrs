{
 "cells": [
  {
   "cell_type": "code",
   "execution_count": 1,
   "metadata": {},
   "outputs": [],
   "source": [
    "import torch\n",
    "import os\n",
    "\n",
    "from src.rl.evaluators.evaluator_dqn import EvaluatorDQN\n",
    "from src.rl.evaluators.evaluator_c51 import EvaluatorC51\n",
    "from src.rl.evaluators.evaluator_qr import EvaluatorQR\n",
    "from src.rl.evaluators.evaluator_iqn import EvaluatorIQN\n",
    "from src.rl.evaluators.evaluator_fqf import EvaluatorFQF\n",
    "from src.rl.evaluators.evaluator_ddpg import EvaluatorDDPG\n",
    "from src.rl.evaluators.evaluator_td3 import EvaluatorTD3\n",
    "from src.rl.evaluators.evaluator_reinforce import EvaluatorREINFORCE"
   ]
  },
  {
   "cell_type": "code",
   "execution_count": 2,
   "metadata": {},
   "outputs": [],
   "source": [
    "%load_ext autoreload\n",
    "%autoreload 2"
   ]
  },
  {
   "attachments": {},
   "cell_type": "markdown",
   "metadata": {},
   "source": [
    "# Random Baseline\n",
    "\n",
    "In the following cell, we create random predictions to be used as a lower bound baseline. We get random baselines for the average return on the development set, as well as predictions on the test set to be evaluated via the MIND competition."
   ]
  },
  {
   "cell_type": "code",
   "execution_count": null,
   "metadata": {},
   "outputs": [],
   "source": [
    "from csv import writer\n",
    "from io import StringIO\n",
    "import numpy as np\n",
    "import pandas as pd\n",
    "from tqdm.auto import tqdm\n",
    "\n",
    "import src.constants as constants\n",
    "from src.common_utils import read_pickled_data"
   ]
  },
  {
   "cell_type": "code",
   "execution_count": null,
   "metadata": {},
   "outputs": [],
   "source": [
    "# Change the values, if wanted\n",
    "seeds = [7, 42]"
   ]
  },
  {
   "cell_type": "code",
   "execution_count": null,
   "metadata": {},
   "outputs": [],
   "source": [
    "eval_data = read_pickled_data([\n",
    "    constants.DEV_PATH,\n",
    "    \"preprocessed\",\n",
    "    \"behaviors.pkl\"\n",
    "])\n",
    "model_dir = os.path.join(\n",
    "    constants.MODELS_PATH,\n",
    "    \"Baseline\"\n",
    ")\n",
    "gamma = 0.9"
   ]
  },
  {
   "cell_type": "code",
   "execution_count": null,
   "metadata": {},
   "outputs": [],
   "source": [
    "for seed in seeds:\n",
    "    results = StringIO()\n",
    "    csv_writer = writer(results)\n",
    "    columns = [\"checkpoint\", \"mean_return\"]\n",
    "    csv_writer.writerow(columns)\n",
    "\n",
    "    pred_dir_name = \"predictions\" if seed is None else f\"predictions_{seed}\"\n",
    "    pred_dir = os.path.join(\n",
    "        model_dir,\n",
    "        pred_dir_name\n",
    "    )\n",
    "    if not os.path.exists(pred_dir):\n",
    "        os.makedirs(pred_dir)\n",
    "    #! Set seed\n",
    "    np.random.seed(seed)\n",
    "\n",
    "    returns = []\n",
    "\n",
    "    for row in tqdm(eval_data.itertuples(), total=len(eval_data)):\n",
    "        shown_news = row.shown_news\n",
    "        clicked_news = set(row.clicked_news)\n",
    "\n",
    "        # Randomly order candidates\n",
    "        np.random.shuffle(shown_news)\n",
    "        \n",
    "        # Compute return\n",
    "        G = 0\n",
    "        for t, news_id in enumerate(shown_news):\n",
    "            reward = 0\n",
    "            if news_id in clicked_news:\n",
    "                reward = 1\n",
    "            G += ((gamma**t) * reward)\n",
    "        returns.append(G)\n",
    "\n",
    "    # Compute average return\n",
    "    mean_return = np.array(returns).mean()\n",
    "    csv_writer.writerow([\"Baseline\", mean_return])\n",
    "\n",
    "    print(f\"[INFO] writing evaluation results file to {pred_dir}\")\n",
    "    results.seek(0)\n",
    "    data_eval_results = pd.read_csv(results)\n",
    "    data_eval_results.to_csv(\n",
    "        os.path.join(pred_dir, \"eval_results.txt\"),\n",
    "        sep='\\t',\n",
    "        index=False,\n",
    "        header=True\n",
    "    )"
   ]
  },
  {
   "attachments": {},
   "cell_type": "markdown",
   "metadata": {},
   "source": [
    "### Development Set\n",
    "\n",
    "We compute the average return for multiple random baselines, as well as the average over all baselines."
   ]
  },
  {
   "attachments": {},
   "cell_type": "markdown",
   "metadata": {},
   "source": [
    "# Evaluation"
   ]
  },
  {
   "cell_type": "code",
   "execution_count": 3,
   "metadata": {},
   "outputs": [
    {
     "name": "stdout",
     "output_type": "stream",
     "text": [
      "[INFO] device: cuda\n",
      "[INFO] preparing predictions directory\n",
      "[INFO] reading config files\n",
      "[INFO] model checkpoints: ['dqn_1.pth', 'dqn_2.pth', 'dqn_3.pth', 'dqn_4.pth', 'dqn_5.pth', 'dqn_6.pth', 'dqn_7.pth', 'dqn_8.pth', 'dqn_final.pth']\n",
      "[INFO] preparing data and sampler\n",
      "[DONE] evaluator initialized\n",
      "[INFO] evaluating 'DQN-n-m-w99', checkpoint 'dqn_1.pth'\n"
     ]
    },
    {
     "data": {
      "application/vnd.jupyter.widget-view+json": {
       "model_id": "bdd626986c9d4d489ce9ca246fad2825",
       "version_major": 2,
       "version_minor": 0
      },
      "text/plain": [
       "  0%|          | 0/376471 [00:00<?, ?it/s]"
      ]
     },
     "metadata": {},
     "output_type": "display_data"
    },
    {
     "name": "stdout",
     "output_type": "stream",
     "text": [
      "[RESULT] Return: 0.6574\n",
      "[INFO] evaluating 'DQN-n-m-w99', checkpoint 'dqn_2.pth'\n"
     ]
    },
    {
     "data": {
      "application/vnd.jupyter.widget-view+json": {
       "model_id": "3665dc3d9aab44dbaefd0b6fedf0d20d",
       "version_major": 2,
       "version_minor": 0
      },
      "text/plain": [
       "  0%|          | 0/376471 [00:00<?, ?it/s]"
      ]
     },
     "metadata": {},
     "output_type": "display_data"
    },
    {
     "name": "stdout",
     "output_type": "stream",
     "text": [
      "[RESULT] Return: 0.7120\n",
      "[INFO] evaluating 'DQN-n-m-w99', checkpoint 'dqn_3.pth'\n"
     ]
    },
    {
     "data": {
      "application/vnd.jupyter.widget-view+json": {
       "model_id": "708b41b255c1489ca15c433a4cc7262f",
       "version_major": 2,
       "version_minor": 0
      },
      "text/plain": [
       "  0%|          | 0/376471 [00:00<?, ?it/s]"
      ]
     },
     "metadata": {},
     "output_type": "display_data"
    },
    {
     "name": "stdout",
     "output_type": "stream",
     "text": [
      "[RESULT] Return: 0.7399\n",
      "[INFO] evaluating 'DQN-n-m-w99', checkpoint 'dqn_4.pth'\n"
     ]
    },
    {
     "data": {
      "application/vnd.jupyter.widget-view+json": {
       "model_id": "36f994b7751b4837ae5f105af478c16a",
       "version_major": 2,
       "version_minor": 0
      },
      "text/plain": [
       "  0%|          | 0/376471 [00:00<?, ?it/s]"
      ]
     },
     "metadata": {},
     "output_type": "display_data"
    },
    {
     "name": "stdout",
     "output_type": "stream",
     "text": [
      "[RESULT] Return: 0.7512\n",
      "[INFO] evaluating 'DQN-n-m-w99', checkpoint 'dqn_5.pth'\n"
     ]
    },
    {
     "data": {
      "application/vnd.jupyter.widget-view+json": {
       "model_id": "41643309e2964c378de9d338f8c09625",
       "version_major": 2,
       "version_minor": 0
      },
      "text/plain": [
       "  0%|          | 0/376471 [00:00<?, ?it/s]"
      ]
     },
     "metadata": {},
     "output_type": "display_data"
    },
    {
     "name": "stdout",
     "output_type": "stream",
     "text": [
      "[RESULT] Return: 0.7698\n",
      "[INFO] evaluating 'DQN-n-m-w99', checkpoint 'dqn_6.pth'\n"
     ]
    },
    {
     "data": {
      "application/vnd.jupyter.widget-view+json": {
       "model_id": "362fac1ab96d4451a29f9f8bd10fe677",
       "version_major": 2,
       "version_minor": 0
      },
      "text/plain": [
       "  0%|          | 0/376471 [00:00<?, ?it/s]"
      ]
     },
     "metadata": {},
     "output_type": "display_data"
    },
    {
     "name": "stdout",
     "output_type": "stream",
     "text": [
      "[RESULT] Return: 0.7720\n",
      "[INFO] evaluating 'DQN-n-m-w99', checkpoint 'dqn_7.pth'\n"
     ]
    },
    {
     "data": {
      "application/vnd.jupyter.widget-view+json": {
       "model_id": "a6bb41f2a47444479ced3d7bfab6f673",
       "version_major": 2,
       "version_minor": 0
      },
      "text/plain": [
       "  0%|          | 0/376471 [00:00<?, ?it/s]"
      ]
     },
     "metadata": {},
     "output_type": "display_data"
    },
    {
     "name": "stdout",
     "output_type": "stream",
     "text": [
      "[RESULT] Return: 0.7780\n",
      "[INFO] evaluating 'DQN-n-m-w99', checkpoint 'dqn_8.pth'\n"
     ]
    },
    {
     "data": {
      "application/vnd.jupyter.widget-view+json": {
       "model_id": "b2d5246c6bc347cba53e35907ac972e3",
       "version_major": 2,
       "version_minor": 0
      },
      "text/plain": [
       "  0%|          | 0/376471 [00:00<?, ?it/s]"
      ]
     },
     "metadata": {},
     "output_type": "display_data"
    },
    {
     "name": "stdout",
     "output_type": "stream",
     "text": [
      "[RESULT] Return: 0.7787\n",
      "[INFO] evaluating 'DQN-n-m-w99', checkpoint 'dqn_final.pth'\n"
     ]
    },
    {
     "data": {
      "application/vnd.jupyter.widget-view+json": {
       "model_id": "1b90af0a0eb9438faac4eb7dab46ea4f",
       "version_major": 2,
       "version_minor": 0
      },
      "text/plain": [
       "  0%|          | 0/376471 [00:00<?, ?it/s]"
      ]
     },
     "metadata": {},
     "output_type": "display_data"
    },
    {
     "name": "stdout",
     "output_type": "stream",
     "text": [
      "[RESULT] Return: 0.7799\n",
      "[INFO] writing evaluation results file to c:\\workbench\\developer\\drlnrs\\models\\DQN-n-m-w99\\predictions_42\n",
      "[DONE] evaluation completed\n"
     ]
    }
   ],
   "source": [
    "development = True\n",
    "model_name = \"DQN-n-m-w99\"\n",
    "device = torch.device(\"cuda\" if torch.cuda.is_available() else \"cpu\")\n",
    "\n",
    "evaluator = EvaluatorDQN(development, model_name, device, seed=42)\n",
    "evaluator.set_evaluatee()\n",
    "evaluator.evaluate()"
   ]
  },
  {
   "cell_type": "code",
   "execution_count": 4,
   "metadata": {},
   "outputs": [
    {
     "name": "stdout",
     "output_type": "stream",
     "text": [
      "[INFO] device: cuda\n",
      "[INFO] preparing predictions directory\n",
      "[INFO] reading config files\n",
      "[INFO] model checkpoints: ['actor_1.pth', 'actor_2.pth', 'actor_3.pth', 'actor_4.pth', 'actor_5.pth', 'actor_final.pth', 'critic_1.pth', 'critic_2.pth', 'critic_3.pth', 'critic_4.pth', 'critic_5.pth', 'critic_final.pth']\n",
      "[INFO] preparing data and sampler\n",
      "[DONE] evaluator initialized\n",
      "[INFO] evaluating 'DDPG', checkpoint '('c:\\\\workbench\\\\developer\\\\drlnrs\\\\models\\\\DDPG\\\\checkpoints_7\\\\actor_1.pth', 'c:\\\\workbench\\\\developer\\\\drlnrs\\\\models\\\\DDPG\\\\checkpoints_7\\\\critic_1.pth')'\n"
     ]
    },
    {
     "data": {
      "application/vnd.jupyter.widget-view+json": {
       "model_id": "556efb6af8a04dd9b005854983660343",
       "version_major": 2,
       "version_minor": 0
      },
      "text/plain": [
       "  0%|          | 0/376471 [00:00<?, ?it/s]"
      ]
     },
     "metadata": {},
     "output_type": "display_data"
    },
    {
     "name": "stdout",
     "output_type": "stream",
     "text": [
      "[RESULT] Return: 0.5792\n",
      "[INFO] evaluating 'DDPG', checkpoint '('c:\\\\workbench\\\\developer\\\\drlnrs\\\\models\\\\DDPG\\\\checkpoints_7\\\\actor_2.pth', 'c:\\\\workbench\\\\developer\\\\drlnrs\\\\models\\\\DDPG\\\\checkpoints_7\\\\critic_2.pth')'\n"
     ]
    },
    {
     "data": {
      "application/vnd.jupyter.widget-view+json": {
       "model_id": "4557024a58054597944f8d63d7aa9331",
       "version_major": 2,
       "version_minor": 0
      },
      "text/plain": [
       "  0%|          | 0/376471 [00:00<?, ?it/s]"
      ]
     },
     "metadata": {},
     "output_type": "display_data"
    },
    {
     "name": "stdout",
     "output_type": "stream",
     "text": [
      "[RESULT] Return: 0.5996\n",
      "[INFO] evaluating 'DDPG', checkpoint '('c:\\\\workbench\\\\developer\\\\drlnrs\\\\models\\\\DDPG\\\\checkpoints_7\\\\actor_3.pth', 'c:\\\\workbench\\\\developer\\\\drlnrs\\\\models\\\\DDPG\\\\checkpoints_7\\\\critic_3.pth')'\n"
     ]
    },
    {
     "data": {
      "application/vnd.jupyter.widget-view+json": {
       "model_id": "8de77242b3954645981c7efc6ee9a736",
       "version_major": 2,
       "version_minor": 0
      },
      "text/plain": [
       "  0%|          | 0/376471 [00:00<?, ?it/s]"
      ]
     },
     "metadata": {},
     "output_type": "display_data"
    },
    {
     "name": "stdout",
     "output_type": "stream",
     "text": [
      "[RESULT] Return: 0.6148\n",
      "[INFO] evaluating 'DDPG', checkpoint '('c:\\\\workbench\\\\developer\\\\drlnrs\\\\models\\\\DDPG\\\\checkpoints_7\\\\actor_4.pth', 'c:\\\\workbench\\\\developer\\\\drlnrs\\\\models\\\\DDPG\\\\checkpoints_7\\\\critic_4.pth')'\n"
     ]
    },
    {
     "data": {
      "application/vnd.jupyter.widget-view+json": {
       "model_id": "e3547bfab3cf42ab8d47db6d55f14ac8",
       "version_major": 2,
       "version_minor": 0
      },
      "text/plain": [
       "  0%|          | 0/376471 [00:00<?, ?it/s]"
      ]
     },
     "metadata": {},
     "output_type": "display_data"
    },
    {
     "name": "stdout",
     "output_type": "stream",
     "text": [
      "[RESULT] Return: 0.5971\n",
      "[INFO] evaluating 'DDPG', checkpoint '('c:\\\\workbench\\\\developer\\\\drlnrs\\\\models\\\\DDPG\\\\checkpoints_7\\\\actor_5.pth', 'c:\\\\workbench\\\\developer\\\\drlnrs\\\\models\\\\DDPG\\\\checkpoints_7\\\\critic_5.pth')'\n"
     ]
    },
    {
     "data": {
      "application/vnd.jupyter.widget-view+json": {
       "model_id": "289a636bb34a4c808f4266efb0ce6931",
       "version_major": 2,
       "version_minor": 0
      },
      "text/plain": [
       "  0%|          | 0/376471 [00:00<?, ?it/s]"
      ]
     },
     "metadata": {},
     "output_type": "display_data"
    },
    {
     "name": "stdout",
     "output_type": "stream",
     "text": [
      "[RESULT] Return: 0.6270\n",
      "[INFO] evaluating 'DDPG', checkpoint '('c:\\\\workbench\\\\developer\\\\drlnrs\\\\models\\\\DDPG\\\\checkpoints_7\\\\actor_final.pth', 'c:\\\\workbench\\\\developer\\\\drlnrs\\\\models\\\\DDPG\\\\checkpoints_7\\\\critic_final.pth')'\n"
     ]
    },
    {
     "data": {
      "application/vnd.jupyter.widget-view+json": {
       "model_id": "14e9ebb372744efeb02d454cd81fcd28",
       "version_major": 2,
       "version_minor": 0
      },
      "text/plain": [
       "  0%|          | 0/376471 [00:00<?, ?it/s]"
      ]
     },
     "metadata": {},
     "output_type": "display_data"
    },
    {
     "name": "stdout",
     "output_type": "stream",
     "text": [
      "[RESULT] Return: 0.6306\n",
      "[INFO] writing evaluation results file to c:\\workbench\\developer\\drlnrs\\models\\DDPG\\predictions_7\n",
      "[DONE] evaluation completed\n"
     ]
    }
   ],
   "source": [
    "development = True\n",
    "model_name = \"DDPG\"\n",
    "device = torch.device(\"cuda\" if torch.cuda.is_available() else \"cpu\")\n",
    "\n",
    "evaluator = EvaluatorDDPG(development, model_name, device, seed=7)\n",
    "evaluator.set_evaluatee(involved=\"a\")\n",
    "evaluator.evaluate()"
   ]
  },
  {
   "cell_type": "code",
   "execution_count": 6,
   "metadata": {},
   "outputs": [
    {
     "name": "stdout",
     "output_type": "stream",
     "text": [
      "[INFO] device: cuda\n",
      "[INFO] preparing predictions directory\n",
      "[INFO] reading config files\n",
      "[INFO] model checkpoints: ['actor_1.pth', 'actor_2.pth', 'actor_3.pth', 'actor_4.pth', 'actor_5.pth', 'actor_final.pth', 'critic_1.pth', 'critic_2.pth', 'critic_3.pth', 'critic_4.pth', 'critic_5.pth', 'critic_final.pth']\n",
      "[INFO] preparing data and sampler\n",
      "[DONE] evaluator initialized\n",
      "[INFO] evaluating 'DDPG', checkpoint '('c:\\\\workbench\\\\developer\\\\drlnrs\\\\models\\\\DDPG\\\\checkpoints_42\\\\actor_1.pth', 'c:\\\\workbench\\\\developer\\\\drlnrs\\\\models\\\\DDPG\\\\checkpoints_42\\\\critic_1.pth')'\n"
     ]
    },
    {
     "data": {
      "application/vnd.jupyter.widget-view+json": {
       "model_id": "fc8bb7e3529b401e9ce8434f44b970be",
       "version_major": 2,
       "version_minor": 0
      },
      "text/plain": [
       "  0%|          | 0/376471 [00:00<?, ?it/s]"
      ]
     },
     "metadata": {},
     "output_type": "display_data"
    },
    {
     "name": "stdout",
     "output_type": "stream",
     "text": [
      "[RESULT] Return: 0.6304\n",
      "[INFO] evaluating 'DDPG', checkpoint '('c:\\\\workbench\\\\developer\\\\drlnrs\\\\models\\\\DDPG\\\\checkpoints_42\\\\actor_2.pth', 'c:\\\\workbench\\\\developer\\\\drlnrs\\\\models\\\\DDPG\\\\checkpoints_42\\\\critic_2.pth')'\n"
     ]
    },
    {
     "data": {
      "application/vnd.jupyter.widget-view+json": {
       "model_id": "2d3b1c5433cb40d4b1064eb74793f62c",
       "version_major": 2,
       "version_minor": 0
      },
      "text/plain": [
       "  0%|          | 0/376471 [00:00<?, ?it/s]"
      ]
     },
     "metadata": {},
     "output_type": "display_data"
    },
    {
     "name": "stdout",
     "output_type": "stream",
     "text": [
      "[RESULT] Return: 0.6180\n",
      "[INFO] evaluating 'DDPG', checkpoint '('c:\\\\workbench\\\\developer\\\\drlnrs\\\\models\\\\DDPG\\\\checkpoints_42\\\\actor_3.pth', 'c:\\\\workbench\\\\developer\\\\drlnrs\\\\models\\\\DDPG\\\\checkpoints_42\\\\critic_3.pth')'\n"
     ]
    },
    {
     "data": {
      "application/vnd.jupyter.widget-view+json": {
       "model_id": "dc2884bd9fa4426d92585a11e33afd9c",
       "version_major": 2,
       "version_minor": 0
      },
      "text/plain": [
       "  0%|          | 0/376471 [00:00<?, ?it/s]"
      ]
     },
     "metadata": {},
     "output_type": "display_data"
    },
    {
     "name": "stdout",
     "output_type": "stream",
     "text": [
      "[RESULT] Return: 0.6184\n",
      "[INFO] evaluating 'DDPG', checkpoint '('c:\\\\workbench\\\\developer\\\\drlnrs\\\\models\\\\DDPG\\\\checkpoints_42\\\\actor_4.pth', 'c:\\\\workbench\\\\developer\\\\drlnrs\\\\models\\\\DDPG\\\\checkpoints_42\\\\critic_4.pth')'\n"
     ]
    },
    {
     "data": {
      "application/vnd.jupyter.widget-view+json": {
       "model_id": "7b70156d078a489db3063327b140a624",
       "version_major": 2,
       "version_minor": 0
      },
      "text/plain": [
       "  0%|          | 0/376471 [00:00<?, ?it/s]"
      ]
     },
     "metadata": {},
     "output_type": "display_data"
    },
    {
     "name": "stdout",
     "output_type": "stream",
     "text": [
      "[RESULT] Return: 0.6258\n",
      "[INFO] evaluating 'DDPG', checkpoint '('c:\\\\workbench\\\\developer\\\\drlnrs\\\\models\\\\DDPG\\\\checkpoints_42\\\\actor_5.pth', 'c:\\\\workbench\\\\developer\\\\drlnrs\\\\models\\\\DDPG\\\\checkpoints_42\\\\critic_5.pth')'\n"
     ]
    },
    {
     "data": {
      "application/vnd.jupyter.widget-view+json": {
       "model_id": "7d7ffc3e12034663b1db612ed7d1c299",
       "version_major": 2,
       "version_minor": 0
      },
      "text/plain": [
       "  0%|          | 0/376471 [00:00<?, ?it/s]"
      ]
     },
     "metadata": {},
     "output_type": "display_data"
    },
    {
     "name": "stdout",
     "output_type": "stream",
     "text": [
      "[RESULT] Return: 0.6298\n",
      "[INFO] evaluating 'DDPG', checkpoint '('c:\\\\workbench\\\\developer\\\\drlnrs\\\\models\\\\DDPG\\\\checkpoints_42\\\\actor_final.pth', 'c:\\\\workbench\\\\developer\\\\drlnrs\\\\models\\\\DDPG\\\\checkpoints_42\\\\critic_final.pth')'\n"
     ]
    },
    {
     "data": {
      "application/vnd.jupyter.widget-view+json": {
       "model_id": "4a7809f6cb4845deb8203774b9a46ea9",
       "version_major": 2,
       "version_minor": 0
      },
      "text/plain": [
       "  0%|          | 0/376471 [00:00<?, ?it/s]"
      ]
     },
     "metadata": {},
     "output_type": "display_data"
    },
    {
     "name": "stdout",
     "output_type": "stream",
     "text": [
      "[RESULT] Return: 0.6299\n",
      "[INFO] writing evaluation results file to c:\\workbench\\developer\\drlnrs\\models\\DDPG\\predictions_42\n",
      "[DONE] evaluation completed\n"
     ]
    }
   ],
   "source": [
    "development = True\n",
    "model_name = \"DDPG\"\n",
    "device = torch.device(\"cuda\" if torch.cuda.is_available() else \"cpu\")\n",
    "\n",
    "evaluator = EvaluatorDDPG(development, model_name, device, seed=42)\n",
    "evaluator.set_evaluatee(involved=\"a\")\n",
    "evaluator.evaluate()"
   ]
  },
  {
   "cell_type": "code",
   "execution_count": 7,
   "metadata": {},
   "outputs": [
    {
     "name": "stdout",
     "output_type": "stream",
     "text": [
      "[INFO] device: cuda\n",
      "[INFO] preparing predictions directory\n",
      "[INFO] reading config files\n",
      "[INFO] model checkpoints: ['actor_1.pth', 'actor_2.pth', 'actor_3.pth', 'actor_4.pth', 'actor_5.pth', 'actor_final.pth', 'critic_1.pth', 'critic_2.pth', 'critic_3.pth', 'critic_4.pth', 'critic_5.pth', 'critic_final.pth']\n",
      "[INFO] preparing data and sampler\n",
      "[DONE] evaluator initialized\n",
      "[INFO] evaluating 'DDPG', checkpoint '('c:\\\\workbench\\\\developer\\\\drlnrs\\\\models\\\\DDPG\\\\checkpoints_7\\\\actor_1.pth', 'c:\\\\workbench\\\\developer\\\\drlnrs\\\\models\\\\DDPG\\\\checkpoints_7\\\\critic_1.pth')'\n"
     ]
    },
    {
     "data": {
      "application/vnd.jupyter.widget-view+json": {
       "model_id": "39acadd7940047ae87aee41d80e0971d",
       "version_major": 2,
       "version_minor": 0
      },
      "text/plain": [
       "  0%|          | 0/376471 [00:00<?, ?it/s]"
      ]
     },
     "metadata": {},
     "output_type": "display_data"
    },
    {
     "name": "stdout",
     "output_type": "stream",
     "text": [
      "[RESULT] Return: 0.6155\n",
      "[INFO] evaluating 'DDPG', checkpoint '('c:\\\\workbench\\\\developer\\\\drlnrs\\\\models\\\\DDPG\\\\checkpoints_7\\\\actor_2.pth', 'c:\\\\workbench\\\\developer\\\\drlnrs\\\\models\\\\DDPG\\\\checkpoints_7\\\\critic_2.pth')'\n"
     ]
    },
    {
     "data": {
      "application/vnd.jupyter.widget-view+json": {
       "model_id": "3f77010ee9d24654b8b7184bac90fe62",
       "version_major": 2,
       "version_minor": 0
      },
      "text/plain": [
       "  0%|          | 0/376471 [00:00<?, ?it/s]"
      ]
     },
     "metadata": {},
     "output_type": "display_data"
    },
    {
     "name": "stdout",
     "output_type": "stream",
     "text": [
      "[RESULT] Return: 0.6703\n",
      "[INFO] evaluating 'DDPG', checkpoint '('c:\\\\workbench\\\\developer\\\\drlnrs\\\\models\\\\DDPG\\\\checkpoints_7\\\\actor_3.pth', 'c:\\\\workbench\\\\developer\\\\drlnrs\\\\models\\\\DDPG\\\\checkpoints_7\\\\critic_3.pth')'\n"
     ]
    },
    {
     "data": {
      "application/vnd.jupyter.widget-view+json": {
       "model_id": "28a7f95d331046cdb786f82c2d80bf68",
       "version_major": 2,
       "version_minor": 0
      },
      "text/plain": [
       "  0%|          | 0/376471 [00:00<?, ?it/s]"
      ]
     },
     "metadata": {},
     "output_type": "display_data"
    },
    {
     "name": "stdout",
     "output_type": "stream",
     "text": [
      "[RESULT] Return: 0.6802\n",
      "[INFO] evaluating 'DDPG', checkpoint '('c:\\\\workbench\\\\developer\\\\drlnrs\\\\models\\\\DDPG\\\\checkpoints_7\\\\actor_4.pth', 'c:\\\\workbench\\\\developer\\\\drlnrs\\\\models\\\\DDPG\\\\checkpoints_7\\\\critic_4.pth')'\n"
     ]
    },
    {
     "data": {
      "application/vnd.jupyter.widget-view+json": {
       "model_id": "12631d95480940ada9e77616ac046e34",
       "version_major": 2,
       "version_minor": 0
      },
      "text/plain": [
       "  0%|          | 0/376471 [00:00<?, ?it/s]"
      ]
     },
     "metadata": {},
     "output_type": "display_data"
    },
    {
     "name": "stdout",
     "output_type": "stream",
     "text": [
      "[RESULT] Return: 0.6830\n",
      "[INFO] evaluating 'DDPG', checkpoint '('c:\\\\workbench\\\\developer\\\\drlnrs\\\\models\\\\DDPG\\\\checkpoints_7\\\\actor_5.pth', 'c:\\\\workbench\\\\developer\\\\drlnrs\\\\models\\\\DDPG\\\\checkpoints_7\\\\critic_5.pth')'\n"
     ]
    },
    {
     "data": {
      "application/vnd.jupyter.widget-view+json": {
       "model_id": "85bde6008a9e4abf8a0c684e9dee684a",
       "version_major": 2,
       "version_minor": 0
      },
      "text/plain": [
       "  0%|          | 0/376471 [00:00<?, ?it/s]"
      ]
     },
     "metadata": {},
     "output_type": "display_data"
    },
    {
     "name": "stdout",
     "output_type": "stream",
     "text": [
      "[RESULT] Return: 0.7159\n",
      "[INFO] evaluating 'DDPG', checkpoint '('c:\\\\workbench\\\\developer\\\\drlnrs\\\\models\\\\DDPG\\\\checkpoints_7\\\\actor_final.pth', 'c:\\\\workbench\\\\developer\\\\drlnrs\\\\models\\\\DDPG\\\\checkpoints_7\\\\critic_final.pth')'\n"
     ]
    },
    {
     "data": {
      "application/vnd.jupyter.widget-view+json": {
       "model_id": "3518f2124dfc48a389ca3f9c57bb9619",
       "version_major": 2,
       "version_minor": 0
      },
      "text/plain": [
       "  0%|          | 0/376471 [00:00<?, ?it/s]"
      ]
     },
     "metadata": {},
     "output_type": "display_data"
    },
    {
     "name": "stdout",
     "output_type": "stream",
     "text": [
      "[RESULT] Return: 0.7153\n",
      "[INFO] writing evaluation results file to c:\\workbench\\developer\\drlnrs\\models\\DDPG\\predictions_7\n",
      "[DONE] evaluation completed\n"
     ]
    }
   ],
   "source": [
    "development = True\n",
    "model_name = \"DDPG\"\n",
    "device = torch.device(\"cuda\" if torch.cuda.is_available() else \"cpu\")\n",
    "\n",
    "evaluator = EvaluatorDDPG(development, model_name, device, seed=7)\n",
    "evaluator.set_evaluatee(involved=\"ac\")\n",
    "evaluator.evaluate()"
   ]
  },
  {
   "cell_type": "code",
   "execution_count": 8,
   "metadata": {},
   "outputs": [
    {
     "name": "stdout",
     "output_type": "stream",
     "text": [
      "[INFO] device: cuda\n",
      "[INFO] preparing predictions directory\n",
      "[INFO] reading config files\n",
      "[INFO] model checkpoints: ['actor_1.pth', 'actor_2.pth', 'actor_3.pth', 'actor_4.pth', 'actor_5.pth', 'actor_final.pth', 'critic_1.pth', 'critic_2.pth', 'critic_3.pth', 'critic_4.pth', 'critic_5.pth', 'critic_final.pth']\n",
      "[INFO] preparing data and sampler\n",
      "[DONE] evaluator initialized\n",
      "[INFO] evaluating 'DDPG', checkpoint '('c:\\\\workbench\\\\developer\\\\drlnrs\\\\models\\\\DDPG\\\\checkpoints_42\\\\actor_1.pth', 'c:\\\\workbench\\\\developer\\\\drlnrs\\\\models\\\\DDPG\\\\checkpoints_42\\\\critic_1.pth')'\n"
     ]
    },
    {
     "data": {
      "application/vnd.jupyter.widget-view+json": {
       "model_id": "9543965a1ff94ef399ff74cc333cc370",
       "version_major": 2,
       "version_minor": 0
      },
      "text/plain": [
       "  0%|          | 0/376471 [00:00<?, ?it/s]"
      ]
     },
     "metadata": {},
     "output_type": "display_data"
    },
    {
     "name": "stdout",
     "output_type": "stream",
     "text": [
      "[RESULT] Return: 0.6602\n",
      "[INFO] evaluating 'DDPG', checkpoint '('c:\\\\workbench\\\\developer\\\\drlnrs\\\\models\\\\DDPG\\\\checkpoints_42\\\\actor_2.pth', 'c:\\\\workbench\\\\developer\\\\drlnrs\\\\models\\\\DDPG\\\\checkpoints_42\\\\critic_2.pth')'\n"
     ]
    },
    {
     "data": {
      "application/vnd.jupyter.widget-view+json": {
       "model_id": "f76580d834814e4cbae46c488c748d14",
       "version_major": 2,
       "version_minor": 0
      },
      "text/plain": [
       "  0%|          | 0/376471 [00:00<?, ?it/s]"
      ]
     },
     "metadata": {},
     "output_type": "display_data"
    },
    {
     "name": "stdout",
     "output_type": "stream",
     "text": [
      "[RESULT] Return: 0.6801\n",
      "[INFO] evaluating 'DDPG', checkpoint '('c:\\\\workbench\\\\developer\\\\drlnrs\\\\models\\\\DDPG\\\\checkpoints_42\\\\actor_3.pth', 'c:\\\\workbench\\\\developer\\\\drlnrs\\\\models\\\\DDPG\\\\checkpoints_42\\\\critic_3.pth')'\n"
     ]
    },
    {
     "data": {
      "application/vnd.jupyter.widget-view+json": {
       "model_id": "b417ef7654fb4317a87acbf1c2ebf218",
       "version_major": 2,
       "version_minor": 0
      },
      "text/plain": [
       "  0%|          | 0/376471 [00:00<?, ?it/s]"
      ]
     },
     "metadata": {},
     "output_type": "display_data"
    },
    {
     "name": "stdout",
     "output_type": "stream",
     "text": [
      "[RESULT] Return: 0.6907\n",
      "[INFO] evaluating 'DDPG', checkpoint '('c:\\\\workbench\\\\developer\\\\drlnrs\\\\models\\\\DDPG\\\\checkpoints_42\\\\actor_4.pth', 'c:\\\\workbench\\\\developer\\\\drlnrs\\\\models\\\\DDPG\\\\checkpoints_42\\\\critic_4.pth')'\n"
     ]
    },
    {
     "data": {
      "application/vnd.jupyter.widget-view+json": {
       "model_id": "29427cab1edd4d3c99d20c27e9dc568a",
       "version_major": 2,
       "version_minor": 0
      },
      "text/plain": [
       "  0%|          | 0/376471 [00:00<?, ?it/s]"
      ]
     },
     "metadata": {},
     "output_type": "display_data"
    },
    {
     "name": "stdout",
     "output_type": "stream",
     "text": [
      "[RESULT] Return: 0.7052\n",
      "[INFO] evaluating 'DDPG', checkpoint '('c:\\\\workbench\\\\developer\\\\drlnrs\\\\models\\\\DDPG\\\\checkpoints_42\\\\actor_5.pth', 'c:\\\\workbench\\\\developer\\\\drlnrs\\\\models\\\\DDPG\\\\checkpoints_42\\\\critic_5.pth')'\n"
     ]
    },
    {
     "data": {
      "application/vnd.jupyter.widget-view+json": {
       "model_id": "9b3485320dd14c599a89021567fcb052",
       "version_major": 2,
       "version_minor": 0
      },
      "text/plain": [
       "  0%|          | 0/376471 [00:00<?, ?it/s]"
      ]
     },
     "metadata": {},
     "output_type": "display_data"
    },
    {
     "name": "stdout",
     "output_type": "stream",
     "text": [
      "[RESULT] Return: 0.7208\n",
      "[INFO] evaluating 'DDPG', checkpoint '('c:\\\\workbench\\\\developer\\\\drlnrs\\\\models\\\\DDPG\\\\checkpoints_42\\\\actor_final.pth', 'c:\\\\workbench\\\\developer\\\\drlnrs\\\\models\\\\DDPG\\\\checkpoints_42\\\\critic_final.pth')'\n"
     ]
    },
    {
     "data": {
      "application/vnd.jupyter.widget-view+json": {
       "model_id": "6d891edf3d5d4f87821fbb65eb4f5ec8",
       "version_major": 2,
       "version_minor": 0
      },
      "text/plain": [
       "  0%|          | 0/376471 [00:00<?, ?it/s]"
      ]
     },
     "metadata": {},
     "output_type": "display_data"
    },
    {
     "name": "stdout",
     "output_type": "stream",
     "text": [
      "[RESULT] Return: 0.7182\n",
      "[INFO] writing evaluation results file to c:\\workbench\\developer\\drlnrs\\models\\DDPG\\predictions_42\n",
      "[DONE] evaluation completed\n"
     ]
    }
   ],
   "source": [
    "development = True\n",
    "model_name = \"DDPG\"\n",
    "device = torch.device(\"cuda\" if torch.cuda.is_available() else \"cpu\")\n",
    "\n",
    "evaluator = EvaluatorDDPG(development, model_name, device, seed=42)\n",
    "evaluator.set_evaluatee(involved=\"ac\")\n",
    "evaluator.evaluate()"
   ]
  }
 ],
 "metadata": {
  "kernelspec": {
   "display_name": "drlnrs",
   "language": "python",
   "name": "python3"
  },
  "language_info": {
   "codemirror_mode": {
    "name": "ipython",
    "version": 3
   },
   "file_extension": ".py",
   "mimetype": "text/x-python",
   "name": "python",
   "nbconvert_exporter": "python",
   "pygments_lexer": "ipython3",
   "version": "3.7.16"
  },
  "orig_nbformat": 4
 },
 "nbformat": 4,
 "nbformat_minor": 2
}
