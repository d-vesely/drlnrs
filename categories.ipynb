{
 "cells": [
  {
   "cell_type": "code",
   "execution_count": null,
   "metadata": {},
   "outputs": [],
   "source": [
    "import pandas as pd\n",
    "import plotly.express as px\n",
    "\n",
    "from src.common_utils import read_pickled_data\n",
    "import src.constants as constants"
   ]
  },
  {
   "cell_type": "code",
   "execution_count": null,
   "metadata": {},
   "outputs": [],
   "source": [
    "%load_ext autoreload\n",
    "%autoreload 2"
   ]
  },
  {
   "cell_type": "markdown",
   "metadata": {},
   "source": [
    "Load news data."
   ]
  },
  {
   "cell_type": "code",
   "execution_count": null,
   "metadata": {},
   "outputs": [],
   "source": [
    "data_news = read_pickled_data([constants.CONCAT_ALL_PATH, \"preprocessed\", \"emb_news.pkl\"])"
   ]
  },
  {
   "cell_type": "markdown",
   "metadata": {},
   "source": [
    "List all categories with respective counts."
   ]
  },
  {
   "cell_type": "code",
   "execution_count": null,
   "metadata": {},
   "outputs": [],
   "source": [
    "category_count = pd.DataFrame(data_news[\"category\"].value_counts()).reset_index()\n",
    "category_count.columns = [\"category\", \"count\"]\n",
    "category_count"
   ]
  },
  {
   "cell_type": "markdown",
   "metadata": {},
   "source": [
    "Collect subcategory counts for each category and store in list."
   ]
  },
  {
   "cell_type": "code",
   "execution_count": null,
   "metadata": {},
   "outputs": [],
   "source": [
    "subcategory_counts = []\n",
    "for category in category_count[\"category\"]:\n",
    "    scc = data_news[data_news[\"category\"] == category][\"sub_category\"].value_counts()\n",
    "    scc_df = pd.DataFrame(scc).reset_index()\n",
    "    scc_df.columns = [\"sub_category\", \"count\"]\n",
    "    subcategory_counts.append((scc_df, category))"
   ]
  },
  {
   "cell_type": "markdown",
   "metadata": {},
   "source": [
    "Showcase all subcategories and their frequency for specific category."
   ]
  },
  {
   "cell_type": "code",
   "execution_count": null,
   "metadata": {},
   "outputs": [],
   "source": [
    "show_category = \"sports\"\n",
    "\n",
    "for scc, category in subcategory_counts:\n",
    "    if category != show_category:\n",
    "        continue\n",
    "    fig = px.bar(scc, y=\"sub_category\", x=\"count\", title=category)\n",
    "    fig.show()"
   ]
  }
 ],
 "metadata": {
  "kernelspec": {
   "display_name": "drlnrs",
   "language": "python",
   "name": "python3"
  },
  "language_info": {
   "codemirror_mode": {
    "name": "ipython",
    "version": 3
   },
   "file_extension": ".py",
   "mimetype": "text/x-python",
   "name": "python",
   "nbconvert_exporter": "python",
   "pygments_lexer": "ipython3",
   "version": "3.7.16"
  },
  "orig_nbformat": 4
 },
 "nbformat": 4,
 "nbformat_minor": 2
}
