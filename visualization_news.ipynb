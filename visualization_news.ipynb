{
 "cells": [
  {
   "cell_type": "code",
   "execution_count": null,
   "metadata": {
    "collapsed": true
   },
   "outputs": [],
   "source": [
    "import numpy as np\n",
    "import pandas as pd\n",
    "import plotly.express as px\n",
    "import plotly.graph_objects as go\n",
    "import plotly.io as pio\n",
    "pio.templates\n",
    "\n",
    "import src.constants as constants\n",
    "from src.common_utils import read_pickled_data"
   ]
  },
  {
   "attachments": {},
   "cell_type": "markdown",
   "metadata": {},
   "source": [
    "# Template"
   ]
  },
  {
   "cell_type": "code",
   "execution_count": null,
   "metadata": {},
   "outputs": [],
   "source": [
    "green = \"rgb(75, 184, 135)\"\n",
    "green_light = \"rgb(114, 224, 175)\"\n",
    "grey = \"rgb(158, 158, 158)\"\n",
    "grey_light = \"rgb(224, 224, 224)\"\n",
    "red = \"rgb(255, 33, 0)\"\n",
    "red_light = \"rgb(255, 71, 71)\"\n",
    "\n",
    "axis_common_dict = dict(\n",
    "    linecolor=\"black\",\n",
    "    linewidth=2,\n",
    "    ticks=\"outside\",\n",
    "    title=dict(standoff=15),\n",
    ")\n",
    "\n",
    "template = go.layout.Template()\n",
    "template.layout = dict(\n",
    "    paper_bgcolor=\"white\",\n",
    "    plot_bgcolor=grey_light,\n",
    "    colorway=[green_light, \"orange\"],\n",
    "    font=dict(color=\"black\"),\n",
    "    title=dict(\n",
    "        font=dict(size=18),\n",
    "        x=0.1, xanchor=\"left\",\n",
    "        y=0.9, yanchor=\"top\"\n",
    "    ),\n",
    "    xaxis=dict(\n",
    "        **axis_common_dict,\n",
    "    ),\n",
    "    yaxis=dict(\n",
    "        **axis_common_dict,\n",
    "        gridcolor=grey\n",
    "    )\n",
    ")\n",
    "template.data.histogram = [go.Histogram(marker=dict(line=dict(width=2, color=green)))]"
   ]
  },
  {
   "attachments": {},
   "cell_type": "markdown",
   "metadata": {},
   "source": [
    "# Reading Data and Stats"
   ]
  },
  {
   "cell_type": "code",
   "execution_count": null,
   "metadata": {
    "collapsed": false
   },
   "outputs": [],
   "source": [
    "data_news_pp = read_pickled_data([constants.CONCAT_ALL_PATH, \"preprocessed\", \"exp_news.pkl\"])"
   ]
  },
  {
   "attachments": {},
   "cell_type": "markdown",
   "metadata": {},
   "source": [
    "# Figures"
   ]
  },
  {
   "attachments": {},
   "cell_type": "markdown",
   "metadata": {},
   "source": [
    "Histogram of title length."
   ]
  },
  {
   "cell_type": "code",
   "execution_count": null,
   "metadata": {
    "collapsed": false
   },
   "outputs": [],
   "source": [
    "fig = px.histogram(\n",
    "    data_news_pp,\n",
    "    x=\"title_length\",\n",
    "    range_x=[0, 25],\n",
    "    labels={\n",
    "        \"title_length\": \"Title Length\",\n",
    "        \"count\": \"Number of Articles\" # Issue with plotly\n",
    "    },\n",
    "    title=\"Title Length Histogram\",\n",
    "    width=750, height=500,\n",
    "    template=template\n",
    ")\n",
    "fig.update_layout(yaxis_title=\"Number of Articles\")\n",
    "fig.update_yaxes(template.layout.yaxis)\n",
    "fig.update_xaxes(template.layout.xaxis)\n",
    "fig.update_xaxes(minor=dict(ticks=\"outside\", dtick=1))\n",
    "fig.show()\n",
    "fig.write_image(\"./visualizations/news/title_length_hist.pdf\")"
   ]
  },
  {
   "attachments": {},
   "cell_type": "markdown",
   "metadata": {},
   "source": [
    "Histogram of abstract length."
   ]
  },
  {
   "cell_type": "code",
   "execution_count": null,
   "metadata": {},
   "outputs": [],
   "source": [
    "fig = px.histogram(\n",
    "    data_news_pp,\n",
    "    x=\"abstract_length\",\n",
    "    range_x=[-1, 100],\n",
    "    labels={\n",
    "        \"abstract_length\": \"Abstract Length\",\n",
    "        \"count\": \"Number of Articles\" # Issue with plotly\n",
    "    },\n",
    "    title=\"Abstract Length Histogram\",\n",
    "    width=750, height=500,\n",
    "    template=template\n",
    ")\n",
    "fig.update_layout(yaxis_title=\"Number of Articles\")\n",
    "fig.update_yaxes(template.layout.yaxis)\n",
    "fig.update_xaxes(template.layout.xaxis)\n",
    "fig.update_xaxes(dtick=10, minor=dict(ticks=\"outside\", dtick=5))\n",
    "fig.show()\n",
    "fig.write_image(\"./visualizations/news/abstract_length_hist.pdf\")"
   ]
  },
  {
   "attachments": {},
   "cell_type": "markdown",
   "metadata": {},
   "source": [
    "Histogram of title length, with and without stopwords."
   ]
  },
  {
   "cell_type": "code",
   "execution_count": null,
   "metadata": {},
   "outputs": [],
   "source": [
    "df = pd.DataFrame({\n",
    "    \"Title Length\": np.concatenate(([\"Full Title\"]*len(data_news_pp), [\"Without Stopwords\"]*len(data_news_pp))),\n",
    "    \"data\": np.concatenate((data_news_pp[\"title_length\"], data_news_pp[\"title_no_stopwords_length\"]))\n",
    "})\n",
    "\n",
    "fig = px.histogram(\n",
    "    df,\n",
    "    x=\"data\",\n",
    "    range_x=[0, 25],\n",
    "    color=\"Title Length\",\n",
    "    labels={\n",
    "        \"data\": \"Title Length\",\n",
    "        \"count\": \"Number of Articles\" # Issue with plotly\n",
    "    },\n",
    "    title=\"Title Length Histogram\",\n",
    "    barmode=\"overlay\",\n",
    "    width=750, height=500,\n",
    "    template=template\n",
    ")\n",
    "fig.update_layout(yaxis_title=\"Number of Articles\")\n",
    "fig.update_yaxes(template.layout.yaxis)\n",
    "fig.update_xaxes(template.layout.xaxis)\n",
    "fig.update_xaxes(minor=dict(ticks=\"outside\", dtick=1))\n",
    "fig.update_traces(marker=dict(line=dict(width=2, color=\"white\")))\n",
    "fig.show()\n",
    "fig.write_image(\"./visualizations/news/title_length_stopword_hist.pdf\")"
   ]
  },
  {
   "attachments": {},
   "cell_type": "markdown",
   "metadata": {},
   "source": [
    "Boxplot of title length."
   ]
  },
  {
   "cell_type": "code",
   "execution_count": null,
   "metadata": {},
   "outputs": [],
   "source": [
    "fig = px.box(\n",
    "    data_news_pp,\n",
    "    x=\"title_length\",\n",
    "    range_x=[0, 25],\n",
    "    title=\"Title Length Boxplot\",\n",
    "    labels={\n",
    "        \"title_length\": \"Title Length\",\n",
    "    },\n",
    "    width=750, height=500,\n",
    "    template=template\n",
    ")\n",
    "fig.update_xaxes(template.layout.xaxis)\n",
    "fig.update_xaxes(minor=dict(ticks=\"outside\", dtick=1))\n",
    "fig.show()\n",
    "fig.write_image(\"./visualizations/news/title_length_boxplot.pdf\")"
   ]
  },
  {
   "attachments": {},
   "cell_type": "markdown",
   "metadata": {},
   "source": [
    "Histogram of abstract length, with and without stopwords."
   ]
  },
  {
   "cell_type": "code",
   "execution_count": null,
   "metadata": {
    "collapsed": false
   },
   "outputs": [],
   "source": [
    "df = pd.DataFrame({\n",
    "    \"Abstract Length\": np.concatenate(([\"Full Abstract\"]*len(data_news_pp), [\"Without Stopwords\"]*len(data_news_pp))),\n",
    "    \"data\": np.concatenate((data_news_pp[\"abstract_length\"], data_news_pp[\"abstract_no_stopwords_length\"]))\n",
    "})\n",
    "\n",
    "fig = px.histogram(\n",
    "    df,\n",
    "    x=\"data\",\n",
    "    color=\"Abstract Length\",\n",
    "    range_x=[-1, 100],\n",
    "    labels={\n",
    "        \"data\": \"Abstract Length\",\n",
    "        \"count\": \"Number of Articles\" # Issue with plotly\n",
    "    },\n",
    "    title=\"Abstract Length Histogram\",\n",
    "    barmode=\"overlay\",\n",
    "    width=750, height=500,\n",
    "    template=template\n",
    ")\n",
    "fig.update_layout(yaxis_title=\"Number of Articles\")\n",
    "fig.update_traces(marker=dict(line=dict(width=2, color=\"white\")))\n",
    "fig.update_yaxes(template.layout.yaxis)\n",
    "fig.update_xaxes(template.layout.xaxis)\n",
    "fig.update_xaxes(dtick=10, minor=dict(ticks=\"outside\", dtick=5))\n",
    "fig.show()\n",
    "fig.write_image(\"./visualizations/abstract_length_stopword_hist.pdf\")"
   ]
  },
  {
   "attachments": {},
   "cell_type": "markdown",
   "metadata": {},
   "source": [
    "Boxplot of abstract length."
   ]
  },
  {
   "cell_type": "code",
   "execution_count": null,
   "metadata": {},
   "outputs": [],
   "source": [
    "fig = px.box(\n",
    "    data_news_pp,\n",
    "    x=\"abstract_length\",\n",
    "    range_x=[0, 250],\n",
    "    title=\"Abstract Length Boxplot\",\n",
    "    labels={\n",
    "        \"abstract_length\": \"Abstract Length\",\n",
    "    },\n",
    "    width=750, height=500,\n",
    "    template=template\n",
    ")\n",
    "fig.update_xaxes(template.layout.xaxis)\n",
    "fig.update_xaxes(minor=dict(ticks=\"outside\", dtick=50))\n",
    "fig.show()\n",
    "fig.write_image(\"./visualizations/news/abstract_length_boxplot.pdf\")"
   ]
  },
  {
   "attachments": {},
   "cell_type": "markdown",
   "metadata": {},
   "source": [
    "Histogram of lenghts of concatenations of title and abstract."
   ]
  },
  {
   "cell_type": "code",
   "execution_count": null,
   "metadata": {},
   "outputs": [],
   "source": [
    "df = pd.DataFrame({\n",
    "    \"Title and Abstract Length\": np.concatenate(([\"Full Title and Abstract\"]*len(data_news_pp), [\"Without Stopwords\"]*len(data_news_pp))),\n",
    "    \"data\": np.concatenate((data_news_pp[\"title_and_abstract_length\"], data_news_pp[\"title_and_abstract_no_stopwords_length\"]))\n",
    "})\n",
    "\n",
    "fig = px.histogram(\n",
    "    df,\n",
    "    x=\"data\",\n",
    "    color=\"Title and Abstract Length\",\n",
    "    range_x=[0, 110],\n",
    "    labels={\n",
    "        \"data\": \"Title and Abstract Length\",\n",
    "        \"count\": \"Number of Articles\" # Issue with plotly\n",
    "    },\n",
    "    title=\"Title and Abstract Length Histogram\",\n",
    "    barmode=\"overlay\",\n",
    "    width=750, height=500,\n",
    "    template=template\n",
    ")\n",
    "fig.update_layout(yaxis_title=\"Number of Articles\")\n",
    "fig.update_traces(marker=dict(line=dict(width=2, color=\"white\")))\n",
    "fig.update_xaxes(template.layout.xaxis)\n",
    "fig.update_yaxes(template.layout.yaxis)\n",
    "fig.update_xaxes(dtick=10, minor=dict(ticks=\"outside\", dtick=5))\n",
    "fig.show()\n",
    "fig.write_image(\"./visualizations/news/title_and_abstract_length_stopword_hist.pdf\")"
   ]
  },
  {
   "attachments": {},
   "cell_type": "markdown",
   "metadata": {},
   "source": [
    "Boxplot of lenghts of concatenations of title and abstract."
   ]
  },
  {
   "cell_type": "code",
   "execution_count": null,
   "metadata": {},
   "outputs": [],
   "source": [
    "fig = px.box(\n",
    "    data_news_pp,\n",
    "    x=\"title_and_abstract_length\",\n",
    "    range_x=[0, 300],\n",
    "    title=\"Lengths of Article Concatenated Titles and Abstracts\",\n",
    "    labels={\n",
    "        \"title_and_abstract_length\": \"Title and Abstract Length\",\n",
    "    },\n",
    "    width=750, height=500,\n",
    "    template=template\n",
    ")\n",
    "fig.update_xaxes(template.layout.xaxis)\n",
    "fig.show()\n",
    "fig.write_image(\"./visualizations/news/title_and_abstract_length_boxplot.pdf\")"
   ]
  },
  {
   "cell_type": "code",
   "execution_count": null,
   "metadata": {},
   "outputs": [],
   "source": [
    "data_news_pp[\"title_and_abstract_length\"].describe(percentiles=[0.25, 0.5, 0.75, 0.9, 0.99])"
   ]
  },
  {
   "attachments": {},
   "cell_type": "markdown",
   "metadata": {},
   "source": [
    "Histogram of article survival times."
   ]
  },
  {
   "cell_type": "code",
   "execution_count": null,
   "metadata": {},
   "outputs": [],
   "source": [
    "survival_time_hrs = np.array(data_news_pp[\"survival_time_hrs\"])\n",
    "survival_time_hrs = survival_time_hrs[np.where(survival_time_hrs > 0)]\n",
    "fig = px.histogram(\n",
    "    x=survival_time_hrs,\n",
    "    range_x=[-1, 72],\n",
    "    labels={\n",
    "        \"x\": \"Survival Time in Hours\",\n",
    "        \"count\": \"Number of Articles\" # Issue with plotly\n",
    "    },\n",
    "    title=\"Article Survival Time in Hours\",\n",
    "    width=750, height=500,\n",
    "    template=template\n",
    ")\n",
    "fig.update_xaxes(template.layout.xaxis)\n",
    "fig.update_yaxes(template.layout.yaxis)\n",
    "fig.update_layout(yaxis_title=\"Number of Articles\")\n",
    "fig.update_xaxes(minor=dict(ticks=\"outside\", dtick=5))\n",
    "fig.show()\n",
    "fig.write_image(\"./visualizations/news/survival_time_hist.pdf\")"
   ]
  },
  {
   "cell_type": "code",
   "execution_count": null,
   "metadata": {},
   "outputs": [],
   "source": [
    "data_news_pp[data_news_pp[\"survival_time_hrs\"] != 0][\"survival_time_hrs\"].describe(percentiles=[0.25, 0.5, 0.75, 0.9, 0.95])"
   ]
  },
  {
   "attachments": {},
   "cell_type": "markdown",
   "metadata": {},
   "source": [
    "Histogram of number of times articles are shown."
   ]
  },
  {
   "cell_type": "code",
   "execution_count": null,
   "metadata": {},
   "outputs": [],
   "source": [
    "fig = px.histogram(\n",
    "    data_news_pp[data_news_pp[\"shown\"] != 0],\n",
    "    x=\"shown\",\n",
    "    range_x=[0, 300],\n",
    "    nbins=100000,\n",
    "    labels={\n",
    "        \"shown\": \"Amount Shown\",\n",
    "        \"count\": \"Number of Articles\" # Issue with plotly\n",
    "    },\n",
    "    title=\"Number of Times Articles are Shown\",\n",
    "    width=750, height=500,\n",
    "    template=template\n",
    ")\n",
    "fig.update_xaxes(template.layout.xaxis)\n",
    "fig.update_yaxes(template.layout.yaxis)\n",
    "fig.update_layout(yaxis_title=\"Number of Articles\")\n",
    "fig.show()\n",
    "fig.write_image(\"./visualizations/news/news_shown_hist.pdf\")"
   ]
  },
  {
   "cell_type": "code",
   "execution_count": null,
   "metadata": {},
   "outputs": [],
   "source": [
    "data_news_pp[data_news_pp[\"shown\"] != 0][\"shown\"].describe(percentiles=[0.25, 0.5, 0.75, 0.9, 0.99])"
   ]
  },
  {
   "attachments": {},
   "cell_type": "markdown",
   "metadata": {},
   "source": [
    "Histogram of number of times articles are clicked."
   ]
  },
  {
   "cell_type": "code",
   "execution_count": null,
   "metadata": {},
   "outputs": [],
   "source": [
    "fig = px.histogram(\n",
    "    data_news_pp[data_news_pp[\"clicked\"] != 0],\n",
    "    x=\"clicked\",\n",
    "    range_x=[0, 30],\n",
    "    nbins=100000,\n",
    "    labels={\n",
    "        \"clicked\": \"Amount Clicked\",\n",
    "        \"count\": \"Number of Articles\" # Issue with plotly\n",
    "    },\n",
    "    title=\"Number of Times Articles are Clicked\",\n",
    "    width=750, height=500,\n",
    "    template=template\n",
    ")\n",
    "fig.update_xaxes(template.layout.xaxis)\n",
    "fig.update_yaxes(template.layout.yaxis)\n",
    "fig.update_layout(yaxis_title=\"Number of Articles\")\n",
    "fig.show()\n",
    "fig.write_image(\"./visualizations/news/news_clicked_hist.pdf\")"
   ]
  },
  {
   "cell_type": "code",
   "execution_count": null,
   "metadata": {},
   "outputs": [],
   "source": [
    "data_news_pp[data_news_pp[\"clicked\"] != 0][\"clicked\"].describe(percentiles=[0.25, 0.5, 0.75, 0.9, 0.99])"
   ]
  },
  {
   "attachments": {},
   "cell_type": "markdown",
   "metadata": {},
   "source": [
    "News engagement percentages."
   ]
  },
  {
   "cell_type": "code",
   "execution_count": null,
   "metadata": {},
   "outputs": [],
   "source": [
    "fig = px.histogram(\n",
    "    data_news_pp[data_news_pp[\"engagement_percentage\"] != 0],\n",
    "    nbins=100,\n",
    "    x=\"engagement_percentage\",\n",
    "    labels={\n",
    "        \"engagement_percentage\": \"Percentage Clicked\",\n",
    "        \"count\": \"Number of Articles\" # Issue with plotly\n",
    "    },\n",
    "    title=\"Percentage Articles are Engaged with\",\n",
    "    width=750, height=500,\n",
    "    template=template\n",
    ")\n",
    "fig.update_xaxes(template.layout.xaxis)\n",
    "fig.update_yaxes(template.layout.yaxis)\n",
    "fig.update_layout(yaxis_title=\"Number of Articles\")\n",
    "fig.show()\n",
    "fig.write_image(\"./visualizations/news/engagement_percent_hist.pdf\")"
   ]
  },
  {
   "cell_type": "code",
   "execution_count": null,
   "metadata": {},
   "outputs": [],
   "source": [
    "data_news_pp[data_news_pp[\"engagement_percentage\"] != 0][\"engagement_percentage\"].describe(percentiles=[0.25, 0.5, 0.75, 0.9, 0.99])"
   ]
  }
 ],
 "metadata": {
  "kernelspec": {
   "display_name": "drlnrs",
   "language": "python",
   "name": "python3"
  },
  "language_info": {
   "codemirror_mode": {
    "name": "ipython",
    "version": 3
   },
   "file_extension": ".py",
   "mimetype": "text/x-python",
   "name": "python",
   "nbconvert_exporter": "python",
   "pygments_lexer": "ipython3",
   "version": "3.7.16"
  },
  "vscode": {
   "interpreter": {
    "hash": "c3a871892b3c67473474f80d2a65da800da93289bc0b004e1295ce64be9e1442"
   }
  }
 },
 "nbformat": 4,
 "nbformat_minor": 0
}
